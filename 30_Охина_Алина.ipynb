{
 "cells": [
  {
   "cell_type": "markdown",
   "metadata": {
    "id": "ZDwT9go7WZsU"
   },
   "source": [
    " # Блок 1. Анализ данных"
   ]
  },
  {
   "cell_type": "code",
   "execution_count": null,
   "metadata": {
    "colab": {
     "base_uri": "https://localhost:8080/"
    },
    "id": "EaRRSzxqDzR5",
    "outputId": "afe2b7dd-fa89-4636-a1f6-60bf9ee6c75c"
   },
   "outputs": [
    {
     "name": "stdout",
     "output_type": "stream",
     "text": [
      "Mounted at /content/drive\n"
     ]
    }
   ],
   "source": [
    "from google.colab import drive\n",
    "drive.mount('/content/drive')"
   ]
  },
  {
   "cell_type": "code",
   "execution_count": null,
   "metadata": {
    "colab": {
     "base_uri": "https://localhost:8080/"
    },
    "id": "gvfyiI6REpNc",
    "outputId": "b48e5aa3-de24-4ba0-c30e-2b2386cf82a0"
   },
   "outputs": [
    {
     "data": {
      "text/plain": [
       "['sample_submission.csv', 'train.csv', 'test.csv']"
      ]
     },
     "execution_count": 2,
     "metadata": {},
     "output_type": "execute_result"
    }
   ],
   "source": [
    "import zipfile\n",
    "import os\n",
    "\n",
    "zip_path = '/content/drive/MyDrive/dl-2025-study-competition-2.zip'\n",
    "extract_path = '/content/data'\n",
    "\n",
    "with zipfile.ZipFile(zip_path, 'r') as zip_ref:\n",
    "    zip_ref.extractall(extract_path)\n",
    "\n",
    "os.listdir(extract_path)"
   ]
  },
  {
   "cell_type": "code",
   "execution_count": null,
   "metadata": {
    "id": "1988JUb_VoKe"
   },
   "outputs": [],
   "source": [
    "import pandas as pd\n",
    "import numpy as np\n",
    "import torch\n",
    "import torch.nn as nn\n",
    "from torch.utils.data import Dataset, DataLoader\n",
    "from sklearn.model_selection import train_test_split\n",
    "from sklearn.feature_extraction.text import TfidfVectorizer\n",
    "from sklearn.metrics import f1_score\n",
    "import matplotlib.pyplot as plt\n",
    "import copy\n",
    "import re\n",
    "import nltk\n",
    "from nltk.corpus import stopwords\n",
    "from nltk.stem import SnowballStemmer"
   ]
  },
  {
   "cell_type": "code",
   "execution_count": null,
   "metadata": {
    "colab": {
     "base_uri": "https://localhost:8080/",
     "height": 206
    },
    "id": "OHZEsSupE_BA",
    "outputId": "de6e0e2f-8ac4-4b52-d182-ad24b74ff047"
   },
   "outputs": [
    {
     "data": {
      "application/vnd.google.colaboratory.intrinsic+json": {
       "summary": "{\n  \"name\": \"df\",\n  \"rows\": 29568,\n  \"fields\": [\n    {\n      \"column\": \"id\",\n      \"properties\": {\n        \"dtype\": \"number\",\n        \"std\": 8535,\n        \"min\": 0,\n        \"max\": 29567,\n        \"num_unique_values\": 29568,\n        \"samples\": [\n          28267,\n          15603,\n          7839\n        ],\n        \"semantic_type\": \"\",\n        \"description\": \"\"\n      }\n    },\n    {\n      \"column\": \"text\",\n      \"properties\": {\n        \"dtype\": \"string\",\n        \"num_unique_values\": 26967,\n        \"samples\": [\n          \"\\u0411\\u0435\\u0441\\u043f\\u043b\\u0430\\u0442\\u043d\\u0430\\u044f \\u043f\\u0435\\u0440\\u0441\\u043e\\u043d\\u0430\\u043b\\u044c\\u043d\\u0430\\u044f \\u0432\\u044b\\u0441\\u0442\\u0430\\u0432\\u043a\\u0430 \\u0444\\u0440\\u0430\\u043d\\u0446\\u0443\\u0437\\u0441\\u043a\\u043e\\u0433\\u043e \\u0445\\u0443\\u0434\\u043e\\u0436\\u043d\\u0438\\u043a\\u0430 Maotik \\u00ab\\u0418\\u043c\\u043f\\u0443\\u043b\\u044c\\u0441\\u00bb\\n\\ud83d\\udd52\\n\\u0414\\u043e 31 \\u043c\\u0430\\u0440\\u0442\\u0430; \\u0432\\u0442 - \\u0432\\u0441 \\u0441 11:00 \\u0434\\u043e 21:00\\n\\u00ab\\u0418\\u043c\\u043f\\u0443\\u043b\\u044c\\u0441\\u00bb \\u043e\\u0431\\u044a\\u0435\\u0434\\u0438\\u043d\\u044f\\u0435\\u0442 \\u0448\\u0435\\u0441\\u0442\\u044c \\u0438\\u043c\\u043c\\u0435\\u0440\\u0441\\u0438\\u0432\\u043d\\u044b\\u0445 \\u0440\\u0430\\u0431\\u043e\\u0442, \\u043e\\u0434\\u043d\\u0430 \\u0438\\u0437 \\u043a\\u043e\\u0442\\u043e\\u0440\\u044b\\u0445 \\u0441\\u043f\\u0435\\u0446\\u0438\\u0430\\u043b\\u044c\\u043d\\u043e \\u0441\\u043e\\u0437\\u0434\\u0430\\u043d\\u0430 \\u0434\\u043b\\u044f \\u0433\\u0430\\u043b\\u0435\\u0440\\u0435\\u0438: \\u044d\\u0442\\u043e \\u043f\\u0443\\u0442\\u0435\\u0448\\u0435\\u0441\\u0442\\u0432\\u0438\\u0435 \\u043f\\u043e \\u043d\\u0435\\u043e\\u0431\\u044b\\u0447\\u043d\\u043e\\u043c\\u0443 \\u043f\\u0440\\u043e\\u0441\\u0442\\u0440\\u0430\\u043d\\u0441\\u0442\\u0432\\u0443, \\u0433\\u0434\\u0435 \\u043c\\u043e\\u0436\\u043d\\u043e \\u0443\\u043f\\u0440\\u0430\\u0432\\u043b\\u044f\\u0442\\u044c \\u0441\\u0442\\u0430\\u0435\\u0439 \\u044d\\u043b\\u0435\\u043a\\u0442\\u0440\\u0438\\u0447\\u0435\\u0441\\u043a\\u0438\\u0445 \\u0441\\u0432\\u0435\\u0442\\u043b\\u044f\\u0447\\u043a\\u043e\\u0432, \\u0433\\u0434\\u0435 \\u043e\\u0442 \\u0434\\u0432\\u0438\\u0436\\u0435\\u043d\\u0438\\u044f \\u0440\\u0443\\u043a\\u0438 \\u0440\\u0430\\u0441\\u0446\\u0432\\u0435\\u0442\\u0430\\u044e\\u0442 \\u0446\\u0438\\u0444\\u0440\\u043e\\u0432\\u044b\\u0435 \\u0441\\u0430\\u0434\\u044b \\u0438 \\u0433\\u0434\\u0435 \\u0441\\u0430\\u043c\\u043e\\u043c\\u0443 \\u043c\\u043e\\u0436\\u043d\\u043e \\u0443\\u0441\\u0442\\u0440\\u043e\\u0438\\u0442\\u044c \\u0430\\u0443\\u0434\\u0438\\u043e\\u0432\\u0438\\u0437\\u0443\\u0430\\u043b\\u044c\\u043d\\u043e\\u0435 \\u043f\\u0440\\u0435\\u0434\\u0441\\u0442\\u0430\\u0432\\u043b\\u0435\\u043d\\u0438\\u0435.\\n\\ud83c\\udfab\\n\\u0412\\u0445\\u043e\\u0434 \\u0441\\u0432\\u043e\\u0431\\u043e\\u0434\\u043d\\u044b\\u0439\\n\\u043f\\u043e \\u0440\\u0435\\u0433\\u0438\\u0441\\u0442\\u0440\\u0430\\u0446\\u0438\\u0438\\n\\ud83d\\udccd\\n\\u0413\\u0430\\u043b\\u0435\\u0440\\u0435\\u044f \\u0446\\u0438\\u0444\\u0440\\u043e\\u0432\\u043e\\u0433\\u043e \\u0438\\u0441\\u043a\\u0443\\u0441\\u0441\\u0442\\u0432\\u0430 \\u00ab\\u0426\\u0438\\u0444\\u0435\\u0440\\u0433\\u0430\\u0443\\u0437\\u00bb, \\u043d\\u0430\\u0431. \\u0410\\u0434\\u043c\\u0438\\u0440\\u0430\\u043b\\u0442\\u0435\\u0439\\u0441\\u043a\\u043e\\u0433\\u043e \\u043a\\u0430\\u043d\\u0430\\u043b\\u0430, 2\\u0418\\n\\u0411\\u0435\\u0441\\u043f\\u043b\\u0430\\u0442\\u043d\\u044b\\u0439 \\u041f\\u0438\\u0442\\u0435\\u0440\\n\\ud83d\\udc48\",\n          \"\\ud83c\\udfd6\\n\\u0422\\u041e\\u041f \\u043c\\u0435\\u0441\\u0442 \\u0434\\u043b\\u044f \\u043f\\u043b\\u044f\\u0436\\u043d\\u043e\\u0433\\u043e\\n\\u043e\\u0442\\u0434\\u044b\\u0445\\u0430 \\u0432 \\u0420\\u043e\\u0441\\u0442\\u043e\\u0432\\u0441\\u043a\\u043e\\u0439 \\u043e\\u0431\\u043b\\u0430\\u0441\\u0442\\u0438\\n\\u25ab\\ufe0f\\n\\u041f\\u043b\\u044f\\u0436\\u0438 \\u0423\\u0441\\u0442\\u044c-\\u0414\\u043e\\u043d\\u0435\\u0446\\u043a\\u043e\\u0433\\u043e \\u0440\\u0430\\u0439\\u043e\\u043d\\u0430 \\u0432 \\u0441\\u0442\\u0430\\u043d\\u0438\\u0446\\u0430\\u0445 \\u0420\\u0430\\u0437\\u0434\\u043e\\u0440\\u0441\\u043a\\u0430\\u044f, \\u041f\\u0443\\u0445\\u043b\\u044f\\u043a\\u043e\\u0432\\u0441\\u043a\\u0430\\u044f, \\u041c\\u0435\\u043b\\u0438\\u0445\\u043e\\u0432\\u0441\\u043a\\u0430\\u044f\\n\\u25ab\\ufe0f\\n\\\"\\u042d\\u043b\\u044c\\u0434\\u043e\\u0440\\u0430\\u0434\\u043e\\\" - \\u043f\\u043e\\u0441. \\u0427\\u0438\\u0441\\u0442\\u043e\\u0437\\u0435\\u0440\\u043d\\u044b\\u0439\\n\\u25ab\\ufe0f\\n\\u041f\\u043b\\u044f\\u0436 \\u041a\\u0430\\u0440\\u0440\\u0435\\u0440\\u0430 - \\u0443\\u043b. \\u041f\\u0435\\u0441\\u043a\\u043e\\u0432\\u0430, 17, \\u0420\\u043e\\u0441\\u0442\\u043e\\u0432-\\u043d\\u0430-\\u0414\\u043e\\u043d\\u0443\\n\\u25ab\\ufe0f\\n\\u041a\\u0430\\u043d\\u044c\\u043e\\u043d \\\"\\u0416\\u0438\\u0440\\u043d\\u043e\\u0432\\\" \\u0432 \\u0422\\u0430\\u0446\\u0438\\u043d\\u0441\\u043a\\u043e\\u043c \\u0440\\u0430\\u0439\\u043e\\u043d\\u0435 - 200 \\u043a\\u043c \\u043e\\u0442 \\u0420\\u043e\\u0441\\u0442\\u043e\\u0432\\u0430, \\u0410\\u043f\\u0430\\u043d\\u0430\\u0441\\u043e\\u0432\\u043a\\u0430, \\u0443\\u043b. \\u0428\\u043e\\u0441\\u0441\\u0435\\u0439\\u043d\\u0430\\u044f, 1\\n\\u25ab\\ufe0f\\n\\u041f\\u0430\\u0432\\u043b\\u043e-\\u041e\\u0447\\u0430\\u043a\\u043e\\u0432\\u0441\\u043a\\u0430\\u044f \\u043a\\u043e\\u0441\\u0430 \\u0410\\u0437\\u043e\\u0432\\u0441\\u043a\\u0438\\u0439 \\u0440\\u0430\\u0439\\u043e\\u043d\\n\\u25ab\\ufe0f\\n\\u041a\\u0440\\u0430\\u0441\\u043d\\u043e\\u0441\\u0443\\u043b\\u0438\\u043d\\u0441\\u043a\\u0438\\u0439 \\u043a\\u0430\\u043d\\u044c\\u043e\\u043d\\n\\u25ab\\ufe0f\\n\\u0413\\u043e\\u043b\\u0443\\u0431\\u044b\\u0435 \\u043e\\u0437\\u0435\\u0440\\u0430. \\u041f\\u043b\\u044f\\u0436 \\\"\\u0412\\u043e\\u0434\\u043e\\u043b\\u0435\\u0439\\\". \\u041a\\u043e\\u043e\\u0440\\u0434\\u0438\\u043d\\u0430\\u0442\\u044b: 47.150748, 39.663379\\n\\u25ab\\ufe0f\\n\\u041a\\u0430\\u0440\\u044c\\u0435\\u0440 \\u043c\\u0435\\u0436\\u0434\\u0443 \\u0413\\u0443\\u043a\\u043e\\u0432\\u043e \\u0438 \\u043f\\u043e\\u0441. \\u0423\\u0433\\u043b\\u0435\\u0440\\u043e\\u0434. \\u041a\\u043e\\u043e\\u0440\\u0434\\u0438\\u043d\\u0430\\u0442\\u044b: 48.118587, 40.001754\\n\\u25ab\\ufe0f\\n\\u041f\\u043b\\u044f\\u0436 \\u0432 \\u0421\\u0442\\u0430\\u0440\\u043e\\u0447\\u0435\\u0440\\u043a\\u0430\\u0441\\u0441\\u043a\\u0435.\\n\\u25ab\\ufe0f\\n\\u0411\\u0435\\u0433\\u043b\\u0438\\u0446\\u043a\\u0430\\u044f \\u043a\\u043e\\u0441\\u0430 \\u0422\\u0430\\u0433\\u0430\\u043d\\u0440\\u043e\\u0433\\u0441\\u043a\\u043e\\u0433\\u043e \\u0437\\u0430\\u043b\\u0438\\u0432\\u0430 \\u041a\\u043e\\u043e\\u0440\\u0434\\u0438\\u043d\\u0430\\u0442\\u044b 47.125220, 38.552602\\n\\u25ab\\ufe0f\\n\\u041f\\u043b\\u044f\\u0436\\u0438 \\u0438 \\u043f\\u043e\\u0431\\u0435\\u0440\\u0435\\u0436\\u044c\\u0435 \\u0426\\u0438\\u043c\\u043b\\u044f\\u043d\\u0441\\u043a\\u043e\\u0433\\u043e \\u043c\\u043e\\u0440\\u044f (\\u0432\\u043e\\u0434\\u043e\\u0445\\u0440\\u0430\\u043d\\u0438\\u043b\\u0438\\u0449\\u0430)\\n\\u25ab\\ufe0f\\n\\u041f\\u0435\\u0441\\u0447\\u0430\\u043d\\u044b\\u0435 \\u043f\\u043e\\u0431\\u0435\\u0440\\u0435\\u0436\\u044c\\u044f \\u0414\\u043e\\u043d\\u0430 \\u0432 \\u0433. \\u0421\\u0435\\u043c\\u0438\\u043a\\u0430\\u0440\\u0430\\u043a\\u043e\\u0440\\u0441\\u043a\\n\\u25ab\\ufe0f\\n\\u0413\\u043e\\u043b\\u0443\\u0431\\u043e\\u0435 \\u043e\\u0437\\u0435\\u0440\\u043e \\u0432 \\u0441\\u0435\\u043b\\u0435 \\u0421\\u0430\\u043c\\u0430\\u0440\\u0441\\u043a\\u043e\\u043c. \\u0420\\u0430\\u0441\\u0441\\u0442\\u043e\\u044f\\u043d\\u0438\\u0435: 40\\n\\u043a\\u043c \\u043e\\u0442 \\u0420\\u043e\\u0441\\u0442\\u043e\\u0432\\u0430\\n\\u25ab\\ufe0f\\n\\u041f\\u043b\\u044f\\u0436 \\u0410\\u0437\\u0430\\u043a \\u0432 \\u0410\\u0437\\u043e\\u0432\\u0435, \\u043f\\u0435\\u0440.\\u041c\\u0430\\u043b\\u044b\\u0439, 2\\n\\u25ab\\ufe0f\\n\\u0417\\u0435\\u043b\\u0435\\u043d\\u044b\\u0439 \\u041e\\u0441\\u0442\\u0440\\u043e\\u0432 - 29-\\u044f \\u043b\\u0438\\u043d\\u0438\\u044f, \\u0420\\u043e\\u0441\\u0442\\u043e\\u0432-\\u043d\\u0430-\\u0414\\u043e\\u043d\\u0443\\n\\u25ab\\ufe0f\\n\\u0421\\u043e\\u043b\\u0435\\u043d\\u043e\\u0435 \\u043e\\u0437\\u0435\\u0440\\u043e - \\u041f\\u043b\\u044f\\u0436\\u043d\\u0430\\u044f \\u0443\\u043b\\u0438\\u0446\\u0430, \\u0420\\u0430\\u0441\\u0441\\u0442\\u043e\\u044f\\u043d\\u0438\\u0435: 10\\n\\u043a\\u043c \\u043e\\u0442 \\u0420\\u043e\\u0441\\u0442\\u043e\\u0432\\u0430\\n\\u25ab\\ufe0f\\n\\u0414\\u043e\\u043b\\u0433\\u0438\\u0439 \\u043a\\u0430\\u043d\\u044c\\u043e\\u043d - \\u041a\\u0430\\u043c\\u0435\\u043d\\u0441\\u043a-\\u0428\\u0430\\u0445\\u0442\\u0438\\u043d\\u0441\\u043a\\u0438\\u0439.\\n\\u0420\\u0430\\u0441\\u0441\\u0442\\u043e\\u044f\\u043d\\u0438\\u0435: 140 \\u043a\\u043c \\u043e\\u0442 \\u0420\\u043e\\u0441\\u0442\\u043e\\u0432\\u0430\\n\\u25ab\\ufe0f\\n\\u041f\\u043b\\u044f\\u0436 Paleta Beach \\u0432 \\u0410\\u043a\\u0441\\u0430\\u0435, \\u0412\\u043e\\u0441\\u0442\\u043e\\u0447\\u043d\\u044b\\u0439 \\u043e\\u0431\\u0445\\u043e\\u0434.\\n\\u0418\\u0441\\u043a\\u0443\\u0441\\u0441\\u0442\\u0432\\u0435\\u043d\\u043d\\u043e\\u0435 \\u043e\\u0437\\u0435\\u0440\\u043e, \\u043f\\u043b\\u044f\\u0436 \\u043f\\u0435\\u0441\\u0447\\u0430\\u043d\\u044b\\u0439\\n\\u25ab\\ufe0f\\n\\u0421\\u0435\\u043c\\u0438\\u0431\\u0430\\u043b\\u043a\\u0438 (\\u0410\\u0437\\u043e\\u0432\\u0441\\u043a\\u0438\\u0439 \\u0440\\u0430\\u0439\\u043e\\u043d) \\u0432 70 \\u043a\\u043c \\u043e\\u0442 \\u0420\\u043e\\u0441\\u0442\\u043e\\u0432\\u0430\\n\\u25ab\\ufe0f\\n\\u0425\\u0443\\u0442\\u043e\\u0440 \\u0410\\u0440\\u043f\\u0430\\u0447\\u0438\\u043d \\u0432 \\u0411\\u0430\\u0433\\u0430\\u0435\\u0432\\u0441\\u043a\\u043e\\u043c \\u0440\\u0430\\u0439\\u043e\\u043d\\u0435\\n\\u25ab\\ufe0f\\n\\u0412\\u0435\\u0440\\u0445\\u043d\\u0435\\u0434\\u043e\\u043d\\u0441\\u043a\\u043e\\u0439 \\u0440\\u0430\\u0439\\u043e\\u043d - \\u0421\\u0442\\u0430\\u0433\\u043e\\u0432\\u0441\\u043a\\u0430\\u044f \\u043a\\u043e\\u0441\\u0430 (\\u0441\\u0442.\\u041a\\u0430\\u0437\\u0430\\u043d\\u0441\\u043a\\u0430\\u044f)\\n\\u25ab\\ufe0f\\n\\u041f\\u043e\\u0431\\u0435\\u0440\\u0435\\u0436\\u044c\\u0435 \\u0414\\u043e\\u043d\\u0430 \\u0432 \\u0441\\u0442\\u0430\\u043d\\u0438\\u0446\\u0435 \\u0412\\u0451\\u0448\\u0435\\u043d\\u0441\\u043a\\u043e\\u0439.\\n\\ud83d\\udd34\\n\\u041f\\u043e\\u0434\\u043f\\u0438\\u0441\\u044b\\u0432\\u0430\\u0439\\u0441\\u044f \\u043d\\u0430\\n\\u0410\\u0444\\u0438\\u0448\\u0443 \\u0420\\u043e\\u0441\\u0442\\u043e\\u0432\\u0430\",\n          \"\\u0421\\u0442\\u0435\\u043d\\u0434\\u0430\\u043f \\u0432 \\u043f\\u0440\\u043e\\u0441\\u0442\\u0440\\u0430\\u043d\\u0441\\u0442\\u0432\\u0435 \\\"WIP\\\" / 19 \\u043e\\u043a\\u0442\\u044f\\u0431\\u0440\\u044f\\n\\u0412 \\u0441\\u0440\\u0435\\u0434\\u0443 \\u043f\\u0440\\u0438\\u0445\\u043e\\u0434\\u0438 \\u0441\\u043b\\u0443\\u0448\\u0430\\u0442\\u044c \\u043b\\u0443\\u0447\\u0448\\u0438\\u0439 \\u0441\\u0442\\u0435\\u043d\\u0434\\u0430\\u043f \\u043e\\u0442 \\u043b\\u0443\\u0447\\u0448\\u0438\\u0445 \\u043a\\u043e\\u043c\\u0438\\u043a\\u043e\\u0432 \\u0441\\u043e \\u0432\\u0441\\u0435\\u0445 \\u0438\\u0437\\u0432\\u0435\\u0441\\u0442\\u043d\\u044b\\u0445 \\u043f\\u0440\\u043e\\u0435\\u043a\\u0442\\u043e\\u0432:\\n-  \\u0413\\u0443\\u0440\\u0430\\u043c \\u0414\\u0435\\u043c\\u0438\\u0434\\u043e\\u0432 (\\u0421\\u0442\\u0435\\u043d\\u0434\\u0430\\u043f \\u043d\\u0430 \\u0422\\u041d\\u0422)\\n-  \\u0417\\u043e\\u044f \\u041a\\u0443\\u0443\\u043b\\u0430\\u0440 (Roast Battle Labelcom)\\n- \\u0410\\u043b\\u044f \\u041a\\u043e\\u043a\\u0443\\u0448\\u043a\\u0438\\u043d\\u0430 (\\u0428\\u043e\\u0443 \\u201c\\u0420\\u0430\\u0437\\u0433\\u043e\\u043d\\u044b\\u201d \\u043e\\u0442 StandUp Club#1)\\n\\u0418 \\u0434\\u0440\\u0443\\u0433\\u0438\\u0435\\n\\ud83c\\udf9f\\n\\u0412\\u0445\\u043e\\u0434 \\u0431\\u0435\\u0441\\u043f\\u043b\\u0430\\u0442\\u043d\\u044b\\u0439\\n\\u231a\\n\\u0421\\u0431\\u043e\\u0440 \\u0433\\u043e\\u0441\\u0442\\u0435\\u0438\\u0306 \\u0441 19:30\\n\\ud83d\\udccd\\n\\u00abWIP\\\",\\u00a0\\u042f\\u0443\\u0437\\u0441\\u043a\\u0438\\u0439 \\u0431\\u0443\\u043b\\u044c\\u0432\\u0430\\u0440, 11 \\u0441\\u04421/ \\u043c. \\u041a\\u0438\\u0442\\u0430\\u0439-\\u0413\\u043e\\u0440\\u043e\\u0434\\n\\u0411\\u0435\\u0441\\u043f\\u043b\\u0430\\u0442\\u043d\\u0430\\u044f \\u0440\\u0435\\u0433\\u0438\\u0441\\u0442\\u0440\\u0430\\u0446\\u0438\\u044f \\u043d\\u0430 \\u043c\\u0435\\u0440\\u043e\\u043f\\u0440\\u0438\\u044f\\u0442\\u0438\\u0435 \\u043f\\u043e\\n\\u0441\\u0441\\u044b\\u043b\\u043a\\u0435\\n\\u041f\\u0440\\u0438\\u0445\\u043e\\u0434\\u0438 \\u0441\\u0430\\u043c \\u0438 \\u043f\\u0440\\u0438\\u0432\\u043e\\u0434\\u0438 \\u0434\\u0440\\u0443\\u0437\\u0435\\u0439!\"\n        ],\n        \"semantic_type\": \"\",\n        \"description\": \"\"\n      }\n    },\n    {\n      \"column\": \"labels\",\n      \"properties\": {\n        \"dtype\": \"category\",\n        \"num_unique_values\": 3540,\n        \"samples\": [\n          \"1 0 0 0 0 0 0 1 1 0 0 0 0 1 1 1 1 1 0 1\",\n          \"0 0 0 0 0 0 0 0 0 0 0 0 1 1 1 1 1 0 0 1\",\n          \"0 0 0 0 0 0 0 0 0 1 0 0 0 1 0 0 1 0 1 0\"\n        ],\n        \"semantic_type\": \"\",\n        \"description\": \"\"\n      }\n    }\n  ]\n}",
       "type": "dataframe",
       "variable_name": "df"
      },
      "text/html": [
       "\n",
       "  <div id=\"df-e1241359-9c0f-4d1a-8d4d-4bf0af5fd70e\" class=\"colab-df-container\">\n",
       "    <div>\n",
       "<style scoped>\n",
       "    .dataframe tbody tr th:only-of-type {\n",
       "        vertical-align: middle;\n",
       "    }\n",
       "\n",
       "    .dataframe tbody tr th {\n",
       "        vertical-align: top;\n",
       "    }\n",
       "\n",
       "    .dataframe thead th {\n",
       "        text-align: right;\n",
       "    }\n",
       "</style>\n",
       "<table border=\"1\" class=\"dataframe\">\n",
       "  <thead>\n",
       "    <tr style=\"text-align: right;\">\n",
       "      <th></th>\n",
       "      <th>id</th>\n",
       "      <th>text</th>\n",
       "      <th>labels</th>\n",
       "    </tr>\n",
       "  </thead>\n",
       "  <tbody>\n",
       "    <tr>\n",
       "      <th>0</th>\n",
       "      <td>0</td>\n",
       "      <td>15 января\\nДетская развлекательная программа\\n...</td>\n",
       "      <td>1 0 0 0 1 0 0 0 1 0 0 0 1 1 1 1 1 0 0 1</td>\n",
       "    </tr>\n",
       "    <tr>\n",
       "      <th>1</th>\n",
       "      <td>1</td>\n",
       "      <td>13 и 14 августа\\nВыходные в Меге\\nhttps://t.me...</td>\n",
       "      <td>0 0 0 1 0 0 0 0 1 0 0 0 1 1 0 1 1 0 0 1</td>\n",
       "    </tr>\n",
       "    <tr>\n",
       "      <th>2</th>\n",
       "      <td>2</td>\n",
       "      <td>Йокнапатофа\\nПостановка Театр им. Маяковского\\...</td>\n",
       "      <td>0 0 0 0 1 0 0 0 0 0 0 0 1 1 0 1 1 0 0 1</td>\n",
       "    </tr>\n",
       "    <tr>\n",
       "      <th>3</th>\n",
       "      <td>3</td>\n",
       "      <td>Впервые в Уфе танцевальная терапия в группе с ...</td>\n",
       "      <td>1 1 0 0 1 0 0 1 1 1 1 1 1 1 1 0 0 1 1 0</td>\n",
       "    </tr>\n",
       "    <tr>\n",
       "      <th>4</th>\n",
       "      <td>4</td>\n",
       "      <td>🎹\\nGRAND PIANO COMPETITION\\n🎹\\nДрузья, сегодня...</td>\n",
       "      <td>1 1 0 0 0 0 0 1 1 0 0 1 1 1 1 0 1 1 1 0</td>\n",
       "    </tr>\n",
       "  </tbody>\n",
       "</table>\n",
       "</div>\n",
       "    <div class=\"colab-df-buttons\">\n",
       "\n",
       "  <div class=\"colab-df-container\">\n",
       "    <button class=\"colab-df-convert\" onclick=\"convertToInteractive('df-e1241359-9c0f-4d1a-8d4d-4bf0af5fd70e')\"\n",
       "            title=\"Convert this dataframe to an interactive table.\"\n",
       "            style=\"display:none;\">\n",
       "\n",
       "  <svg xmlns=\"http://www.w3.org/2000/svg\" height=\"24px\" viewBox=\"0 -960 960 960\">\n",
       "    <path d=\"M120-120v-720h720v720H120Zm60-500h600v-160H180v160Zm220 220h160v-160H400v160Zm0 220h160v-160H400v160ZM180-400h160v-160H180v160Zm440 0h160v-160H620v160ZM180-180h160v-160H180v160Zm440 0h160v-160H620v160Z\"/>\n",
       "  </svg>\n",
       "    </button>\n",
       "\n",
       "  <style>\n",
       "    .colab-df-container {\n",
       "      display:flex;\n",
       "      gap: 12px;\n",
       "    }\n",
       "\n",
       "    .colab-df-convert {\n",
       "      background-color: #E8F0FE;\n",
       "      border: none;\n",
       "      border-radius: 50%;\n",
       "      cursor: pointer;\n",
       "      display: none;\n",
       "      fill: #1967D2;\n",
       "      height: 32px;\n",
       "      padding: 0 0 0 0;\n",
       "      width: 32px;\n",
       "    }\n",
       "\n",
       "    .colab-df-convert:hover {\n",
       "      background-color: #E2EBFA;\n",
       "      box-shadow: 0px 1px 2px rgba(60, 64, 67, 0.3), 0px 1px 3px 1px rgba(60, 64, 67, 0.15);\n",
       "      fill: #174EA6;\n",
       "    }\n",
       "\n",
       "    .colab-df-buttons div {\n",
       "      margin-bottom: 4px;\n",
       "    }\n",
       "\n",
       "    [theme=dark] .colab-df-convert {\n",
       "      background-color: #3B4455;\n",
       "      fill: #D2E3FC;\n",
       "    }\n",
       "\n",
       "    [theme=dark] .colab-df-convert:hover {\n",
       "      background-color: #434B5C;\n",
       "      box-shadow: 0px 1px 3px 1px rgba(0, 0, 0, 0.15);\n",
       "      filter: drop-shadow(0px 1px 2px rgba(0, 0, 0, 0.3));\n",
       "      fill: #FFFFFF;\n",
       "    }\n",
       "  </style>\n",
       "\n",
       "    <script>\n",
       "      const buttonEl =\n",
       "        document.querySelector('#df-e1241359-9c0f-4d1a-8d4d-4bf0af5fd70e button.colab-df-convert');\n",
       "      buttonEl.style.display =\n",
       "        google.colab.kernel.accessAllowed ? 'block' : 'none';\n",
       "\n",
       "      async function convertToInteractive(key) {\n",
       "        const element = document.querySelector('#df-e1241359-9c0f-4d1a-8d4d-4bf0af5fd70e');\n",
       "        const dataTable =\n",
       "          await google.colab.kernel.invokeFunction('convertToInteractive',\n",
       "                                                    [key], {});\n",
       "        if (!dataTable) return;\n",
       "\n",
       "        const docLinkHtml = 'Like what you see? Visit the ' +\n",
       "          '<a target=\"_blank\" href=https://colab.research.google.com/notebooks/data_table.ipynb>data table notebook</a>'\n",
       "          + ' to learn more about interactive tables.';\n",
       "        element.innerHTML = '';\n",
       "        dataTable['output_type'] = 'display_data';\n",
       "        await google.colab.output.renderOutput(dataTable, element);\n",
       "        const docLink = document.createElement('div');\n",
       "        docLink.innerHTML = docLinkHtml;\n",
       "        element.appendChild(docLink);\n",
       "      }\n",
       "    </script>\n",
       "  </div>\n",
       "\n",
       "\n",
       "    <div id=\"df-2d0532e9-014d-469a-996e-50f2dc1b804a\">\n",
       "      <button class=\"colab-df-quickchart\" onclick=\"quickchart('df-2d0532e9-014d-469a-996e-50f2dc1b804a')\"\n",
       "                title=\"Suggest charts\"\n",
       "                style=\"display:none;\">\n",
       "\n",
       "<svg xmlns=\"http://www.w3.org/2000/svg\" height=\"24px\"viewBox=\"0 0 24 24\"\n",
       "     width=\"24px\">\n",
       "    <g>\n",
       "        <path d=\"M19 3H5c-1.1 0-2 .9-2 2v14c0 1.1.9 2 2 2h14c1.1 0 2-.9 2-2V5c0-1.1-.9-2-2-2zM9 17H7v-7h2v7zm4 0h-2V7h2v10zm4 0h-2v-4h2v4z\"/>\n",
       "    </g>\n",
       "</svg>\n",
       "      </button>\n",
       "\n",
       "<style>\n",
       "  .colab-df-quickchart {\n",
       "      --bg-color: #E8F0FE;\n",
       "      --fill-color: #1967D2;\n",
       "      --hover-bg-color: #E2EBFA;\n",
       "      --hover-fill-color: #174EA6;\n",
       "      --disabled-fill-color: #AAA;\n",
       "      --disabled-bg-color: #DDD;\n",
       "  }\n",
       "\n",
       "  [theme=dark] .colab-df-quickchart {\n",
       "      --bg-color: #3B4455;\n",
       "      --fill-color: #D2E3FC;\n",
       "      --hover-bg-color: #434B5C;\n",
       "      --hover-fill-color: #FFFFFF;\n",
       "      --disabled-bg-color: #3B4455;\n",
       "      --disabled-fill-color: #666;\n",
       "  }\n",
       "\n",
       "  .colab-df-quickchart {\n",
       "    background-color: var(--bg-color);\n",
       "    border: none;\n",
       "    border-radius: 50%;\n",
       "    cursor: pointer;\n",
       "    display: none;\n",
       "    fill: var(--fill-color);\n",
       "    height: 32px;\n",
       "    padding: 0;\n",
       "    width: 32px;\n",
       "  }\n",
       "\n",
       "  .colab-df-quickchart:hover {\n",
       "    background-color: var(--hover-bg-color);\n",
       "    box-shadow: 0 1px 2px rgba(60, 64, 67, 0.3), 0 1px 3px 1px rgba(60, 64, 67, 0.15);\n",
       "    fill: var(--button-hover-fill-color);\n",
       "  }\n",
       "\n",
       "  .colab-df-quickchart-complete:disabled,\n",
       "  .colab-df-quickchart-complete:disabled:hover {\n",
       "    background-color: var(--disabled-bg-color);\n",
       "    fill: var(--disabled-fill-color);\n",
       "    box-shadow: none;\n",
       "  }\n",
       "\n",
       "  .colab-df-spinner {\n",
       "    border: 2px solid var(--fill-color);\n",
       "    border-color: transparent;\n",
       "    border-bottom-color: var(--fill-color);\n",
       "    animation:\n",
       "      spin 1s steps(1) infinite;\n",
       "  }\n",
       "\n",
       "  @keyframes spin {\n",
       "    0% {\n",
       "      border-color: transparent;\n",
       "      border-bottom-color: var(--fill-color);\n",
       "      border-left-color: var(--fill-color);\n",
       "    }\n",
       "    20% {\n",
       "      border-color: transparent;\n",
       "      border-left-color: var(--fill-color);\n",
       "      border-top-color: var(--fill-color);\n",
       "    }\n",
       "    30% {\n",
       "      border-color: transparent;\n",
       "      border-left-color: var(--fill-color);\n",
       "      border-top-color: var(--fill-color);\n",
       "      border-right-color: var(--fill-color);\n",
       "    }\n",
       "    40% {\n",
       "      border-color: transparent;\n",
       "      border-right-color: var(--fill-color);\n",
       "      border-top-color: var(--fill-color);\n",
       "    }\n",
       "    60% {\n",
       "      border-color: transparent;\n",
       "      border-right-color: var(--fill-color);\n",
       "    }\n",
       "    80% {\n",
       "      border-color: transparent;\n",
       "      border-right-color: var(--fill-color);\n",
       "      border-bottom-color: var(--fill-color);\n",
       "    }\n",
       "    90% {\n",
       "      border-color: transparent;\n",
       "      border-bottom-color: var(--fill-color);\n",
       "    }\n",
       "  }\n",
       "</style>\n",
       "\n",
       "      <script>\n",
       "        async function quickchart(key) {\n",
       "          const quickchartButtonEl =\n",
       "            document.querySelector('#' + key + ' button');\n",
       "          quickchartButtonEl.disabled = true;  // To prevent multiple clicks.\n",
       "          quickchartButtonEl.classList.add('colab-df-spinner');\n",
       "          try {\n",
       "            const charts = await google.colab.kernel.invokeFunction(\n",
       "                'suggestCharts', [key], {});\n",
       "          } catch (error) {\n",
       "            console.error('Error during call to suggestCharts:', error);\n",
       "          }\n",
       "          quickchartButtonEl.classList.remove('colab-df-spinner');\n",
       "          quickchartButtonEl.classList.add('colab-df-quickchart-complete');\n",
       "        }\n",
       "        (() => {\n",
       "          let quickchartButtonEl =\n",
       "            document.querySelector('#df-2d0532e9-014d-469a-996e-50f2dc1b804a button');\n",
       "          quickchartButtonEl.style.display =\n",
       "            google.colab.kernel.accessAllowed ? 'block' : 'none';\n",
       "        })();\n",
       "      </script>\n",
       "    </div>\n",
       "\n",
       "    </div>\n",
       "  </div>\n"
      ],
      "text/plain": [
       "   id                                               text  \\\n",
       "0   0  15 января\\nДетская развлекательная программа\\n...   \n",
       "1   1  13 и 14 августа\\nВыходные в Меге\\nhttps://t.me...   \n",
       "2   2  Йокнапатофа\\nПостановка Театр им. Маяковского\\...   \n",
       "3   3  Впервые в Уфе танцевальная терапия в группе с ...   \n",
       "4   4  🎹\\nGRAND PIANO COMPETITION\\n🎹\\nДрузья, сегодня...   \n",
       "\n",
       "                                    labels  \n",
       "0  1 0 0 0 1 0 0 0 1 0 0 0 1 1 1 1 1 0 0 1  \n",
       "1  0 0 0 1 0 0 0 0 1 0 0 0 1 1 0 1 1 0 0 1  \n",
       "2  0 0 0 0 1 0 0 0 0 0 0 0 1 1 0 1 1 0 0 1  \n",
       "3  1 1 0 0 1 0 0 1 1 1 1 1 1 1 1 0 0 1 1 0  \n",
       "4  1 1 0 0 0 0 0 1 1 0 0 1 1 1 1 0 1 1 1 0  "
      ]
     },
     "execution_count": 4,
     "metadata": {},
     "output_type": "execute_result"
    }
   ],
   "source": [
    "import pandas as pd\n",
    "\n",
    "df = pd.read_csv('/content/data/train.csv')\n",
    "\n",
    "df.head()"
   ]
  },
  {
   "cell_type": "code",
   "execution_count": null,
   "metadata": {
    "colab": {
     "base_uri": "https://localhost:8080/"
    },
    "id": "nglwjEP4FECt",
    "outputId": "ea7efd84-cf06-4832-92ce-3b461ef46b49"
   },
   "outputs": [
    {
     "data": {
      "text/plain": [
       "Index(['id', 'text', 'labels'], dtype='object')"
      ]
     },
     "execution_count": 5,
     "metadata": {},
     "output_type": "execute_result"
    }
   ],
   "source": [
    "df.columns"
   ]
  },
  {
   "cell_type": "code",
   "execution_count": null,
   "metadata": {
    "colab": {
     "base_uri": "https://localhost:8080/",
     "height": 487
    },
    "id": "G51T_dHhGxV9",
    "outputId": "6f261d0d-f891-4f67-e5a7-dfe3c784e227"
   },
   "outputs": [
    {
     "data": {
      "image/png": "[encoded data removed]",
      "text/plain": [
       "<Figure size 1000x500 with 1 Axes>"
      ]
     },
     "metadata": {},
     "output_type": "display_data"
    }
   ],
   "source": [
    "# преобразуем labels из строки вида \"1 0 1 ...\" в список из чисел\n",
    "df['label_vector'] = df['labels'].apply(lambda x: list(map(int, x.strip().split())))\n",
    "import numpy as np\n",
    "\n",
    "label_matrix = np.array(df['label_vector'].tolist())\n",
    "\n",
    "# посчитаем количество 1 в каждом столбце (т.е. в каждом классе)\n",
    "class_counts = label_matrix.sum(axis=0)\n",
    "\n",
    "import matplotlib.pyplot as plt\n",
    "\n",
    "plt.figure(figsize=(10, 5))\n",
    "plt.bar(range(len(class_counts)), class_counts)\n",
    "plt.xlabel('Класс')\n",
    "plt.ylabel('Частота появления')\n",
    "plt.title('Распределение меток по классам')\n",
    "plt.xticks(range(len(class_counts)))\n",
    "plt.show()\n"
   ]
  },
  {
   "cell_type": "markdown",
   "metadata": {
    "id": "VugFw9D-Vv0_"
   },
   "source": [
    "На графике видно, что некоторые классы (4, 7, 8, 13, 18, 19) встречаются более чем в 20 000 примерах, в то время как другие (2, 3, 5, 6) имеют частоту появления менее 5 000. Особенно редкими являются классы 5 и 6, каждый из которых появляется в крайне малом числе текстов. Это говорит о сильной несбалансированности классов, что следует учитывать при обучении модели, например, с помощью взвешивания лосса или использования специальных методов балансировки."
   ]
  },
  {
   "cell_type": "code",
   "execution_count": null,
   "metadata": {
    "colab": {
     "base_uri": "https://localhost:8080/",
     "height": 410
    },
    "id": "VurC0E4JIvo-",
    "outputId": "86b51d39-b1d0-42ae-b0ff-8423f9ae0c5c"
   },
   "outputs": [
    {
     "data": {
      "image/png": "[encoded data removed]",
      "text/plain": [
       "<Figure size 800x400 with 1 Axes>"
      ]
     },
     "metadata": {},
     "output_type": "display_data"
    }
   ],
   "source": [
    "# посчитаем количество меток на один текст\n",
    "df['num_labels'] = df['label_vector'].apply(sum)\n",
    "\n",
    "plt.figure(figsize=(8, 4))\n",
    "df['num_labels'].hist(bins=range(1, df['num_labels'].max() + 2), align='left')\n",
    "plt.title('Количество меток на один пример')\n",
    "plt.xlabel('Число меток')\n",
    "plt.ylabel('Частота')\n",
    "plt.grid(True)\n",
    "plt.show()"
   ]
  },
  {
   "cell_type": "markdown",
   "metadata": {
    "id": "_ofRRbtfWBkA"
   },
   "source": [
    "График иллюстрирует распределение количества меток на один текст. Видно, что большинство текстов содержат от 9 до 13 меток, с пиком в районе 11–12. Распределение похоже на нормальное, но немного скошено вправо, что может указывать на наличие отдельных текстов с аномально большим количеством меток.\n"
   ]
  },
  {
   "cell_type": "code",
   "execution_count": null,
   "metadata": {
    "colab": {
     "base_uri": "https://localhost:8080/"
    },
    "id": "w_njQSTKWjlb",
    "outputId": "e3cb5f59-6d41-4ab7-b9fb-22f6e3546590"
   },
   "outputs": [
    {
     "name": "stdout",
     "output_type": "stream",
     "text": [
      "Index(['id', 'text', 'labels', 'label_vector', 'num_labels'], dtype='object')\n"
     ]
    }
   ],
   "source": [
    "text_column = 'text'\n",
    "target_columns = [col for col in df.columns if col != text_column]\n",
    "print(df.columns)"
   ]
  },
  {
   "cell_type": "code",
   "execution_count": null,
   "metadata": {
    "colab": {
     "base_uri": "https://localhost:8080/"
    },
    "id": "SZSLGDSsW5jS",
    "outputId": "b0043690-dcdb-41c8-f9fa-f5b7db74efce"
   },
   "outputs": [
    {
     "name": "stdout",
     "output_type": "stream",
     "text": [
      "\n",
      "Пример 1\n",
      "Текст:\n",
      "Невероятная комедия «Слишком женатый таксист»\n",
      "🏛\n",
      "ДК им. Зуева\n",
      "🗓\n",
      "06.09 (пт) в 19:00\n",
      "🗓\n",
      "13.09 (пт) в 19:00\n",
      "🗓\n",
      "21.09 (сб) в 19:00\n",
      "🎫\n",
      "Билеты по ссылке здесь\n",
      "💚\n",
      "-25% по промокоду ТИК\n",
      "В ролях: Светлана Пермякова/Татьяна Афанасьева/Алина Ланина, Тимур Еремеев/Денис Косяков, Мирослава Карпович/Марина Соколова/Валерия Федорович, Александр Якин/Андрей Шугов/Михаил Башкатов, Антон Косточкин/Сергей Федюшкин и другие\n",
      "История о простом таксисте, который каким-то образом умудрился стать двоеженцем. Герой спасает бабушку от бандитов и оказывается после этого в больнице. Там он удивляет докторов и называет два разных домашних адреса. Как же ему удастся выпутаться?\n",
      "🥰\n",
      "Билеты со скидками\n",
      "@teatr_msk\n",
      "\n",
      "Пример 2\n",
      "Текст:\n",
      "Фестиваль «Halloween Fest — Рейв-Медитация „Ашрам Кали“»\n",
      "Масштабный фестиваль электронной музыки, искусства и творчества в клубе Gipsy перевернёт привычные представления о Хеллоуине. Этот уникальный проект объединяет Запад и Восток, современность и этнику, танцевальное и визуальное искусство.\n",
      "Halloween Fest пройдёт в шестой раз, вновь поразив зрителей необычной концепцией, размахом и творческим подходом к лайнапу. А вместо ведьм, зомби и вампиров ключевым персонажем этого неформатного Хеллоуина станет индуистская богиня Кали — символ перемен и разрушения невежества.\n",
      "Программа фестиваля объединила несколько совершенно разных направлений электроники, которая будет сливаться со звучанием живых музыкальных инструментов. В течение вечера настроение будет меняться, постепенно перетекая от чиллаута, органики и дарк-техно к психоделическому т...\n",
      "#афиша #афиша_москвы #мероприятия #выставки #фестивали #концерты #спектакли #постановки #театр #билеты #шоу #экскурсии #музеи #парки\n",
      "✅\n",
      "Подпишись на на\n",
      "\n",
      "Пример 3\n",
      "Текст:\n",
      "Спектакль «Обыкновенное чудо» от театра Мечтатели\n",
      "🏛\n",
      "ДК РГСУ\n",
      "📍\n",
      "Стромынский переулок, 5\n",
      "🎫\n",
      "29 марта 20:00,\n",
      "билеты по ссылке\n",
      "🎫\n",
      "30 марта 20:00,\n",
      "билеты по ссылке\n",
      "💚\n",
      "-30% по промокоду ЧУДО\n",
      "Сценическая фантазия по мотивам одноимённой пьесы Евгения Шварца.\n",
      "Это одна из немногих пьес из всего мирового репертуара со счастливым финалом. И для нашей команды этот факт стал самым ключевым. Мы надеемся, что мы дадим нашим героям мужество обратить внимание на своё счастье.\n",
      "🥰\n",
      "Билеты со скидками\n",
      "@teatr_msk\n",
      "\n",
      "Пример 4\n",
      "Текст:\n",
      "Концерт Дудук с оркестром\n",
      "🏛\n",
      "Театр на Мельникова\n",
      "📍\n",
      "ул. Мельникова, 7, стр. 1\n",
      "🗓\n",
      "4 мая 19:00\n",
      "🎫\n",
      "Билеты по ссылке здесь\n",
      "💚\n",
      "-25% по промокоду STAGE\n",
      "Шедевры классической музыки, всемирно известные саундтреки, а также армянские мелодии прозвучат в исполнении оркестра и дудука.\n",
      "Публику ждет восхитительная программа, созданная петербургским оркестром Olympic orchestra и Арсеном Костоняном: здесь красота и мелодичность произведений будет перекликаться со спокойствием, безмятежностью и полным погружением в происходящее.\n",
      "Бах, Дворжак, Альбиони, Рахманинов, Пьяццолла, музыка из известных фильмов \"Титаник\", \"Список Шиндлера\", \"Гладиатор\" и армянские мотивы прозвучат настолько органично, будто произведения изначально были написаны для концерта \"Дудук с оркестром\".\n",
      "🥰\n",
      "Билеты со скидками\n",
      "@teatr_msk\n",
      "\n",
      "Пример 5\n",
      "Текст:\n",
      "Павел Кашин\n",
      "27 Июля Мумий Тролль Music Bar НАЧАЛО в 20:00\n",
      "Романтический рок — необычный и очень красивый жанр музыкального воспроизведения, в котором далеко не каждый способен искренне выразить всю богатую палитру нот. Необычные и очень красивые стихи в исполнении харизматичного эрудированного и выдающегося автора-исполнителя российского шоу-бизнеса.\n",
      "Мелодии и ритмы создают торжество в душе, а стихи и слова наполняют приятными и разными чувствами. Павел Кашин — легенда жанра, выступит с сольным концертом.\n",
      "💲\n",
      "Цены: 2000 руб.\n",
      "💲\n",
      "Цены со скидкой: 13000 руб.\n",
      "‼️\n",
      "Для заказа пишите нашему менеджеру\n",
      "@menedger_koncert\n"
     ]
    }
   ],
   "source": [
    "import random\n",
    "for i in range(5):\n",
    "    idx = random.randint(0, len(df) - 1)\n",
    "    text = df.iloc[idx][text_column]\n",
    "    labels = df.iloc[idx][target_columns]\n",
    "\n",
    "    print(f\"\\nПример {i + 1}\")\n",
    "    print(\"Текст:\")\n",
    "    print(text[:1000])"
   ]
  },
  {
   "cell_type": "markdown",
   "metadata": {
    "id": "jHqUgoj4XJ9n"
   },
   "source": [
    "похоже, что тексты - афиши и описания мероприятий. Стиль подачи неформальный, часто с эмодзи, ссылками и элементами рекламного текста. Структура содержит название события, дату и место проведения и призыв купить билеты или перейти по ссылке"
   ]
  },
  {
   "cell_type": "markdown",
   "metadata": {
    "id": "ymDDevDCtSXd"
   },
   "source": [
    "# Блок 2. Очистки текста"
   ]
  },
  {
   "cell_type": "markdown",
   "metadata": {
    "id": "EeMYHvwVtlM8"
   },
   "source": [
    "## 2.1 TF-IDF + нейросеть"
   ]
  },
  {
   "cell_type": "markdown",
   "metadata": {
    "id": "VW-lcArAtt8X"
   },
   "source": [
    "Особенности:\n",
    "\n",
    "- Токенизация простая, на уровне слов/символов\n",
    "\n",
    "- Порядок слов не учитывается, только частотность\n",
    "\n",
    "- Очистка должна быть сильной\n",
    "\n",
    "\n",
    "Методы очистки:\n",
    "\n",
    "- Привести к нижнему регистру\n",
    "\n",
    "- Удалить пунктуацию\n",
    "\n",
    "- Удалить числа, эмодзи, ссылки, спецсимволы\n",
    "\n",
    "- Удалить стоп-слова\n",
    "\n",
    "- Можно сделать лемматизацию или стемминг"
   ]
  },
  {
   "cell_type": "code",
   "execution_count": null,
   "metadata": {
    "colab": {
     "base_uri": "https://localhost:8080/"
    },
    "id": "vGSmfjUzXol1",
    "outputId": "ec1b72ce-cc2f-4fcd-978f-bfeba6c49308"
   },
   "outputs": [
    {
     "name": "stderr",
     "output_type": "stream",
     "text": [
      "[nltk_data] Downloading package stopwords to /root/nltk_data...\n",
      "[nltk_data]   Unzipping corpora/stopwords.zip.\n"
     ]
    }
   ],
   "source": [
    "import re\n",
    "import nltk\n",
    "from nltk.corpus import stopwords\n",
    "from nltk.stem import SnowballStemmer\n",
    "\n",
    "nltk.download('stopwords')\n",
    "stop_words = set(stopwords.words('russian'))\n",
    "stemmer = SnowballStemmer('russian')\n",
    "\n",
    "def clean_text_tfidf(text):\n",
    "    text = text.lower()\n",
    "    text = re.sub(r'https?://\\S+|www\\.\\S+', '', text)  # ссылки\n",
    "    text = re.sub(r'[^\\w\\s]', '', text)  # пунктуация\n",
    "    text = re.sub(r'\\d+', '', text)  # числа\n",
    "    words = text.split()\n",
    "    words = [stemmer.stem(word) for word in words if word not in stop_words]\n",
    "    return ' '.join(words)\n"
   ]
  },
  {
   "cell_type": "markdown",
   "metadata": {
    "id": "hWtmvcoKt9qV"
   },
   "source": [
    "## 2.2 Word2Vec + нейросеть\n"
   ]
  },
  {
   "cell_type": "markdown",
   "metadata": {
    "id": "uent9_DpuRGc"
   },
   "source": [
    "Особенности:\n",
    "- Требует токенизации\n",
    "- Контекст слов важен\n",
    "- Лемматизация полезна, но не обязательна"
   ]
  },
  {
   "cell_type": "code",
   "execution_count": null,
   "metadata": {
    "id": "6a1m4zi1uQEr"
   },
   "outputs": [],
   "source": [
    "from nltk.stem import SnowballStemmer\n",
    "stemmer = SnowballStemmer(\"russian\")\n",
    "\n",
    "def clean_text_w2v(text):\n",
    "    text = text.lower()\n",
    "    text = re.sub(r'https?://\\S+|www\\.\\S+', '', text)\n",
    "    text = re.sub(r'[^\\w\\s]', '', text)\n",
    "    text = re.sub(r'\\d+', '', text)\n",
    "    words = text.split()\n",
    "    words = [stemmer.stem(word) for word in words if word not in stop_words]\n",
    "    return ' '.join(words)\n"
   ]
  },
  {
   "cell_type": "markdown",
   "metadata": {
    "id": "UMWzESRguX79"
   },
   "source": [
    "## 2.3 Встроенный эмбеддинг + CNN"
   ]
  },
  {
   "cell_type": "markdown",
   "metadata": {
    "id": "qbWnH5ivudkr"
   },
   "source": [
    "Особенности:\n",
    "- Порядок слов имеет значение\n",
    "- Лучше не удалять знаки препинания полностью\n",
    "- Очистка мягче"
   ]
  },
  {
   "cell_type": "code",
   "execution_count": null,
   "metadata": {
    "id": "PiPrOZb8uczS"
   },
   "outputs": [],
   "source": [
    "def clean_text_cnn(text):\n",
    "    text = text.lower()\n",
    "    text = re.sub(r'https?://\\S+|www\\.\\S+', '', text)\n",
    "    text = re.sub(r'\\s+', ' ', text).strip()\n",
    "    return text\n"
   ]
  },
  {
   "cell_type": "markdown",
   "metadata": {
    "id": "f8wp_rjhui56"
   },
   "source": [
    "## 2.4  Встроенный эмбеддинг + RNN (LSTM/GRU)"
   ]
  },
  {
   "cell_type": "markdown",
   "metadata": {
    "id": "h4Lrl5ZRunm5"
   },
   "source": [
    "Особенности:\n",
    "- Очень чувствительно к порядку и структуре\n",
    "- Лучше сохранить знаки препинания"
   ]
  },
  {
   "cell_type": "code",
   "execution_count": null,
   "metadata": {
    "id": "NcF-cr-uunAP"
   },
   "outputs": [],
   "source": [
    "def clean_text_rnn(text):\n",
    "    text = text.lower()\n",
    "    text = re.sub(r'https?://\\S+|www\\.\\S+', '', text)\n",
    "    text = re.sub(r'\\s+', ' ', text).strip()\n",
    "    return text\n",
    "# тот же что и для cnn"
   ]
  },
  {
   "cell_type": "markdown",
   "metadata": {
    "id": "XeFVxH-pu0wK"
   },
   "source": [
    "## 2.5 BERT и другие Transformer-модели"
   ]
  },
  {
   "cell_type": "markdown",
   "metadata": {
    "id": "Y7-W6ts0u1J7"
   },
   "source": [
    "Особенности:\n",
    "- Модель сама обрабатывает casing, пунктуацию, эмодзи и прочее\n",
    "- Лучше почти ничего не убирать, иначе можно ухудшить результат"
   ]
  },
  {
   "cell_type": "code",
   "execution_count": null,
   "metadata": {
    "id": "LXwmpM9xuxCJ"
   },
   "outputs": [],
   "source": [
    "def clean_text_bert(text):\n",
    "    text = re.sub(r'https?://\\S+|www\\.\\S+', '', text)\n",
    "    text = re.sub(r'\\s+', ' ', text).strip()\n",
    "    return text\n"
   ]
  },
  {
   "cell_type": "markdown",
   "metadata": {
    "id": "rgED51FNx339"
   },
   "source": [
    "## 2.6 применение"
   ]
  },
  {
   "cell_type": "code",
   "execution_count": null,
   "metadata": {
    "id": "18VA9XqSvCWV"
   },
   "outputs": [],
   "source": [
    "device = torch.device('cuda' if torch.cuda.is_available() else 'cpu')\n",
    "df['text_tfidf'] = df['text'].apply(clean_text_tfidf)\n",
    "df['text_w2v'] = df['text'].apply(clean_text_w2v)\n",
    "df['text_cnn'] = df['text'].apply(clean_text_cnn)\n",
    "df['text_rnn'] = df['text'].apply(clean_text_rnn)\n",
    "df['text_bert'] = df['text'].apply(clean_text_bert)\n"
   ]
  },
  {
   "cell_type": "markdown",
   "metadata": {
    "id": "vsx6VGLBzDXV"
   },
   "source": [
    "# Блок 3. Модели"
   ]
  },
  {
   "cell_type": "markdown",
   "metadata": {
    "id": "zZaziIX9zN3X"
   },
   "source": [
    "## 3.1 train и val"
   ]
  },
  {
   "cell_type": "code",
   "execution_count": null,
   "metadata": {
    "id": "YmsU2e4Px61O"
   },
   "outputs": [],
   "source": [
    "from sklearn.model_selection import train_test_split\n",
    "\n",
    "\n",
    "target_columns = [f'label_{i}' for i in range(len(df['label_vector'].iloc[0]))]\n",
    "df[target_columns] = pd.DataFrame(df['label_vector'].tolist(), index=df.index)\n",
    "y = df[target_columns]\n",
    "\n",
    "\n",
    "\n",
    "X = df['text']  # в общем случае, вообще типа 'text_tfidf'\n",
    "y = df[target_columns]\n",
    "\n",
    "X_train, X_val, y_train, y_val = train_test_split(X, y, test_size=0.2, random_state=42)\n"
   ]
  },
  {
   "cell_type": "code",
   "execution_count": null,
   "metadata": {
    "colab": {
     "base_uri": "https://localhost:8080/",
     "height": 226
    },
    "id": "9Ti79v6O5DOL",
    "outputId": "371bcc50-8021-4fde-a3eb-474f6ea6399f"
   },
   "outputs": [
    {
     "data": {
      "application/vnd.google.colaboratory.intrinsic+json": {
       "summary": "{\n  \"name\": \"df[target_columns]\",\n  \"rows\": 5,\n  \"fields\": [\n    {\n      \"column\": \"label_0\",\n      \"properties\": {\n        \"dtype\": \"number\",\n        \"std\": 0,\n        \"min\": 0,\n        \"max\": 1,\n        \"num_unique_values\": 2,\n        \"samples\": [\n          0,\n          1\n        ],\n        \"semantic_type\": \"\",\n        \"description\": \"\"\n      }\n    },\n    {\n      \"column\": \"label_1\",\n      \"properties\": {\n        \"dtype\": \"number\",\n        \"std\": 0,\n        \"min\": 0,\n        \"max\": 1,\n        \"num_unique_values\": 2,\n        \"samples\": [\n          1,\n          0\n        ],\n        \"semantic_type\": \"\",\n        \"description\": \"\"\n      }\n    },\n    {\n      \"column\": \"label_2\",\n      \"properties\": {\n        \"dtype\": \"number\",\n        \"std\": 0,\n        \"min\": 0,\n        \"max\": 0,\n        \"num_unique_values\": 1,\n        \"samples\": [\n          0\n        ],\n        \"semantic_type\": \"\",\n        \"description\": \"\"\n      }\n    },\n    {\n      \"column\": \"label_3\",\n      \"properties\": {\n        \"dtype\": \"number\",\n        \"std\": 0,\n        \"min\": 0,\n        \"max\": 1,\n        \"num_unique_values\": 2,\n        \"samples\": [\n          1\n        ],\n        \"semantic_type\": \"\",\n        \"description\": \"\"\n      }\n    },\n    {\n      \"column\": \"label_4\",\n      \"properties\": {\n        \"dtype\": \"number\",\n        \"std\": 0,\n        \"min\": 0,\n        \"max\": 1,\n        \"num_unique_values\": 2,\n        \"samples\": [\n          0\n        ],\n        \"semantic_type\": \"\",\n        \"description\": \"\"\n      }\n    },\n    {\n      \"column\": \"label_5\",\n      \"properties\": {\n        \"dtype\": \"number\",\n        \"std\": 0,\n        \"min\": 0,\n        \"max\": 0,\n        \"num_unique_values\": 1,\n        \"samples\": [\n          0\n        ],\n        \"semantic_type\": \"\",\n        \"description\": \"\"\n      }\n    },\n    {\n      \"column\": \"label_6\",\n      \"properties\": {\n        \"dtype\": \"number\",\n        \"std\": 0,\n        \"min\": 0,\n        \"max\": 0,\n        \"num_unique_values\": 1,\n        \"samples\": [\n          0\n        ],\n        \"semantic_type\": \"\",\n        \"description\": \"\"\n      }\n    },\n    {\n      \"column\": \"label_7\",\n      \"properties\": {\n        \"dtype\": \"number\",\n        \"std\": 0,\n        \"min\": 0,\n        \"max\": 1,\n        \"num_unique_values\": 2,\n        \"samples\": [\n          1\n        ],\n        \"semantic_type\": \"\",\n        \"description\": \"\"\n      }\n    },\n    {\n      \"column\": \"label_8\",\n      \"properties\": {\n        \"dtype\": \"number\",\n        \"std\": 0,\n        \"min\": 0,\n        \"max\": 1,\n        \"num_unique_values\": 2,\n        \"samples\": [\n          0\n        ],\n        \"semantic_type\": \"\",\n        \"description\": \"\"\n      }\n    },\n    {\n      \"column\": \"label_9\",\n      \"properties\": {\n        \"dtype\": \"number\",\n        \"std\": 0,\n        \"min\": 0,\n        \"max\": 1,\n        \"num_unique_values\": 2,\n        \"samples\": [\n          1\n        ],\n        \"semantic_type\": \"\",\n        \"description\": \"\"\n      }\n    },\n    {\n      \"column\": \"label_10\",\n      \"properties\": {\n        \"dtype\": \"number\",\n        \"std\": 0,\n        \"min\": 0,\n        \"max\": 1,\n        \"num_unique_values\": 2,\n        \"samples\": [\n          1\n        ],\n        \"semantic_type\": \"\",\n        \"description\": \"\"\n      }\n    },\n    {\n      \"column\": \"label_11\",\n      \"properties\": {\n        \"dtype\": \"number\",\n        \"std\": 0,\n        \"min\": 0,\n        \"max\": 1,\n        \"num_unique_values\": 2,\n        \"samples\": [\n          1\n        ],\n        \"semantic_type\": \"\",\n        \"description\": \"\"\n      }\n    },\n    {\n      \"column\": \"label_12\",\n      \"properties\": {\n        \"dtype\": \"number\",\n        \"std\": 0,\n        \"min\": 1,\n        \"max\": 1,\n        \"num_unique_values\": 1,\n        \"samples\": [\n          1\n        ],\n        \"semantic_type\": \"\",\n        \"description\": \"\"\n      }\n    },\n    {\n      \"column\": \"label_13\",\n      \"properties\": {\n        \"dtype\": \"number\",\n        \"std\": 0,\n        \"min\": 1,\n        \"max\": 1,\n        \"num_unique_values\": 1,\n        \"samples\": [\n          1\n        ],\n        \"semantic_type\": \"\",\n        \"description\": \"\"\n      }\n    },\n    {\n      \"column\": \"label_14\",\n      \"properties\": {\n        \"dtype\": \"number\",\n        \"std\": 0,\n        \"min\": 0,\n        \"max\": 1,\n        \"num_unique_values\": 2,\n        \"samples\": [\n          0\n        ],\n        \"semantic_type\": \"\",\n        \"description\": \"\"\n      }\n    },\n    {\n      \"column\": \"label_15\",\n      \"properties\": {\n        \"dtype\": \"number\",\n        \"std\": 0,\n        \"min\": 0,\n        \"max\": 1,\n        \"num_unique_values\": 2,\n        \"samples\": [\n          0\n        ],\n        \"semantic_type\": \"\",\n        \"description\": \"\"\n      }\n    },\n    {\n      \"column\": \"label_16\",\n      \"properties\": {\n        \"dtype\": \"number\",\n        \"std\": 0,\n        \"min\": 0,\n        \"max\": 1,\n        \"num_unique_values\": 2,\n        \"samples\": [\n          0\n        ],\n        \"semantic_type\": \"\",\n        \"description\": \"\"\n      }\n    },\n    {\n      \"column\": \"label_17\",\n      \"properties\": {\n        \"dtype\": \"number\",\n        \"std\": 0,\n        \"min\": 0,\n        \"max\": 1,\n        \"num_unique_values\": 2,\n        \"samples\": [\n          1\n        ],\n        \"semantic_type\": \"\",\n        \"description\": \"\"\n      }\n    },\n    {\n      \"column\": \"label_18\",\n      \"properties\": {\n        \"dtype\": \"number\",\n        \"std\": 0,\n        \"min\": 0,\n        \"max\": 1,\n        \"num_unique_values\": 2,\n        \"samples\": [\n          1\n        ],\n        \"semantic_type\": \"\",\n        \"description\": \"\"\n      }\n    },\n    {\n      \"column\": \"label_19\",\n      \"properties\": {\n        \"dtype\": \"number\",\n        \"std\": 0,\n        \"min\": 0,\n        \"max\": 1,\n        \"num_unique_values\": 2,\n        \"samples\": [\n          0\n        ],\n        \"semantic_type\": \"\",\n        \"description\": \"\"\n      }\n    }\n  ]\n}",
       "type": "dataframe"
      },
      "text/html": [
       "\n",
       "  <div id=\"df-36283226-0e48-411d-9b27-0561a4a0b0a7\" class=\"colab-df-container\">\n",
       "    <div>\n",
       "<style scoped>\n",
       "    .dataframe tbody tr th:only-of-type {\n",
       "        vertical-align: middle;\n",
       "    }\n",
       "\n",
       "    .dataframe tbody tr th {\n",
       "        vertical-align: top;\n",
       "    }\n",
       "\n",
       "    .dataframe thead th {\n",
       "        text-align: right;\n",
       "    }\n",
       "</style>\n",
       "<table border=\"1\" class=\"dataframe\">\n",
       "  <thead>\n",
       "    <tr style=\"text-align: right;\">\n",
       "      <th></th>\n",
       "      <th>label_0</th>\n",
       "      <th>label_1</th>\n",
       "      <th>label_2</th>\n",
       "      <th>label_3</th>\n",
       "      <th>label_4</th>\n",
       "      <th>label_5</th>\n",
       "      <th>label_6</th>\n",
       "      <th>label_7</th>\n",
       "      <th>label_8</th>\n",
       "      <th>label_9</th>\n",
       "      <th>label_10</th>\n",
       "      <th>label_11</th>\n",
       "      <th>label_12</th>\n",
       "      <th>label_13</th>\n",
       "      <th>label_14</th>\n",
       "      <th>label_15</th>\n",
       "      <th>label_16</th>\n",
       "      <th>label_17</th>\n",
       "      <th>label_18</th>\n",
       "      <th>label_19</th>\n",
       "    </tr>\n",
       "  </thead>\n",
       "  <tbody>\n",
       "    <tr>\n",
       "      <th>0</th>\n",
       "      <td>1</td>\n",
       "      <td>0</td>\n",
       "      <td>0</td>\n",
       "      <td>0</td>\n",
       "      <td>1</td>\n",
       "      <td>0</td>\n",
       "      <td>0</td>\n",
       "      <td>0</td>\n",
       "      <td>1</td>\n",
       "      <td>0</td>\n",
       "      <td>0</td>\n",
       "      <td>0</td>\n",
       "      <td>1</td>\n",
       "      <td>1</td>\n",
       "      <td>1</td>\n",
       "      <td>1</td>\n",
       "      <td>1</td>\n",
       "      <td>0</td>\n",
       "      <td>0</td>\n",
       "      <td>1</td>\n",
       "    </tr>\n",
       "    <tr>\n",
       "      <th>1</th>\n",
       "      <td>0</td>\n",
       "      <td>0</td>\n",
       "      <td>0</td>\n",
       "      <td>1</td>\n",
       "      <td>0</td>\n",
       "      <td>0</td>\n",
       "      <td>0</td>\n",
       "      <td>0</td>\n",
       "      <td>1</td>\n",
       "      <td>0</td>\n",
       "      <td>0</td>\n",
       "      <td>0</td>\n",
       "      <td>1</td>\n",
       "      <td>1</td>\n",
       "      <td>0</td>\n",
       "      <td>1</td>\n",
       "      <td>1</td>\n",
       "      <td>0</td>\n",
       "      <td>0</td>\n",
       "      <td>1</td>\n",
       "    </tr>\n",
       "    <tr>\n",
       "      <th>2</th>\n",
       "      <td>0</td>\n",
       "      <td>0</td>\n",
       "      <td>0</td>\n",
       "      <td>0</td>\n",
       "      <td>1</td>\n",
       "      <td>0</td>\n",
       "      <td>0</td>\n",
       "      <td>0</td>\n",
       "      <td>0</td>\n",
       "      <td>0</td>\n",
       "      <td>0</td>\n",
       "      <td>0</td>\n",
       "      <td>1</td>\n",
       "      <td>1</td>\n",
       "      <td>0</td>\n",
       "      <td>1</td>\n",
       "      <td>1</td>\n",
       "      <td>0</td>\n",
       "      <td>0</td>\n",
       "      <td>1</td>\n",
       "    </tr>\n",
       "    <tr>\n",
       "      <th>3</th>\n",
       "      <td>1</td>\n",
       "      <td>1</td>\n",
       "      <td>0</td>\n",
       "      <td>0</td>\n",
       "      <td>1</td>\n",
       "      <td>0</td>\n",
       "      <td>0</td>\n",
       "      <td>1</td>\n",
       "      <td>1</td>\n",
       "      <td>1</td>\n",
       "      <td>1</td>\n",
       "      <td>1</td>\n",
       "      <td>1</td>\n",
       "      <td>1</td>\n",
       "      <td>1</td>\n",
       "      <td>0</td>\n",
       "      <td>0</td>\n",
       "      <td>1</td>\n",
       "      <td>1</td>\n",
       "      <td>0</td>\n",
       "    </tr>\n",
       "    <tr>\n",
       "      <th>4</th>\n",
       "      <td>1</td>\n",
       "      <td>1</td>\n",
       "      <td>0</td>\n",
       "      <td>0</td>\n",
       "      <td>0</td>\n",
       "      <td>0</td>\n",
       "      <td>0</td>\n",
       "      <td>1</td>\n",
       "      <td>1</td>\n",
       "      <td>0</td>\n",
       "      <td>0</td>\n",
       "      <td>1</td>\n",
       "      <td>1</td>\n",
       "      <td>1</td>\n",
       "      <td>1</td>\n",
       "      <td>0</td>\n",
       "      <td>1</td>\n",
       "      <td>1</td>\n",
       "      <td>1</td>\n",
       "      <td>0</td>\n",
       "    </tr>\n",
       "  </tbody>\n",
       "</table>\n",
       "</div>\n",
       "    <div class=\"colab-df-buttons\">\n",
       "\n",
       "  <div class=\"colab-df-container\">\n",
       "    <button class=\"colab-df-convert\" onclick=\"convertToInteractive('df-36283226-0e48-411d-9b27-0561a4a0b0a7')\"\n",
       "            title=\"Convert this dataframe to an interactive table.\"\n",
       "            style=\"display:none;\">\n",
       "\n",
       "  <svg xmlns=\"http://www.w3.org/2000/svg\" height=\"24px\" viewBox=\"0 -960 960 960\">\n",
       "    <path d=\"M120-120v-720h720v720H120Zm60-500h600v-160H180v160Zm220 220h160v-160H400v160Zm0 220h160v-160H400v160ZM180-400h160v-160H180v160Zm440 0h160v-160H620v160ZM180-180h160v-160H180v160Zm440 0h160v-160H620v160Z\"/>\n",
       "  </svg>\n",
       "    </button>\n",
       "\n",
       "  <style>\n",
       "    .colab-df-container {\n",
       "      display:flex;\n",
       "      gap: 12px;\n",
       "    }\n",
       "\n",
       "    .colab-df-convert {\n",
       "      background-color: #E8F0FE;\n",
       "      border: none;\n",
       "      border-radius: 50%;\n",
       "      cursor: pointer;\n",
       "      display: none;\n",
       "      fill: #1967D2;\n",
       "      height: 32px;\n",
       "      padding: 0 0 0 0;\n",
       "      width: 32px;\n",
       "    }\n",
       "\n",
       "    .colab-df-convert:hover {\n",
       "      background-color: #E2EBFA;\n",
       "      box-shadow: 0px 1px 2px rgba(60, 64, 67, 0.3), 0px 1px 3px 1px rgba(60, 64, 67, 0.15);\n",
       "      fill: #174EA6;\n",
       "    }\n",
       "\n",
       "    .colab-df-buttons div {\n",
       "      margin-bottom: 4px;\n",
       "    }\n",
       "\n",
       "    [theme=dark] .colab-df-convert {\n",
       "      background-color: #3B4455;\n",
       "      fill: #D2E3FC;\n",
       "    }\n",
       "\n",
       "    [theme=dark] .colab-df-convert:hover {\n",
       "      background-color: #434B5C;\n",
       "      box-shadow: 0px 1px 3px 1px rgba(0, 0, 0, 0.15);\n",
       "      filter: drop-shadow(0px 1px 2px rgba(0, 0, 0, 0.3));\n",
       "      fill: #FFFFFF;\n",
       "    }\n",
       "  </style>\n",
       "\n",
       "    <script>\n",
       "      const buttonEl =\n",
       "        document.querySelector('#df-36283226-0e48-411d-9b27-0561a4a0b0a7 button.colab-df-convert');\n",
       "      buttonEl.style.display =\n",
       "        google.colab.kernel.accessAllowed ? 'block' : 'none';\n",
       "\n",
       "      async function convertToInteractive(key) {\n",
       "        const element = document.querySelector('#df-36283226-0e48-411d-9b27-0561a4a0b0a7');\n",
       "        const dataTable =\n",
       "          await google.colab.kernel.invokeFunction('convertToInteractive',\n",
       "                                                    [key], {});\n",
       "        if (!dataTable) return;\n",
       "\n",
       "        const docLinkHtml = 'Like what you see? Visit the ' +\n",
       "          '<a target=\"_blank\" href=https://colab.research.google.com/notebooks/data_table.ipynb>data table notebook</a>'\n",
       "          + ' to learn more about interactive tables.';\n",
       "        element.innerHTML = '';\n",
       "        dataTable['output_type'] = 'display_data';\n",
       "        await google.colab.output.renderOutput(dataTable, element);\n",
       "        const docLink = document.createElement('div');\n",
       "        docLink.innerHTML = docLinkHtml;\n",
       "        element.appendChild(docLink);\n",
       "      }\n",
       "    </script>\n",
       "  </div>\n",
       "\n",
       "\n",
       "    <div id=\"df-9d22f649-1ded-45ce-ba62-246cef273341\">\n",
       "      <button class=\"colab-df-quickchart\" onclick=\"quickchart('df-9d22f649-1ded-45ce-ba62-246cef273341')\"\n",
       "                title=\"Suggest charts\"\n",
       "                style=\"display:none;\">\n",
       "\n",
       "<svg xmlns=\"http://www.w3.org/2000/svg\" height=\"24px\"viewBox=\"0 0 24 24\"\n",
       "     width=\"24px\">\n",
       "    <g>\n",
       "        <path d=\"M19 3H5c-1.1 0-2 .9-2 2v14c0 1.1.9 2 2 2h14c1.1 0 2-.9 2-2V5c0-1.1-.9-2-2-2zM9 17H7v-7h2v7zm4 0h-2V7h2v10zm4 0h-2v-4h2v4z\"/>\n",
       "    </g>\n",
       "</svg>\n",
       "      </button>\n",
       "\n",
       "<style>\n",
       "  .colab-df-quickchart {\n",
       "      --bg-color: #E8F0FE;\n",
       "      --fill-color: #1967D2;\n",
       "      --hover-bg-color: #E2EBFA;\n",
       "      --hover-fill-color: #174EA6;\n",
       "      --disabled-fill-color: #AAA;\n",
       "      --disabled-bg-color: #DDD;\n",
       "  }\n",
       "\n",
       "  [theme=dark] .colab-df-quickchart {\n",
       "      --bg-color: #3B4455;\n",
       "      --fill-color: #D2E3FC;\n",
       "      --hover-bg-color: #434B5C;\n",
       "      --hover-fill-color: #FFFFFF;\n",
       "      --disabled-bg-color: #3B4455;\n",
       "      --disabled-fill-color: #666;\n",
       "  }\n",
       "\n",
       "  .colab-df-quickchart {\n",
       "    background-color: var(--bg-color);\n",
       "    border: none;\n",
       "    border-radius: 50%;\n",
       "    cursor: pointer;\n",
       "    display: none;\n",
       "    fill: var(--fill-color);\n",
       "    height: 32px;\n",
       "    padding: 0;\n",
       "    width: 32px;\n",
       "  }\n",
       "\n",
       "  .colab-df-quickchart:hover {\n",
       "    background-color: var(--hover-bg-color);\n",
       "    box-shadow: 0 1px 2px rgba(60, 64, 67, 0.3), 0 1px 3px 1px rgba(60, 64, 67, 0.15);\n",
       "    fill: var(--button-hover-fill-color);\n",
       "  }\n",
       "\n",
       "  .colab-df-quickchart-complete:disabled,\n",
       "  .colab-df-quickchart-complete:disabled:hover {\n",
       "    background-color: var(--disabled-bg-color);\n",
       "    fill: var(--disabled-fill-color);\n",
       "    box-shadow: none;\n",
       "  }\n",
       "\n",
       "  .colab-df-spinner {\n",
       "    border: 2px solid var(--fill-color);\n",
       "    border-color: transparent;\n",
       "    border-bottom-color: var(--fill-color);\n",
       "    animation:\n",
       "      spin 1s steps(1) infinite;\n",
       "  }\n",
       "\n",
       "  @keyframes spin {\n",
       "    0% {\n",
       "      border-color: transparent;\n",
       "      border-bottom-color: var(--fill-color);\n",
       "      border-left-color: var(--fill-color);\n",
       "    }\n",
       "    20% {\n",
       "      border-color: transparent;\n",
       "      border-left-color: var(--fill-color);\n",
       "      border-top-color: var(--fill-color);\n",
       "    }\n",
       "    30% {\n",
       "      border-color: transparent;\n",
       "      border-left-color: var(--fill-color);\n",
       "      border-top-color: var(--fill-color);\n",
       "      border-right-color: var(--fill-color);\n",
       "    }\n",
       "    40% {\n",
       "      border-color: transparent;\n",
       "      border-right-color: var(--fill-color);\n",
       "      border-top-color: var(--fill-color);\n",
       "    }\n",
       "    60% {\n",
       "      border-color: transparent;\n",
       "      border-right-color: var(--fill-color);\n",
       "    }\n",
       "    80% {\n",
       "      border-color: transparent;\n",
       "      border-right-color: var(--fill-color);\n",
       "      border-bottom-color: var(--fill-color);\n",
       "    }\n",
       "    90% {\n",
       "      border-color: transparent;\n",
       "      border-bottom-color: var(--fill-color);\n",
       "    }\n",
       "  }\n",
       "</style>\n",
       "\n",
       "      <script>\n",
       "        async function quickchart(key) {\n",
       "          const quickchartButtonEl =\n",
       "            document.querySelector('#' + key + ' button');\n",
       "          quickchartButtonEl.disabled = true;  // To prevent multiple clicks.\n",
       "          quickchartButtonEl.classList.add('colab-df-spinner');\n",
       "          try {\n",
       "            const charts = await google.colab.kernel.invokeFunction(\n",
       "                'suggestCharts', [key], {});\n",
       "          } catch (error) {\n",
       "            console.error('Error during call to suggestCharts:', error);\n",
       "          }\n",
       "          quickchartButtonEl.classList.remove('colab-df-spinner');\n",
       "          quickchartButtonEl.classList.add('colab-df-quickchart-complete');\n",
       "        }\n",
       "        (() => {\n",
       "          let quickchartButtonEl =\n",
       "            document.querySelector('#df-9d22f649-1ded-45ce-ba62-246cef273341 button');\n",
       "          quickchartButtonEl.style.display =\n",
       "            google.colab.kernel.accessAllowed ? 'block' : 'none';\n",
       "        })();\n",
       "      </script>\n",
       "    </div>\n",
       "\n",
       "    </div>\n",
       "  </div>\n"
      ],
      "text/plain": [
       "   label_0  label_1  label_2  label_3  label_4  label_5  label_6  label_7  \\\n",
       "0        1        0        0        0        1        0        0        0   \n",
       "1        0        0        0        1        0        0        0        0   \n",
       "2        0        0        0        0        1        0        0        0   \n",
       "3        1        1        0        0        1        0        0        1   \n",
       "4        1        1        0        0        0        0        0        1   \n",
       "\n",
       "   label_8  label_9  label_10  label_11  label_12  label_13  label_14  \\\n",
       "0        1        0         0         0         1         1         1   \n",
       "1        1        0         0         0         1         1         0   \n",
       "2        0        0         0         0         1         1         0   \n",
       "3        1        1         1         1         1         1         1   \n",
       "4        1        0         0         1         1         1         1   \n",
       "\n",
       "   label_15  label_16  label_17  label_18  label_19  \n",
       "0         1         1         0         0         1  \n",
       "1         1         1         0         0         1  \n",
       "2         1         1         0         0         1  \n",
       "3         0         0         1         1         0  \n",
       "4         0         1         1         1         0  "
      ]
     },
     "execution_count": 17,
     "metadata": {},
     "output_type": "execute_result"
    }
   ],
   "source": [
    "df[target_columns].head()"
   ]
  },
  {
   "cell_type": "markdown",
   "metadata": {
    "id": "cN7DaiRHzszx"
   },
   "source": [
    "## 3.2 Обучение моделей"
   ]
  },
  {
   "cell_type": "markdown",
   "metadata": {
    "id": "uCKF4mn9z4_D"
   },
   "source": [
    "### TF-IDF + простая нейросеть (MLP)"
   ]
  },
  {
   "cell_type": "code",
   "execution_count": null,
   "metadata": {
    "colab": {
     "base_uri": "https://localhost:8080/",
     "height": 1000
    },
    "id": "Kbiw9Anw1s_k",
    "outputId": "1e537dda-2236-4a9b-e523-aa001435b584"
   },
   "outputs": [
    {
     "name": "stderr",
     "output_type": "stream",
     "text": [
      "[nltk_data] Downloading package stopwords to /root/nltk_data...\n",
      "[nltk_data]   Package stopwords is already up-to-date!\n",
      "/usr/local/lib/python3.11/dist-packages/torch/optim/lr_scheduler.py:62: UserWarning: The verbose parameter is deprecated. Please use get_last_lr() to access the learning rate.\n",
      "  warnings.warn(\n"
     ]
    },
    {
     "name": "stdout",
     "output_type": "stream",
     "text": [
      "\n",
      "Epoch 1/40\n",
      "------------------------------\n",
      "Train Loss: 0.5588 | Val Loss: 0.4485 | Val F1: 0.6095\n",
      "Сохраняем новую лучшую модель\n",
      "\n",
      "Epoch 2/40\n",
      "------------------------------\n",
      "Train Loss: 0.4070 | Val Loss: 0.3760 | Val F1: 0.6591\n",
      "Сохраняем новую лучшую модель\n",
      "\n",
      "Epoch 3/40\n",
      "------------------------------\n",
      "Train Loss: 0.3531 | Val Loss: 0.3392 | Val F1: 0.6857\n",
      "Сохраняем новую лучшую модель\n",
      "\n",
      "Epoch 4/40\n",
      "------------------------------\n",
      "Train Loss: 0.3213 | Val Loss: 0.3149 | Val F1: 0.6957\n",
      "Сохраняем новую лучшую модель\n",
      "\n",
      "Epoch 5/40\n",
      "------------------------------\n",
      "Train Loss: 0.2984 | Val Loss: 0.2968 | Val F1: 0.7028\n",
      "Сохраняем новую лучшую модель\n",
      "\n",
      "Epoch 6/40\n",
      "------------------------------\n",
      "Train Loss: 0.2800 | Val Loss: 0.2826 | Val F1: 0.7138\n",
      "Сохраняем новую лучшую модель\n",
      "\n",
      "Epoch 7/40\n",
      "------------------------------\n",
      "Train Loss: 0.2655 | Val Loss: 0.2713 | Val F1: 0.7216\n",
      "Сохраняем новую лучшую модель\n",
      "\n",
      "Epoch 8/40\n",
      "------------------------------\n",
      "Train Loss: 0.2535 | Val Loss: 0.2620 | Val F1: 0.7315\n",
      "Сохраняем новую лучшую модель\n",
      "\n",
      "Epoch 9/40\n",
      "------------------------------\n",
      "Train Loss: 0.2429 | Val Loss: 0.2539 | Val F1: 0.7361\n",
      "Сохраняем новую лучшую модель\n",
      "\n",
      "Epoch 10/40\n",
      "------------------------------\n",
      "Train Loss: 0.2338 | Val Loss: 0.2472 | Val F1: 0.7415\n",
      "Сохраняем новую лучшую модель\n",
      "\n",
      "Epoch 11/40\n",
      "------------------------------\n",
      "Train Loss: 0.2254 | Val Loss: 0.2413 | Val F1: 0.7451\n",
      "Сохраняем новую лучшую модель\n",
      "\n",
      "Epoch 12/40\n",
      "------------------------------\n",
      "Train Loss: 0.2179 | Val Loss: 0.2361 | Val F1: 0.7480\n",
      "Сохраняем новую лучшую модель\n",
      "\n",
      "Epoch 13/40\n",
      "------------------------------\n",
      "Train Loss: 0.2110 | Val Loss: 0.2315 | Val F1: 0.7503\n",
      "Сохраняем новую лучшую модель\n",
      "\n",
      "Epoch 14/40\n",
      "------------------------------\n",
      "Train Loss: 0.2045 | Val Loss: 0.2274 | Val F1: 0.7539\n",
      "Сохраняем новую лучшую модель\n",
      "\n",
      "Epoch 15/40\n",
      "------------------------------\n",
      "Train Loss: 0.1986 | Val Loss: 0.2236 | Val F1: 0.7601\n",
      "Сохраняем новую лучшую модель\n",
      "\n",
      "Epoch 16/40\n",
      "------------------------------\n",
      "Train Loss: 0.1929 | Val Loss: 0.2201 | Val F1: 0.7668\n",
      "Сохраняем новую лучшую модель\n",
      "\n",
      "Epoch 17/40\n",
      "------------------------------\n",
      "Train Loss: 0.1874 | Val Loss: 0.2171 | Val F1: 0.7730\n",
      "Сохраняем новую лучшую модель\n",
      "\n",
      "Epoch 18/40\n",
      "------------------------------\n",
      "Train Loss: 0.1826 | Val Loss: 0.2144 | Val F1: 0.7794\n",
      "Сохраняем новую лучшую модель\n",
      "\n",
      "Epoch 19/40\n",
      "------------------------------\n",
      "Train Loss: 0.1779 | Val Loss: 0.2119 | Val F1: 0.7825\n",
      "Сохраняем новую лучшую модель\n",
      "\n",
      "Epoch 20/40\n",
      "------------------------------\n",
      "Train Loss: 0.1733 | Val Loss: 0.2097 | Val F1: 0.7879\n",
      "Сохраняем новую лучшую модель\n",
      "\n",
      "Epoch 21/40\n",
      "------------------------------\n",
      "Train Loss: 0.1695 | Val Loss: 0.2076 | Val F1: 0.7914\n",
      "Сохраняем новую лучшую модель\n",
      "\n",
      "Epoch 22/40\n",
      "------------------------------\n",
      "Train Loss: 0.1650 | Val Loss: 0.2057 | Val F1: 0.7926\n",
      "Сохраняем новую лучшую модель\n",
      "\n",
      "Epoch 23/40\n",
      "------------------------------\n",
      "Train Loss: 0.1615 | Val Loss: 0.2043 | Val F1: 0.7965\n",
      "Сохраняем новую лучшую модель\n",
      "\n",
      "Epoch 24/40\n",
      "------------------------------\n",
      "Train Loss: 0.1575 | Val Loss: 0.2027 | Val F1: 0.7976\n",
      "Сохраняем новую лучшую модель\n",
      "\n",
      "Epoch 25/40\n",
      "------------------------------\n",
      "Train Loss: 0.1542 | Val Loss: 0.2015 | Val F1: 0.8002\n",
      "Сохраняем новую лучшую модель\n",
      "\n",
      "Epoch 26/40\n",
      "------------------------------\n",
      "Train Loss: 0.1504 | Val Loss: 0.2004 | Val F1: 0.8024\n",
      "Сохраняем новую лучшую модель\n",
      "\n",
      "Epoch 27/40\n",
      "------------------------------\n",
      "Train Loss: 0.1477 | Val Loss: 0.1994 | Val F1: 0.8035\n",
      "Сохраняем новую лучшую модель\n",
      "\n",
      "Epoch 28/40\n",
      "------------------------------\n",
      "Train Loss: 0.1443 | Val Loss: 0.1986 | Val F1: 0.8043\n",
      "Сохраняем новую лучшую модель\n",
      "\n",
      "Epoch 29/40\n",
      "------------------------------\n",
      "Train Loss: 0.1416 | Val Loss: 0.1977 | Val F1: 0.8060\n",
      "Сохраняем новую лучшую модель\n",
      "\n",
      "Epoch 30/40\n",
      "------------------------------\n",
      "Train Loss: 0.1387 | Val Loss: 0.1969 | Val F1: 0.8076\n",
      "Сохраняем новую лучшую модель\n",
      "\n",
      "Epoch 31/40\n",
      "------------------------------\n",
      "Train Loss: 0.1357 | Val Loss: 0.1965 | Val F1: 0.8090\n",
      "Сохраняем новую лучшую модель\n",
      "\n",
      "Epoch 32/40\n",
      "------------------------------\n",
      "Train Loss: 0.1334 | Val Loss: 0.1960 | Val F1: 0.8100\n",
      "Сохраняем новую лучшую модель\n",
      "\n",
      "Epoch 33/40\n",
      "------------------------------\n",
      "Train Loss: 0.1304 | Val Loss: 0.1956 | Val F1: 0.8129\n",
      "Сохраняем новую лучшую модель\n",
      "\n",
      "Epoch 34/40\n",
      "------------------------------\n",
      "Train Loss: 0.1279 | Val Loss: 0.1955 | Val F1: 0.8145\n",
      "Сохраняем новую лучшую модель\n",
      "\n",
      "Epoch 35/40\n",
      "------------------------------\n",
      "Train Loss: 0.1254 | Val Loss: 0.1951 | Val F1: 0.8157\n",
      "Сохраняем новую лучшую модель\n",
      "\n",
      "Epoch 36/40\n",
      "------------------------------\n",
      "Train Loss: 0.1234 | Val Loss: 0.1948 | Val F1: 0.8163\n",
      "Сохраняем новую лучшую модель\n",
      "\n",
      "Epoch 37/40\n",
      "------------------------------\n",
      "Train Loss: 0.1209 | Val Loss: 0.1947 | Val F1: 0.8161\n",
      "\n",
      "Epoch 38/40\n",
      "------------------------------\n",
      "Train Loss: 0.1189 | Val Loss: 0.1949 | Val F1: 0.8171\n",
      "Сохраняем новую лучшую модель\n",
      "\n",
      "Epoch 39/40\n",
      "------------------------------\n",
      "Train Loss: 0.1163 | Val Loss: 0.1950 | Val F1: 0.8193\n",
      "Сохраняем новую лучшую модель\n",
      "\n",
      "Epoch 40/40\n",
      "------------------------------\n",
      "Train Loss: 0.1146 | Val Loss: 0.1949 | Val F1: 0.8192\n"
     ]
    },
    {
     "data": {
      "image/png": "[encoded data removed]",
      "text/plain": [
       "<Figure size 1200x500 with 2 Axes>"
      ]
     },
     "metadata": {},
     "output_type": "display_data"
    }
   ],
   "source": [
    "import pandas as pd\n",
    "import numpy as np\n",
    "import torch\n",
    "import torch.nn as nn\n",
    "from torch.utils.data import Dataset, DataLoader\n",
    "from sklearn.model_selection import train_test_split\n",
    "from sklearn.feature_extraction.text import TfidfVectorizer\n",
    "from sklearn.metrics import f1_score\n",
    "import matplotlib.pyplot as plt\n",
    "import copy\n",
    "import re\n",
    "import nltk\n",
    "from nltk.corpus import stopwords\n",
    "from nltk.stem import SnowballStemmer\n",
    "\n",
    "nltk.download('stopwords')\n",
    "stop_words = set(stopwords.words('russian'))\n",
    "stemmer = SnowballStemmer('russian')\n",
    "\n",
    "\n",
    "def clean_text_tfidf(text): # продублируем очистку, чтобы при необходимости можно было не запускать весь блокнот\n",
    "    text = text.lower()\n",
    "    text = re.sub(r'https?://\\S+|www\\.\\S+', '', text)\n",
    "    text = re.sub(r'[^\\w\\s]', '', text)\n",
    "    text = re.sub(r'\\d+', '', text)\n",
    "    words = text.split()\n",
    "    words = [stemmer.stem(word) for word in words if word not in stop_words]\n",
    "    return ' '.join(words)\n",
    "\n",
    "\n",
    "df['label_vector'] = df['labels'].apply(lambda x: list(map(int, x.strip().split())))\n",
    "df['text_tfidf'] = df['text'].apply(clean_text_tfidf)\n",
    "\n",
    "target_columns = [f'label_{i}' for i in range(len(df['label_vector'].iloc[0]))]\n",
    "df[target_columns] = pd.DataFrame(df['label_vector'].tolist(), index=df.index)\n",
    "\n",
    "tfidf_vectorizer = TfidfVectorizer(max_features=10000)\n",
    "X_tfidf = tfidf_vectorizer.fit_transform(df['text_tfidf'])\n",
    "y = df[target_columns]\n",
    "\n",
    "X_train, X_val, y_train, y_val = train_test_split(X_tfidf, y, test_size=0.2, random_state=42)\n",
    "\n",
    "class TfidfDataset(Dataset):\n",
    "    def __init__(self, X, y):\n",
    "        self.X = torch.tensor(X.toarray(), dtype=torch.float32)\n",
    "        self.y = torch.tensor(y.values, dtype=torch.float32)\n",
    "\n",
    "    def __len__(self):\n",
    "        return len(self.X)\n",
    "\n",
    "    def __getitem__(self, idx):\n",
    "        return self.X[idx], self.y[idx]\n",
    "\n",
    "train_dataset = TfidfDataset(X_train, y_train)\n",
    "val_dataset = TfidfDataset(X_val, y_val)\n",
    "\n",
    "train_loader = DataLoader(train_dataset, batch_size=64, shuffle=True)\n",
    "val_loader = DataLoader(val_dataset, batch_size=64, shuffle=False)\n",
    "\n",
    "class MLPClassifier(nn.Module):\n",
    "    def __init__(self, input_dim, output_dim):\n",
    "        super().__init__()\n",
    "        self.net = nn.Sequential(\n",
    "            nn.Linear(input_dim, 512),\n",
    "            nn.ReLU(),\n",
    "            nn.Dropout(0.3),\n",
    "            nn.Linear(512, output_dim),\n",
    "            nn.Sigmoid()\n",
    "        )\n",
    "\n",
    "    def forward(self, x):\n",
    "        return self.net(x)\n",
    "\n",
    "device = torch.device('cuda' if torch.cuda.is_available() else 'cpu')\n",
    "model = MLPClassifier(X_tfidf.shape[1], y.shape[1]).to(device)\n",
    "\n",
    "def train_model(model, train_loader, val_loader, criterion, optimizer, scheduler=None,\n",
    "                num_epochs=40, patience=3, warmup_epochs=2, model_path='best_model.pt'):\n",
    "    best_model_wts = copy.deepcopy(model.state_dict())\n",
    "    best_f1 = 0.0\n",
    "    patience_counter = 0\n",
    "\n",
    "    train_losses, val_losses = [], []\n",
    "    val_f1s = []\n",
    "\n",
    "    for epoch in range(num_epochs):\n",
    "        print(f'\\nEpoch {epoch+1}/{num_epochs}')\n",
    "        print('-' * 30)\n",
    "\n",
    "        if scheduler and epoch < warmup_epochs:\n",
    "            for param_group in optimizer.param_groups:\n",
    "                param_group['lr'] = 1e-4\n",
    "\n",
    "        model.train()\n",
    "        running_loss = 0.0\n",
    "\n",
    "        for inputs, targets in train_loader:\n",
    "            inputs, targets = inputs.to(device), targets.to(device)\n",
    "            optimizer.zero_grad()\n",
    "            outputs = model(inputs)\n",
    "            loss = criterion(outputs, targets)\n",
    "            loss.backward()\n",
    "            optimizer.step()\n",
    "            running_loss += loss.item()\n",
    "\n",
    "        train_losses.append(running_loss / len(train_loader))\n",
    "\n",
    "        model.eval()\n",
    "        val_loss = 0.0\n",
    "        all_preds, all_labels = [], []\n",
    "\n",
    "        with torch.no_grad():\n",
    "            for inputs, targets in val_loader:\n",
    "                inputs = inputs.to(device)\n",
    "                targets = targets.to(device)\n",
    "                outputs = model(inputs)\n",
    "                loss = criterion(outputs, targets)\n",
    "                val_loss += loss.item()\n",
    "\n",
    "                preds = (outputs > 0.5).float().cpu().numpy()\n",
    "                labels = targets.cpu().numpy()\n",
    "                all_preds.append(preds)\n",
    "                all_labels.append(labels)\n",
    "\n",
    "        val_loss /= len(val_loader)\n",
    "        val_losses.append(val_loss)\n",
    "\n",
    "        all_preds = np.vstack(all_preds)\n",
    "        all_labels = np.vstack(all_labels)\n",
    "        f1 = f1_score(all_labels, all_preds, average='macro')\n",
    "        val_f1s.append(f1)\n",
    "\n",
    "        print(f\"Train Loss: {train_losses[-1]:.4f} | Val Loss: {val_loss:.4f} | Val F1: {f1:.4f}\")\n",
    "\n",
    "        if scheduler and epoch >= warmup_epochs:\n",
    "            scheduler.step(val_loss)\n",
    "\n",
    "        if f1 > best_f1:\n",
    "            print(\"Сохраняем новую лучшую модель\")\n",
    "            best_f1 = f1\n",
    "            best_model_wts = copy.deepcopy(model.state_dict())\n",
    "            torch.save(model.state_dict(), model_path)\n",
    "            patience_counter = 0\n",
    "        else:\n",
    "            patience_counter += 1\n",
    "            if patience_counter >= patience:\n",
    "                print(\"Ранняя остановка\")\n",
    "                break\n",
    "\n",
    "    plt.figure(figsize=(12, 5))\n",
    "    plt.subplot(1, 2, 1)\n",
    "    plt.plot(train_losses, label='Train Loss')\n",
    "    plt.plot(val_losses, label='Val Loss')\n",
    "    plt.legend()\n",
    "    plt.title(\"Loss по эпохам\")\n",
    "\n",
    "    plt.subplot(1, 2, 2)\n",
    "    plt.plot(val_f1s, label='Val F1', color='green')\n",
    "    plt.legend()\n",
    "    plt.title(\"Validation F1\")\n",
    "\n",
    "    plt.tight_layout()\n",
    "    plt.show()\n",
    "\n",
    "    model.load_state_dict(best_model_wts)\n",
    "    return model\n",
    "\n",
    "criterion = nn.BCELoss()\n",
    "optimizer = torch.optim.Adam(model.parameters(), lr=1e-3)\n",
    "scheduler = torch.optim.lr_scheduler.ReduceLROnPlateau(optimizer, mode='min', factor=0.5, patience=2, verbose=True)\n",
    "\n",
    "model = train_model(model, train_loader, val_loader, criterion, optimizer,\n",
    "                    scheduler=scheduler,\n",
    "                    num_epochs=40,\n",
    "                    patience=3,\n",
    "                    warmup_epochs=2,\n",
    "                    model_path='mlp_tfidf_best.pt')\n"
   ]
  },
  {
   "cell_type": "markdown",
   "metadata": {
    "id": "ATeUCtdb-Q_h"
   },
   "source": [
    "Переобучение не возникло, f1 достаточно неплохой!"
   ]
  },
  {
   "cell_type": "markdown",
   "metadata": {
    "id": "ft5f4kcPAT0w"
   },
   "source": [
    "### Word2Vec"
   ]
  },
  {
   "cell_type": "code",
   "execution_count": null,
   "metadata": {
    "colab": {
     "base_uri": "https://localhost:8080/",
     "height": 1000
    },
    "id": "JK7V4VxmAw2k",
    "outputId": "b7db3a60-4292-4800-d0d0-7d3ef0a4577b"
   },
   "outputs": [
    {
     "name": "stdout",
     "output_type": "stream",
     "text": [
      "Requirement already satisfied: numpy in /usr/local/lib/python3.11/dist-packages (1.26.4)\n",
      "Collecting numpy\n",
      "  Using cached numpy-2.2.6-cp311-cp311-manylinux_2_17_x86_64.manylinux2014_x86_64.whl.metadata (62 kB)\n",
      "Using cached numpy-2.2.6-cp311-cp311-manylinux_2_17_x86_64.manylinux2014_x86_64.whl (16.8 MB)\n",
      "Installing collected packages: numpy\n",
      "  Attempting uninstall: numpy\n",
      "    Found existing installation: numpy 1.26.4\n",
      "    Uninstalling numpy-1.26.4:\n",
      "      Successfully uninstalled numpy-1.26.4\n",
      "\u001b[31mERROR: pip's dependency resolver does not currently take into account all the packages that are installed. This behaviour is the source of the following dependency conflicts.\n",
      "gensim 4.3.3 requires numpy<2.0,>=1.18.5, but you have numpy 2.2.6 which is incompatible.\n",
      "tsfresh 0.21.0 requires scipy>=1.14.0; python_version >= \"3.10\", but you have scipy 1.13.1 which is incompatible.\n",
      "numba 0.60.0 requires numpy<2.1,>=1.22, but you have numpy 2.2.6 which is incompatible.\n",
      "tensorflow 2.18.0 requires numpy<2.1.0,>=1.26.0, but you have numpy 2.2.6 which is incompatible.\u001b[0m\u001b[31m\n",
      "\u001b[0mSuccessfully installed numpy-2.2.6\n",
      "Collecting gensim\n",
      "  Downloading gensim-4.3.3-cp311-cp311-manylinux_2_17_x86_64.manylinux2014_x86_64.whl.metadata (8.1 kB)\n",
      "Collecting numpy<2.0,>=1.18.5 (from gensim)\n",
      "  Downloading numpy-1.26.4-cp311-cp311-manylinux_2_17_x86_64.manylinux2014_x86_64.whl.metadata (61 kB)\n",
      "\u001b[2K     \u001b[90m━━━━━━━━━━━━━━━━━━━━━━━━━━━━━━━━━━━━━━━━\u001b[0m \u001b[32m61.0/61.0 kB\u001b[0m \u001b[31m14.4 MB/s\u001b[0m eta \u001b[36m0:00:00\u001b[0m\n",
      "\u001b[?25hCollecting scipy<1.14.0,>=1.7.0 (from gensim)\n",
      "  Downloading scipy-1.13.1-cp311-cp311-manylinux_2_17_x86_64.manylinux2014_x86_64.whl.metadata (60 kB)\n",
      "\u001b[2K     \u001b[90m━━━━━━━━━━━━━━━━━━━━━━━━━━━━━━━━━━━━━━━\u001b[0m \u001b[32m60.6/60.6 kB\u001b[0m \u001b[31m156.9 MB/s\u001b[0m eta \u001b[36m0:00:00\u001b[0m\n",
      "\u001b[?25hCollecting smart-open>=1.8.1 (from gensim)\n",
      "  Downloading smart_open-7.1.0-py3-none-any.whl.metadata (24 kB)\n",
      "Collecting wrapt (from smart-open>=1.8.1->gensim)\n",
      "  Downloading wrapt-1.17.2-cp311-cp311-manylinux_2_5_x86_64.manylinux1_x86_64.manylinux_2_17_x86_64.manylinux2014_x86_64.whl.metadata (6.4 kB)\n",
      "Downloading gensim-4.3.3-cp311-cp311-manylinux_2_17_x86_64.manylinux2014_x86_64.whl (26.7 MB)\n",
      "\u001b[2K   \u001b[90m━━━━━━━━━━━━━━━━━━━━━━━━━━━━━━━━━━━━━━━━\u001b[0m \u001b[32m26.7/26.7 MB\u001b[0m \u001b[31m285.9 MB/s\u001b[0m eta \u001b[36m0:00:00\u001b[0m\n",
      "\u001b[?25hDownloading numpy-1.26.4-cp311-cp311-manylinux_2_17_x86_64.manylinux2014_x86_64.whl (18.3 MB)\n",
      "\u001b[2K   \u001b[90m━━━━━━━━━━━━━━━━━━━━━━━━━━━━━━━━━━━━━━━━\u001b[0m \u001b[32m18.3/18.3 MB\u001b[0m \u001b[31m299.9 MB/s\u001b[0m eta \u001b[36m0:00:00\u001b[0m\n",
      "\u001b[?25hDownloading scipy-1.13.1-cp311-cp311-manylinux_2_17_x86_64.manylinux2014_x86_64.whl (38.6 MB)\n",
      "\u001b[2K   \u001b[90m━━━━━━━━━━━━━━━━━━━━━━━━━━━━━━━━━━━━━━━━\u001b[0m \u001b[32m38.6/38.6 MB\u001b[0m \u001b[31m320.4 MB/s\u001b[0m eta \u001b[36m0:00:00\u001b[0m\n",
      "\u001b[?25hDownloading smart_open-7.1.0-py3-none-any.whl (61 kB)\n",
      "\u001b[2K   \u001b[90m━━━━━━━━━━━━━━━━━━━━━━━━━━━━━━━━━━━━━━━━\u001b[0m \u001b[32m61.7/61.7 kB\u001b[0m \u001b[31m237.3 MB/s\u001b[0m eta \u001b[36m0:00:00\u001b[0m\n",
      "\u001b[?25hDownloading wrapt-1.17.2-cp311-cp311-manylinux_2_5_x86_64.manylinux1_x86_64.manylinux_2_17_x86_64.manylinux2014_x86_64.whl (83 kB)\n",
      "\u001b[2K   \u001b[90m━━━━━━━━━━━━━━━━━━━━━━━━━━━━━━━━━━━━━━━━\u001b[0m \u001b[32m83.2/83.2 kB\u001b[0m \u001b[31m261.8 MB/s\u001b[0m eta \u001b[36m0:00:00\u001b[0m\n",
      "\u001b[?25hInstalling collected packages: wrapt, numpy, smart-open, scipy, gensim\n",
      "  Attempting uninstall: wrapt\n",
      "    Found existing installation: wrapt 1.17.2\n",
      "    Uninstalling wrapt-1.17.2:\n",
      "      Successfully uninstalled wrapt-1.17.2\n",
      "  Attempting uninstall: numpy\n",
      "    Found existing installation: numpy 2.2.6\n",
      "    Uninstalling numpy-2.2.6:\n",
      "      Successfully uninstalled numpy-2.2.6\n",
      "  Attempting uninstall: smart-open\n",
      "    Found existing installation: smart-open 7.1.0\n",
      "    Uninstalling smart-open-7.1.0:\n",
      "      Successfully uninstalled smart-open-7.1.0\n",
      "  Attempting uninstall: scipy\n",
      "    Found existing installation: scipy 1.13.1\n",
      "    Uninstalling scipy-1.13.1:\n",
      "      Successfully uninstalled scipy-1.13.1\n",
      "  Attempting uninstall: gensim\n",
      "    Found existing installation: gensim 4.3.3\n",
      "    Uninstalling gensim-4.3.3:\n",
      "      Successfully uninstalled gensim-4.3.3\n",
      "\u001b[31mERROR: pip's dependency resolver does not currently take into account all the packages that are installed. This behaviour is the source of the following dependency conflicts.\n",
      "tsfresh 0.21.0 requires scipy>=1.14.0; python_version >= \"3.10\", but you have scipy 1.13.1 which is incompatible.\n",
      "thinc 8.3.6 requires numpy<3.0.0,>=2.0.0, but you have numpy 1.26.4 which is incompatible.\u001b[0m\u001b[31m\n",
      "\u001b[0mSuccessfully installed gensim-4.3.3 numpy-1.26.4 scipy-1.13.1 smart-open-7.1.0 wrapt-1.17.2\n"
     ]
    },
    {
     "data": {
      "application/vnd.colab-display-data+json": {
       "id": "9ea34361b65e410286cb4a68a1d8c757",
       "pip_warning": {
        "packages": [
         "smart_open",
         "wrapt"
        ]
       }
      }
     },
     "metadata": {},
     "output_type": "display_data"
    }
   ],
   "source": [
    "!pip install --upgrade numpy\n",
    "!pip install --force-reinstall --no-cache-dir gensim\n"
   ]
  },
  {
   "cell_type": "code",
   "execution_count": null,
   "metadata": {
    "id": "pifQTW5yBMql"
   },
   "outputs": [],
   "source": [
    "import torch\n",
    "import torch.nn as nn\n",
    "import torch.optim as optim\n",
    "from torch.utils.data import Dataset, DataLoader\n",
    "from gensim.models import Word2Vec\n",
    "from sklearn.metrics import f1_score\n",
    "import numpy as np\n",
    "import matplotlib.pyplot as plt\n",
    "from tqdm import tqdm\n",
    "import os\n",
    "import re"
   ]
  },
  {
   "cell_type": "code",
   "execution_count": null,
   "metadata": {
    "colab": {
     "base_uri": "https://localhost:8080/",
     "height": 1000
    },
    "id": "soJuu2wj_DJQ",
    "outputId": "61192576-8e18-4f4b-c873-8789c62b843e"
   },
   "outputs": [
    {
     "name": "stderr",
     "output_type": "stream",
     "text": [
      "Epoch 1/30 - Training: 100%|██████████| 370/370 [00:01<00:00, 239.41it/s]\n",
      "Epoch 1/30 - Validation: 100%|██████████| 93/93 [00:00<00:00, 667.90it/s]\n"
     ]
    },
    {
     "name": "stdout",
     "output_type": "stream",
     "text": [
      "\n",
      "Epoch 1/30\n",
      "Train Loss: 0.5884 | Val Loss: 0.4454 | Val F1 (macro): 0.6881\n",
      "🎉 New best model found!\n"
     ]
    },
    {
     "name": "stderr",
     "output_type": "stream",
     "text": [
      "Epoch 2/30 - Training: 100%|██████████| 370/370 [00:01<00:00, 288.46it/s]\n",
      "Epoch 2/30 - Validation: 100%|██████████| 93/93 [00:00<00:00, 723.70it/s]\n"
     ]
    },
    {
     "name": "stdout",
     "output_type": "stream",
     "text": [
      "\n",
      "Epoch 2/30\n",
      "Train Loss: 0.3703 | Val Loss: 0.3051 | Val F1 (macro): 0.7201\n",
      "🎉 New best model found!\n"
     ]
    },
    {
     "name": "stderr",
     "output_type": "stream",
     "text": [
      "Epoch 3/30 - Training: 100%|██████████| 370/370 [00:01<00:00, 306.98it/s]\n",
      "Epoch 3/30 - Validation: 100%|██████████| 93/93 [00:00<00:00, 954.77it/s]\n"
     ]
    },
    {
     "name": "stdout",
     "output_type": "stream",
     "text": [
      "\n",
      "Epoch 3/30\n",
      "Train Loss: 0.3152 | Val Loss: 0.2835 | Val F1 (macro): 0.7274\n",
      "🎉 New best model found!\n"
     ]
    },
    {
     "name": "stderr",
     "output_type": "stream",
     "text": [
      "Epoch 4/30 - Training: 100%|██████████| 370/370 [00:00<00:00, 374.87it/s]\n",
      "Epoch 4/30 - Validation: 100%|██████████| 93/93 [00:00<00:00, 920.61it/s]\n"
     ]
    },
    {
     "name": "stdout",
     "output_type": "stream",
     "text": [
      "\n",
      "Epoch 4/30\n",
      "Train Loss: 0.3026 | Val Loss: 0.2716 | Val F1 (macro): 0.7350\n",
      "🎉 New best model found!\n"
     ]
    },
    {
     "name": "stderr",
     "output_type": "stream",
     "text": [
      "Epoch 5/30 - Training: 100%|██████████| 370/370 [00:00<00:00, 371.68it/s]\n",
      "Epoch 5/30 - Validation: 100%|██████████| 93/93 [00:00<00:00, 945.17it/s]\n"
     ]
    },
    {
     "name": "stdout",
     "output_type": "stream",
     "text": [
      "\n",
      "Epoch 5/30\n",
      "Train Loss: 0.2963 | Val Loss: 0.2647 | Val F1 (macro): 0.7403\n",
      "🎉 New best model found!\n"
     ]
    },
    {
     "name": "stderr",
     "output_type": "stream",
     "text": [
      "Epoch 6/30 - Training: 100%|██████████| 370/370 [00:00<00:00, 378.99it/s]\n",
      "Epoch 6/30 - Validation: 100%|██████████| 93/93 [00:00<00:00, 820.15it/s]\n"
     ]
    },
    {
     "name": "stdout",
     "output_type": "stream",
     "text": [
      "\n",
      "Epoch 6/30\n",
      "Train Loss: 0.2913 | Val Loss: 0.2639 | Val F1 (macro): 0.7417\n",
      "🎉 New best model found!\n"
     ]
    },
    {
     "name": "stderr",
     "output_type": "stream",
     "text": [
      "Epoch 7/30 - Training: 100%|██████████| 370/370 [00:00<00:00, 372.18it/s]\n",
      "Epoch 7/30 - Validation: 100%|██████████| 93/93 [00:00<00:00, 832.84it/s]\n"
     ]
    },
    {
     "name": "stdout",
     "output_type": "stream",
     "text": [
      "\n",
      "Epoch 7/30\n",
      "Train Loss: 0.2882 | Val Loss: 0.2570 | Val F1 (macro): 0.7445\n",
      "🎉 New best model found!\n"
     ]
    },
    {
     "name": "stderr",
     "output_type": "stream",
     "text": [
      "Epoch 8/30 - Training: 100%|██████████| 370/370 [00:00<00:00, 373.93it/s]\n",
      "Epoch 8/30 - Validation: 100%|██████████| 93/93 [00:00<00:00, 934.36it/s]\n"
     ]
    },
    {
     "name": "stdout",
     "output_type": "stream",
     "text": [
      "\n",
      "Epoch 8/30\n",
      "Train Loss: 0.2850 | Val Loss: 0.2553 | Val F1 (macro): 0.7452\n",
      "🎉 New best model found!\n"
     ]
    },
    {
     "name": "stderr",
     "output_type": "stream",
     "text": [
      "Epoch 9/30 - Training: 100%|██████████| 370/370 [00:01<00:00, 366.83it/s]\n",
      "Epoch 9/30 - Validation: 100%|██████████| 93/93 [00:00<00:00, 890.08it/s]\n"
     ]
    },
    {
     "name": "stdout",
     "output_type": "stream",
     "text": [
      "\n",
      "Epoch 9/30\n",
      "Train Loss: 0.2832 | Val Loss: 0.2528 | Val F1 (macro): 0.7455\n",
      "🎉 New best model found!\n"
     ]
    },
    {
     "name": "stderr",
     "output_type": "stream",
     "text": [
      "Epoch 10/30 - Training: 100%|██████████| 370/370 [00:01<00:00, 355.79it/s]\n",
      "Epoch 10/30 - Validation: 100%|██████████| 93/93 [00:00<00:00, 888.65it/s]\n"
     ]
    },
    {
     "name": "stdout",
     "output_type": "stream",
     "text": [
      "\n",
      "Epoch 10/30\n",
      "Train Loss: 0.2800 | Val Loss: 0.2514 | Val F1 (macro): 0.7471\n",
      "🎉 New best model found!\n"
     ]
    },
    {
     "name": "stderr",
     "output_type": "stream",
     "text": [
      "Epoch 11/30 - Training: 100%|██████████| 370/370 [00:01<00:00, 356.42it/s]\n",
      "Epoch 11/30 - Validation: 100%|██████████| 93/93 [00:00<00:00, 905.76it/s]\n"
     ]
    },
    {
     "name": "stdout",
     "output_type": "stream",
     "text": [
      "\n",
      "Epoch 11/30\n",
      "Train Loss: 0.2786 | Val Loss: 0.2496 | Val F1 (macro): 0.7464\n"
     ]
    },
    {
     "name": "stderr",
     "output_type": "stream",
     "text": [
      "Epoch 12/30 - Training: 100%|██████████| 370/370 [00:01<00:00, 311.52it/s]\n",
      "Epoch 12/30 - Validation: 100%|██████████| 93/93 [00:00<00:00, 605.26it/s]\n"
     ]
    },
    {
     "name": "stdout",
     "output_type": "stream",
     "text": [
      "\n",
      "Epoch 12/30\n",
      "Train Loss: 0.2755 | Val Loss: 0.2473 | Val F1 (macro): 0.7503\n",
      "🎉 New best model found!\n"
     ]
    },
    {
     "name": "stderr",
     "output_type": "stream",
     "text": [
      "Epoch 13/30 - Training: 100%|██████████| 370/370 [00:01<00:00, 291.72it/s]\n",
      "Epoch 13/30 - Validation: 100%|██████████| 93/93 [00:00<00:00, 660.48it/s]\n"
     ]
    },
    {
     "name": "stdout",
     "output_type": "stream",
     "text": [
      "\n",
      "Epoch 13/30\n",
      "Train Loss: 0.2743 | Val Loss: 0.2469 | Val F1 (macro): 0.7475\n"
     ]
    },
    {
     "name": "stderr",
     "output_type": "stream",
     "text": [
      "Epoch 14/30 - Training: 100%|██████████| 370/370 [00:01<00:00, 332.46it/s]\n",
      "Epoch 14/30 - Validation: 100%|██████████| 93/93 [00:00<00:00, 918.64it/s]\n"
     ]
    },
    {
     "name": "stdout",
     "output_type": "stream",
     "text": [
      "\n",
      "Epoch 14/30\n",
      "Train Loss: 0.2729 | Val Loss: 0.2485 | Val F1 (macro): 0.7488\n"
     ]
    },
    {
     "name": "stderr",
     "output_type": "stream",
     "text": [
      "Epoch 15/30 - Training: 100%|██████████| 370/370 [00:00<00:00, 378.80it/s]\n",
      "Epoch 15/30 - Validation: 100%|██████████| 93/93 [00:00<00:00, 893.00it/s]\n"
     ]
    },
    {
     "name": "stdout",
     "output_type": "stream",
     "text": [
      "\n",
      "Epoch 15/30\n",
      "Train Loss: 0.2707 | Val Loss: 0.2439 | Val F1 (macro): 0.7491\n"
     ]
    },
    {
     "name": "stderr",
     "output_type": "stream",
     "text": [
      "Epoch 16/30 - Training: 100%|██████████| 370/370 [00:00<00:00, 372.98it/s]\n",
      "Epoch 16/30 - Validation: 100%|██████████| 93/93 [00:00<00:00, 881.91it/s]\n"
     ]
    },
    {
     "name": "stdout",
     "output_type": "stream",
     "text": [
      "\n",
      "Epoch 16/30\n",
      "Train Loss: 0.2705 | Val Loss: 0.2442 | Val F1 (macro): 0.7501\n"
     ]
    },
    {
     "name": "stderr",
     "output_type": "stream",
     "text": [
      "Epoch 17/30 - Training: 100%|██████████| 370/370 [00:00<00:00, 372.31it/s]\n",
      "Epoch 17/30 - Validation: 100%|██████████| 93/93 [00:00<00:00, 930.84it/s]\n"
     ]
    },
    {
     "name": "stdout",
     "output_type": "stream",
     "text": [
      "\n",
      "Epoch 17/30\n",
      "Train Loss: 0.2679 | Val Loss: 0.2412 | Val F1 (macro): 0.7507\n",
      "🎉 New best model found!\n"
     ]
    },
    {
     "name": "stderr",
     "output_type": "stream",
     "text": [
      "Epoch 18/30 - Training: 100%|██████████| 370/370 [00:00<00:00, 372.19it/s]\n",
      "Epoch 18/30 - Validation: 100%|██████████| 93/93 [00:00<00:00, 882.35it/s]\n"
     ]
    },
    {
     "name": "stdout",
     "output_type": "stream",
     "text": [
      "\n",
      "Epoch 18/30\n",
      "Train Loss: 0.2664 | Val Loss: 0.2400 | Val F1 (macro): 0.7513\n",
      "🎉 New best model found!\n"
     ]
    },
    {
     "name": "stderr",
     "output_type": "stream",
     "text": [
      "Epoch 19/30 - Training: 100%|██████████| 370/370 [00:01<00:00, 364.46it/s]\n",
      "Epoch 19/30 - Validation: 100%|██████████| 93/93 [00:00<00:00, 865.64it/s]\n"
     ]
    },
    {
     "name": "stdout",
     "output_type": "stream",
     "text": [
      "\n",
      "Epoch 19/30\n",
      "Train Loss: 0.2657 | Val Loss: 0.2392 | Val F1 (macro): 0.7512\n"
     ]
    },
    {
     "name": "stderr",
     "output_type": "stream",
     "text": [
      "Epoch 20/30 - Training: 100%|██████████| 370/370 [00:01<00:00, 351.79it/s]\n",
      "Epoch 20/30 - Validation: 100%|██████████| 93/93 [00:00<00:00, 865.20it/s]\n"
     ]
    },
    {
     "name": "stdout",
     "output_type": "stream",
     "text": [
      "\n",
      "Epoch 20/30\n",
      "Train Loss: 0.2646 | Val Loss: 0.2364 | Val F1 (macro): 0.7538\n",
      "🎉 New best model found!\n"
     ]
    },
    {
     "name": "stderr",
     "output_type": "stream",
     "text": [
      "Epoch 21/30 - Training: 100%|██████████| 370/370 [00:00<00:00, 374.91it/s]\n",
      "Epoch 21/30 - Validation: 100%|██████████| 93/93 [00:00<00:00, 807.60it/s]\n"
     ]
    },
    {
     "name": "stdout",
     "output_type": "stream",
     "text": [
      "\n",
      "Epoch 21/30\n",
      "Train Loss: 0.2630 | Val Loss: 0.2363 | Val F1 (macro): 0.7538\n",
      "🎉 New best model found!\n"
     ]
    },
    {
     "name": "stderr",
     "output_type": "stream",
     "text": [
      "Epoch 22/30 - Training: 100%|██████████| 370/370 [00:01<00:00, 367.44it/s]\n",
      "Epoch 22/30 - Validation: 100%|██████████| 93/93 [00:00<00:00, 930.29it/s]\n"
     ]
    },
    {
     "name": "stdout",
     "output_type": "stream",
     "text": [
      "\n",
      "Epoch 22/30\n",
      "Train Loss: 0.2626 | Val Loss: 0.2365 | Val F1 (macro): 0.7523\n"
     ]
    },
    {
     "name": "stderr",
     "output_type": "stream",
     "text": [
      "Epoch 23/30 - Training: 100%|██████████| 370/370 [00:01<00:00, 282.13it/s]\n",
      "Epoch 23/30 - Validation: 100%|██████████| 93/93 [00:00<00:00, 587.37it/s]\n"
     ]
    },
    {
     "name": "stdout",
     "output_type": "stream",
     "text": [
      "\n",
      "Epoch 23/30\n",
      "Train Loss: 0.2612 | Val Loss: 0.2340 | Val F1 (macro): 0.7535\n"
     ]
    },
    {
     "name": "stderr",
     "output_type": "stream",
     "text": [
      "Epoch 24/30 - Training: 100%|██████████| 370/370 [00:01<00:00, 284.73it/s]\n",
      "Epoch 24/30 - Validation: 100%|██████████| 93/93 [00:00<00:00, 579.07it/s]\n"
     ]
    },
    {
     "name": "stdout",
     "output_type": "stream",
     "text": [
      "\n",
      "Epoch 24/30\n",
      "Train Loss: 0.2608 | Val Loss: 0.2352 | Val F1 (macro): 0.7538\n",
      "🎉 New best model found!\n"
     ]
    },
    {
     "name": "stderr",
     "output_type": "stream",
     "text": [
      "Epoch 25/30 - Training: 100%|██████████| 370/370 [00:01<00:00, 352.84it/s]\n",
      "Epoch 25/30 - Validation: 100%|██████████| 93/93 [00:00<00:00, 788.15it/s]\n"
     ]
    },
    {
     "name": "stdout",
     "output_type": "stream",
     "text": [
      "\n",
      "Epoch 25/30\n",
      "Train Loss: 0.2598 | Val Loss: 0.2359 | Val F1 (macro): 0.7532\n"
     ]
    },
    {
     "name": "stderr",
     "output_type": "stream",
     "text": [
      "Epoch 26/30 - Training: 100%|██████████| 370/370 [00:00<00:00, 372.47it/s]\n",
      "Epoch 26/30 - Validation: 100%|██████████| 93/93 [00:00<00:00, 917.72it/s]\n"
     ]
    },
    {
     "name": "stdout",
     "output_type": "stream",
     "text": [
      "\n",
      "Epoch 26/30\n",
      "Train Loss: 0.2599 | Val Loss: 0.2357 | Val F1 (macro): 0.7538\n"
     ]
    },
    {
     "name": "stderr",
     "output_type": "stream",
     "text": [
      "Epoch 27/30 - Training: 100%|██████████| 370/370 [00:00<00:00, 370.15it/s]\n",
      "Epoch 27/30 - Validation: 100%|██████████| 93/93 [00:00<00:00, 871.82it/s]\n"
     ]
    },
    {
     "name": "stdout",
     "output_type": "stream",
     "text": [
      "\n",
      "Epoch 27/30\n",
      "Train Loss: 0.2588 | Val Loss: 0.2338 | Val F1 (macro): 0.7535\n"
     ]
    },
    {
     "name": "stderr",
     "output_type": "stream",
     "text": [
      "Epoch 28/30 - Training: 100%|██████████| 370/370 [00:00<00:00, 372.66it/s]\n",
      "Epoch 28/30 - Validation: 100%|██████████| 93/93 [00:00<00:00, 906.77it/s]\n"
     ]
    },
    {
     "name": "stdout",
     "output_type": "stream",
     "text": [
      "\n",
      "Epoch 28/30\n",
      "Train Loss: 0.2586 | Val Loss: 0.2356 | Val F1 (macro): 0.7536\n"
     ]
    },
    {
     "name": "stderr",
     "output_type": "stream",
     "text": [
      "Epoch 29/30 - Training: 100%|██████████| 370/370 [00:01<00:00, 362.56it/s]\n",
      "Epoch 29/30 - Validation: 100%|██████████| 93/93 [00:00<00:00, 913.77it/s]\n"
     ]
    },
    {
     "name": "stdout",
     "output_type": "stream",
     "text": [
      "\n",
      "Epoch 29/30\n",
      "Train Loss: 0.2587 | Val Loss: 0.2346 | Val F1 (macro): 0.7535\n",
      "🛑 Early stopping triggered at epoch 29\n"
     ]
    },
    {
     "data": {
      "image/png": "[encoded data removed]",
      "text/plain": [
       "<Figure size 1200x400 with 2 Axes>"
      ]
     },
     "metadata": {},
     "output_type": "display_data"
    },
    {
     "data": {
      "text/plain": [
       "<All keys matched successfully>"
      ]
     },
     "execution_count": 18,
     "metadata": {},
     "output_type": "execute_result"
    }
   ],
   "source": [
    "import torch\n",
    "import torch.nn as nn\n",
    "import torch.optim as optim\n",
    "from torch.utils.data import Dataset, DataLoader\n",
    "from gensim.models import Word2Vec\n",
    "from sklearn.metrics import f1_score\n",
    "import numpy as np\n",
    "import matplotlib.pyplot as plt\n",
    "from tqdm import tqdm\n",
    "import os\n",
    "import re\n",
    "\n",
    "device = torch.device(\"cuda\" if torch.cuda.is_available() else \"cpu\")\n",
    "EPOCHS = 30\n",
    "BATCH_SIZE = 64\n",
    "PATIENCE = 5\n",
    "WARMUP_EPOCHS = 3\n",
    "MODEL_PATH = \"best_w2v_model.pt\"\n",
    "target_columns = y_train.columns.tolist()\n",
    "NUM_CLASSES = len(target_columns)\n",
    "\n",
    "def tokenize(text):\n",
    "    return re.findall(r'\\b\\w+\\b', text.lower())\n",
    "\n",
    "tokenized_train = [tokenize(text) for text in X_train]\n",
    "tokenized_val = [tokenize(text) for text in X_val]\n",
    "\n",
    "w2v_model = Word2Vec(sentences=tokenized_train, vector_size=300, window=5, min_count=2, workers=4)\n",
    "embedding_dim = w2v_model.vector_size\n",
    "\n",
    "def get_average_vector(tokens, model):\n",
    "    vectors = [model.wv[token] for token in tokens if token in model.wv]\n",
    "    if len(vectors) == 0:\n",
    "        return np.zeros(model.vector_size)\n",
    "    return np.mean(vectors, axis=0)\n",
    "\n",
    "X_train_w2v = np.array([get_average_vector(tokens, w2v_model) for tokens in tokenized_train])\n",
    "X_val_w2v = np.array([get_average_vector(tokens, w2v_model) for tokens in tokenized_val])\n",
    "\n",
    "class TextDataset(Dataset):\n",
    "    def __init__(self, X, y):\n",
    "        self.X = torch.tensor(X, dtype=torch.float32)\n",
    "        self.y = torch.tensor(y.values, dtype=torch.float32)\n",
    "    def __len__(self):\n",
    "        return len(self.X)\n",
    "    def __getitem__(self, idx):\n",
    "        return self.X[idx], self.y[idx]\n",
    "\n",
    "train_dataset = TextDataset(X_train_w2v, y_train)\n",
    "val_dataset = TextDataset(X_val_w2v, y_val)\n",
    "train_loader = DataLoader(train_dataset, batch_size=BATCH_SIZE, shuffle=True)\n",
    "val_loader = DataLoader(val_dataset, batch_size=BATCH_SIZE)\n",
    "\n",
    "class Word2VecNet(nn.Module):\n",
    "    def __init__(self, input_dim, output_dim):\n",
    "        super().__init__()\n",
    "        self.net = nn.Sequential(\n",
    "            nn.Linear(input_dim, 256),\n",
    "            nn.BatchNorm1d(256),\n",
    "            nn.ReLU(),\n",
    "            nn.Dropout(0.4),\n",
    "            nn.Linear(256, 64),\n",
    "            nn.BatchNorm1d(64),\n",
    "            nn.ReLU(),\n",
    "            nn.Dropout(0.4),\n",
    "            nn.Linear(64, output_dim),\n",
    "            nn.Sigmoid()\n",
    "        )\n",
    "    def forward(self, x):\n",
    "        return self.net(x)\n",
    "\n",
    "model = Word2VecNet(input_dim=embedding_dim, output_dim=NUM_CLASSES).to(device)\n",
    "\n",
    "criterion = nn.BCELoss()\n",
    "optimizer = optim.AdamW(model.parameters(), lr=1e-4, weight_decay=1e-4)\n",
    "scheduler = optim.lr_scheduler.OneCycleLR(\n",
    "    optimizer,\n",
    "    max_lr=1e-3,\n",
    "    steps_per_epoch=len(train_loader),\n",
    "    epochs=EPOCHS,\n",
    "    pct_start=WARMUP_EPOCHS/EPOCHS\n",
    ")\n",
    "\n",
    "train_losses, val_losses, val_f1s = [], [], []\n",
    "best_f1 = 0\n",
    "epochs_no_improve = 0\n",
    "\n",
    "for epoch in range(1, EPOCHS + 1):\n",
    "    model.train()\n",
    "    running_loss = 0\n",
    "    for inputs, labels in tqdm(train_loader, desc=f\"Epoch {epoch}/{EPOCHS} - Training\"):\n",
    "        inputs, labels = inputs.to(device), labels.to(device)\n",
    "        optimizer.zero_grad()\n",
    "        outputs = model(inputs)\n",
    "        loss = criterion(outputs, labels)\n",
    "        loss.backward()\n",
    "        optimizer.step()\n",
    "        scheduler.step()\n",
    "        running_loss += loss.item()\n",
    "    train_loss = running_loss / len(train_loader)\n",
    "\n",
    "    model.eval()\n",
    "    val_loss = 0\n",
    "    all_preds, all_labels = [], []\n",
    "    with torch.no_grad():\n",
    "        for inputs, labels in tqdm(val_loader, desc=f\"Epoch {epoch}/{EPOCHS} - Validation\"):\n",
    "            inputs, labels = inputs.to(device), labels.to(device)\n",
    "            outputs = model(inputs)\n",
    "            loss = criterion(outputs, labels)\n",
    "            val_loss += loss.item()\n",
    "            all_preds.append(outputs.cpu().numpy())\n",
    "            all_labels.append(labels.cpu().numpy())\n",
    "\n",
    "    val_loss /= len(val_loader)\n",
    "    preds = np.vstack(all_preds) > 0.5\n",
    "    targets = np.vstack(all_labels)\n",
    "    val_f1 = f1_score(targets, preds, average='macro')\n",
    "\n",
    "    train_losses.append(train_loss)\n",
    "    val_losses.append(val_loss)\n",
    "    val_f1s.append(val_f1)\n",
    "\n",
    "    print(f\"\\nEpoch {epoch}/{EPOCHS}\")\n",
    "    print(f\"Train Loss: {train_loss:.4f} | Val Loss: {val_loss:.4f} | Val F1 (macro): {val_f1:.4f}\")\n",
    "\n",
    "    if val_f1 > best_f1:\n",
    "        best_f1 = val_f1\n",
    "        torch.save(model.state_dict(), MODEL_PATH)\n",
    "        print(\"Сохраняем новую лучшую модель\")\n",
    "        epochs_no_improve = 0\n",
    "    else:\n",
    "        epochs_no_improve += 1\n",
    "        if epochs_no_improve >= PATIENCE:\n",
    "            print(\"Ранняя остановка\")\n",
    "            break\n",
    "\n",
    "plt.figure(figsize=(12, 4))\n",
    "plt.subplot(1, 2, 1)\n",
    "plt.plot(train_losses, label='Train Loss')\n",
    "plt.plot(val_losses, label='Val Loss')\n",
    "plt.title('Loss по эпохам')\n",
    "plt.legend()\n",
    "\n",
    "plt.subplot(1, 2, 2)\n",
    "plt.plot(val_f1s, label='Val F1 (macro)')\n",
    "plt.title('F1 Score')\n",
    "plt.legend()\n",
    "plt.show()\n",
    "\n",
    "model.load_state_dict(torch.load(MODEL_PATH))"
   ]
  },
  {
   "cell_type": "markdown",
   "metadata": {
    "id": "_EA3W7HB0gta"
   },
   "source": [
    "Ранняя остановка сработала на 29 эпохе из 30, к этому моменту модель уже уперлась в потолок, это можно видеть на графике f1. графики val и train loss не показывают переобучение, но они тоже достигли своих минимумов. В итоге f1 составил 75%, но переобучения нет"
   ]
  },
  {
   "cell_type": "markdown",
   "metadata": {
    "id": "xk_GZXa8HNGG"
   },
   "source": [
    "### CNN"
   ]
  },
  {
   "cell_type": "code",
   "execution_count": null,
   "metadata": {
    "colab": {
     "base_uri": "https://localhost:8080/",
     "height": 1000
    },
    "id": "SuFbK6sMEgVe",
    "outputId": "211dc738-f713-44da-cf58-6377bc3e4b76"
   },
   "outputs": [
    {
     "name": "stderr",
     "output_type": "stream",
     "text": [
      "/usr/local/lib/python3.11/dist-packages/torch/optim/lr_scheduler.py:62: UserWarning: The verbose parameter is deprecated. Please use get_last_lr() to access the learning rate.\n",
      "  warnings.warn(\n",
      "Epoch 1/100 - Training: 100%|██████████| 370/370 [00:02<00:00, 148.35it/s]\n",
      "Epoch 1/100 - Validation: 100%|██████████| 93/93 [00:00<00:00, 645.28it/s]\n"
     ]
    },
    {
     "name": "stdout",
     "output_type": "stream",
     "text": [
      "\n",
      "Epoch 1/100\n",
      "Train Loss: 0.5533 | Val Loss: 0.4056 | Val F1 (macro): 0.6379\n",
      "🎉 New best model found!\n"
     ]
    },
    {
     "name": "stderr",
     "output_type": "stream",
     "text": [
      "Epoch 2/100 - Training: 100%|██████████| 370/370 [00:02<00:00, 143.64it/s]\n",
      "Epoch 2/100 - Validation: 100%|██████████| 93/93 [00:00<00:00, 534.66it/s]\n"
     ]
    },
    {
     "name": "stdout",
     "output_type": "stream",
     "text": [
      "\n",
      "Epoch 2/100\n",
      "Train Loss: 0.3909 | Val Loss: 0.3432 | Val F1 (macro): 0.6903\n",
      "🎉 New best model found!\n"
     ]
    },
    {
     "name": "stderr",
     "output_type": "stream",
     "text": [
      "Epoch 3/100 - Training: 100%|██████████| 370/370 [00:02<00:00, 146.57it/s]\n",
      "Epoch 3/100 - Validation: 100%|██████████| 93/93 [00:00<00:00, 610.60it/s]\n"
     ]
    },
    {
     "name": "stdout",
     "output_type": "stream",
     "text": [
      "\n",
      "Epoch 3/100\n",
      "Train Loss: 0.3596 | Val Loss: 0.3299 | Val F1 (macro): 0.6922\n",
      "🎉 New best model found!\n"
     ]
    },
    {
     "name": "stderr",
     "output_type": "stream",
     "text": [
      "Epoch 4/100 - Training: 100%|██████████| 370/370 [00:02<00:00, 154.83it/s]\n",
      "Epoch 4/100 - Validation: 100%|██████████| 93/93 [00:00<00:00, 672.52it/s]\n"
     ]
    },
    {
     "name": "stdout",
     "output_type": "stream",
     "text": [
      "\n",
      "Epoch 4/100\n",
      "Train Loss: 0.3489 | Val Loss: 0.3235 | Val F1 (macro): 0.6928\n",
      "🎉 New best model found!\n"
     ]
    },
    {
     "name": "stderr",
     "output_type": "stream",
     "text": [
      "Epoch 5/100 - Training: 100%|██████████| 370/370 [00:02<00:00, 155.36it/s]\n",
      "Epoch 5/100 - Validation: 100%|██████████| 93/93 [00:00<00:00, 616.39it/s]\n"
     ]
    },
    {
     "name": "stdout",
     "output_type": "stream",
     "text": [
      "\n",
      "Epoch 5/100\n",
      "Train Loss: 0.3397 | Val Loss: 0.3173 | Val F1 (macro): 0.6941\n",
      "🎉 New best model found!\n"
     ]
    },
    {
     "name": "stderr",
     "output_type": "stream",
     "text": [
      "Epoch 6/100 - Training: 100%|██████████| 370/370 [00:02<00:00, 154.74it/s]\n",
      "Epoch 6/100 - Validation: 100%|██████████| 93/93 [00:00<00:00, 664.23it/s]\n"
     ]
    },
    {
     "name": "stdout",
     "output_type": "stream",
     "text": [
      "\n",
      "Epoch 6/100\n",
      "Train Loss: 0.3323 | Val Loss: 0.3114 | Val F1 (macro): 0.6952\n",
      "🎉 New best model found!\n"
     ]
    },
    {
     "name": "stderr",
     "output_type": "stream",
     "text": [
      "Epoch 7/100 - Training: 100%|██████████| 370/370 [00:02<00:00, 141.54it/s]\n",
      "Epoch 7/100 - Validation: 100%|██████████| 93/93 [00:00<00:00, 496.49it/s]\n"
     ]
    },
    {
     "name": "stdout",
     "output_type": "stream",
     "text": [
      "\n",
      "Epoch 7/100\n",
      "Train Loss: 0.3247 | Val Loss: 0.3050 | Val F1 (macro): 0.6975\n",
      "🎉 New best model found!\n"
     ]
    },
    {
     "name": "stderr",
     "output_type": "stream",
     "text": [
      "Epoch 8/100 - Training: 100%|██████████| 370/370 [00:02<00:00, 149.33it/s]\n",
      "Epoch 8/100 - Validation: 100%|██████████| 93/93 [00:00<00:00, 650.92it/s]\n"
     ]
    },
    {
     "name": "stdout",
     "output_type": "stream",
     "text": [
      "\n",
      "Epoch 8/100\n",
      "Train Loss: 0.3166 | Val Loss: 0.2987 | Val F1 (macro): 0.7003\n",
      "🎉 New best model found!\n"
     ]
    },
    {
     "name": "stderr",
     "output_type": "stream",
     "text": [
      "Epoch 9/100 - Training: 100%|██████████| 370/370 [00:02<00:00, 154.46it/s]\n",
      "Epoch 9/100 - Validation: 100%|██████████| 93/93 [00:00<00:00, 668.40it/s]\n"
     ]
    },
    {
     "name": "stdout",
     "output_type": "stream",
     "text": [
      "\n",
      "Epoch 9/100\n",
      "Train Loss: 0.3103 | Val Loss: 0.2923 | Val F1 (macro): 0.7020\n",
      "🎉 New best model found!\n"
     ]
    },
    {
     "name": "stderr",
     "output_type": "stream",
     "text": [
      "Epoch 10/100 - Training: 100%|██████████| 370/370 [00:02<00:00, 153.80it/s]\n",
      "Epoch 10/100 - Validation: 100%|██████████| 93/93 [00:00<00:00, 650.86it/s]\n"
     ]
    },
    {
     "name": "stdout",
     "output_type": "stream",
     "text": [
      "\n",
      "Epoch 10/100\n",
      "Train Loss: 0.3045 | Val Loss: 0.2864 | Val F1 (macro): 0.7042\n",
      "🎉 New best model found!\n"
     ]
    },
    {
     "name": "stderr",
     "output_type": "stream",
     "text": [
      "Epoch 11/100 - Training: 100%|██████████| 370/370 [00:02<00:00, 154.38it/s]\n",
      "Epoch 11/100 - Validation: 100%|██████████| 93/93 [00:00<00:00, 666.99it/s]\n"
     ]
    },
    {
     "name": "stdout",
     "output_type": "stream",
     "text": [
      "\n",
      "Epoch 11/100\n",
      "Train Loss: 0.2994 | Val Loss: 0.2826 | Val F1 (macro): 0.7055\n",
      "🎉 New best model found!\n"
     ]
    },
    {
     "name": "stderr",
     "output_type": "stream",
     "text": [
      "Epoch 12/100 - Training: 100%|██████████| 370/370 [00:02<00:00, 136.92it/s]\n",
      "Epoch 12/100 - Validation: 100%|██████████| 93/93 [00:00<00:00, 480.09it/s]\n"
     ]
    },
    {
     "name": "stdout",
     "output_type": "stream",
     "text": [
      "\n",
      "Epoch 12/100\n",
      "Train Loss: 0.2951 | Val Loss: 0.2803 | Val F1 (macro): 0.7069\n",
      "🎉 New best model found!\n"
     ]
    },
    {
     "name": "stderr",
     "output_type": "stream",
     "text": [
      "Epoch 13/100 - Training: 100%|██████████| 370/370 [00:02<00:00, 155.42it/s]\n",
      "Epoch 13/100 - Validation: 100%|██████████| 93/93 [00:00<00:00, 651.83it/s]\n"
     ]
    },
    {
     "name": "stdout",
     "output_type": "stream",
     "text": [
      "\n",
      "Epoch 13/100\n",
      "Train Loss: 0.2919 | Val Loss: 0.2772 | Val F1 (macro): 0.7062\n"
     ]
    },
    {
     "name": "stderr",
     "output_type": "stream",
     "text": [
      "Epoch 14/100 - Training: 100%|██████████| 370/370 [00:02<00:00, 154.69it/s]\n",
      "Epoch 14/100 - Validation: 100%|██████████| 93/93 [00:00<00:00, 655.95it/s]\n"
     ]
    },
    {
     "name": "stdout",
     "output_type": "stream",
     "text": [
      "\n",
      "Epoch 14/100\n",
      "Train Loss: 0.2891 | Val Loss: 0.2751 | Val F1 (macro): 0.7071\n",
      "🎉 New best model found!\n"
     ]
    },
    {
     "name": "stderr",
     "output_type": "stream",
     "text": [
      "Epoch 15/100 - Training: 100%|██████████| 370/370 [00:02<00:00, 154.52it/s]\n",
      "Epoch 15/100 - Validation: 100%|██████████| 93/93 [00:00<00:00, 661.34it/s]\n"
     ]
    },
    {
     "name": "stdout",
     "output_type": "stream",
     "text": [
      "\n",
      "Epoch 15/100\n",
      "Train Loss: 0.2867 | Val Loss: 0.2738 | Val F1 (macro): 0.7077\n",
      "🎉 New best model found!\n"
     ]
    },
    {
     "name": "stderr",
     "output_type": "stream",
     "text": [
      "Epoch 16/100 - Training: 100%|██████████| 370/370 [00:02<00:00, 151.40it/s]\n",
      "Epoch 16/100 - Validation: 100%|██████████| 93/93 [00:00<00:00, 535.22it/s]\n"
     ]
    },
    {
     "name": "stdout",
     "output_type": "stream",
     "text": [
      "\n",
      "Epoch 16/100\n",
      "Train Loss: 0.2844 | Val Loss: 0.2711 | Val F1 (macro): 0.7091\n",
      "🎉 New best model found!\n"
     ]
    },
    {
     "name": "stderr",
     "output_type": "stream",
     "text": [
      "Epoch 17/100 - Training: 100%|██████████| 370/370 [00:02<00:00, 139.79it/s]\n",
      "Epoch 17/100 - Validation: 100%|██████████| 93/93 [00:00<00:00, 605.85it/s]\n"
     ]
    },
    {
     "name": "stdout",
     "output_type": "stream",
     "text": [
      "\n",
      "Epoch 17/100\n",
      "Train Loss: 0.2820 | Val Loss: 0.2713 | Val F1 (macro): 0.7098\n",
      "🎉 New best model found!\n"
     ]
    },
    {
     "name": "stderr",
     "output_type": "stream",
     "text": [
      "Epoch 18/100 - Training: 100%|██████████| 370/370 [00:02<00:00, 154.29it/s]\n",
      "Epoch 18/100 - Validation: 100%|██████████| 93/93 [00:00<00:00, 657.38it/s]\n"
     ]
    },
    {
     "name": "stdout",
     "output_type": "stream",
     "text": [
      "\n",
      "Epoch 18/100\n",
      "Train Loss: 0.2803 | Val Loss: 0.2690 | Val F1 (macro): 0.7100\n",
      "🎉 New best model found!\n"
     ]
    },
    {
     "name": "stderr",
     "output_type": "stream",
     "text": [
      "Epoch 19/100 - Training: 100%|██████████| 370/370 [00:02<00:00, 152.72it/s]\n",
      "Epoch 19/100 - Validation: 100%|██████████| 93/93 [00:00<00:00, 660.15it/s]\n"
     ]
    },
    {
     "name": "stdout",
     "output_type": "stream",
     "text": [
      "\n",
      "Epoch 19/100\n",
      "Train Loss: 0.2787 | Val Loss: 0.2671 | Val F1 (macro): 0.7115\n",
      "🎉 New best model found!\n"
     ]
    },
    {
     "name": "stderr",
     "output_type": "stream",
     "text": [
      "Epoch 20/100 - Training: 100%|██████████| 370/370 [00:02<00:00, 154.07it/s]\n",
      "Epoch 20/100 - Validation: 100%|██████████| 93/93 [00:00<00:00, 637.92it/s]\n"
     ]
    },
    {
     "name": "stdout",
     "output_type": "stream",
     "text": [
      "\n",
      "Epoch 20/100\n",
      "Train Loss: 0.2765 | Val Loss: 0.2651 | Val F1 (macro): 0.7119\n",
      "🎉 New best model found!\n"
     ]
    },
    {
     "name": "stderr",
     "output_type": "stream",
     "text": [
      "Epoch 21/100 - Training: 100%|██████████| 370/370 [00:02<00:00, 147.18it/s]\n",
      "Epoch 21/100 - Validation: 100%|██████████| 93/93 [00:00<00:00, 478.15it/s]\n"
     ]
    },
    {
     "name": "stdout",
     "output_type": "stream",
     "text": [
      "\n",
      "Epoch 21/100\n",
      "Train Loss: 0.2744 | Val Loss: 0.2632 | Val F1 (macro): 0.7141\n",
      "🎉 New best model found!\n"
     ]
    },
    {
     "name": "stderr",
     "output_type": "stream",
     "text": [
      "Epoch 22/100 - Training: 100%|██████████| 370/370 [00:02<00:00, 141.15it/s]\n",
      "Epoch 22/100 - Validation: 100%|██████████| 93/93 [00:00<00:00, 605.69it/s]\n"
     ]
    },
    {
     "name": "stdout",
     "output_type": "stream",
     "text": [
      "\n",
      "Epoch 22/100\n",
      "Train Loss: 0.2725 | Val Loss: 0.2621 | Val F1 (macro): 0.7140\n"
     ]
    },
    {
     "name": "stderr",
     "output_type": "stream",
     "text": [
      "Epoch 23/100 - Training: 100%|██████████| 370/370 [00:02<00:00, 153.03it/s]\n",
      "Epoch 23/100 - Validation: 100%|██████████| 93/93 [00:00<00:00, 655.33it/s]\n"
     ]
    },
    {
     "name": "stdout",
     "output_type": "stream",
     "text": [
      "\n",
      "Epoch 23/100\n",
      "Train Loss: 0.2705 | Val Loss: 0.2617 | Val F1 (macro): 0.7142\n",
      "🎉 New best model found!\n"
     ]
    },
    {
     "name": "stderr",
     "output_type": "stream",
     "text": [
      "Epoch 24/100 - Training: 100%|██████████| 370/370 [00:02<00:00, 153.70it/s]\n",
      "Epoch 24/100 - Validation: 100%|██████████| 93/93 [00:00<00:00, 621.43it/s]\n"
     ]
    },
    {
     "name": "stdout",
     "output_type": "stream",
     "text": [
      "\n",
      "Epoch 24/100\n",
      "Train Loss: 0.2689 | Val Loss: 0.2592 | Val F1 (macro): 0.7162\n",
      "🎉 New best model found!\n"
     ]
    },
    {
     "name": "stderr",
     "output_type": "stream",
     "text": [
      "Epoch 25/100 - Training: 100%|██████████| 370/370 [00:02<00:00, 153.33it/s]\n",
      "Epoch 25/100 - Validation: 100%|██████████| 93/93 [00:00<00:00, 650.27it/s]\n"
     ]
    },
    {
     "name": "stdout",
     "output_type": "stream",
     "text": [
      "\n",
      "Epoch 25/100\n",
      "Train Loss: 0.2673 | Val Loss: 0.2579 | Val F1 (macro): 0.7160\n"
     ]
    },
    {
     "name": "stderr",
     "output_type": "stream",
     "text": [
      "Epoch 26/100 - Training: 100%|██████████| 370/370 [00:02<00:00, 142.63it/s]\n",
      "Epoch 26/100 - Validation: 100%|██████████| 93/93 [00:00<00:00, 550.24it/s]\n"
     ]
    },
    {
     "name": "stdout",
     "output_type": "stream",
     "text": [
      "\n",
      "Epoch 26/100\n",
      "Train Loss: 0.2652 | Val Loss: 0.2562 | Val F1 (macro): 0.7169\n",
      "🎉 New best model found!\n"
     ]
    },
    {
     "name": "stderr",
     "output_type": "stream",
     "text": [
      "Epoch 27/100 - Training: 100%|██████████| 370/370 [00:02<00:00, 145.33it/s]\n",
      "Epoch 27/100 - Validation: 100%|██████████| 93/93 [00:00<00:00, 651.53it/s]\n"
     ]
    },
    {
     "name": "stdout",
     "output_type": "stream",
     "text": [
      "\n",
      "Epoch 27/100\n",
      "Train Loss: 0.2637 | Val Loss: 0.2565 | Val F1 (macro): 0.7157\n"
     ]
    },
    {
     "name": "stderr",
     "output_type": "stream",
     "text": [
      "Epoch 28/100 - Training: 100%|██████████| 370/370 [00:02<00:00, 153.63it/s]\n",
      "Epoch 28/100 - Validation: 100%|██████████| 93/93 [00:00<00:00, 651.82it/s]\n"
     ]
    },
    {
     "name": "stdout",
     "output_type": "stream",
     "text": [
      "\n",
      "Epoch 28/100\n",
      "Train Loss: 0.2624 | Val Loss: 0.2537 | Val F1 (macro): 0.7170\n",
      "🎉 New best model found!\n"
     ]
    },
    {
     "name": "stderr",
     "output_type": "stream",
     "text": [
      "Epoch 29/100 - Training: 100%|██████████| 370/370 [00:02<00:00, 154.11it/s]\n",
      "Epoch 29/100 - Validation: 100%|██████████| 93/93 [00:00<00:00, 656.24it/s]\n"
     ]
    },
    {
     "name": "stdout",
     "output_type": "stream",
     "text": [
      "\n",
      "Epoch 29/100\n",
      "Train Loss: 0.2609 | Val Loss: 0.2527 | Val F1 (macro): 0.7167\n"
     ]
    },
    {
     "name": "stderr",
     "output_type": "stream",
     "text": [
      "Epoch 30/100 - Training: 100%|██████████| 370/370 [00:02<00:00, 152.14it/s]\n",
      "Epoch 30/100 - Validation: 100%|██████████| 93/93 [00:00<00:00, 661.47it/s]\n"
     ]
    },
    {
     "name": "stdout",
     "output_type": "stream",
     "text": [
      "\n",
      "Epoch 30/100\n",
      "Train Loss: 0.2587 | Val Loss: 0.2507 | Val F1 (macro): 0.7176\n",
      "🎉 New best model found!\n"
     ]
    },
    {
     "name": "stderr",
     "output_type": "stream",
     "text": [
      "Epoch 31/100 - Training: 100%|██████████| 370/370 [00:02<00:00, 139.27it/s]\n",
      "Epoch 31/100 - Validation: 100%|██████████| 93/93 [00:00<00:00, 519.68it/s]\n"
     ]
    },
    {
     "name": "stdout",
     "output_type": "stream",
     "text": [
      "\n",
      "Epoch 31/100\n",
      "Train Loss: 0.2574 | Val Loss: 0.2507 | Val F1 (macro): 0.7173\n"
     ]
    },
    {
     "name": "stderr",
     "output_type": "stream",
     "text": [
      "Epoch 32/100 - Training: 100%|██████████| 370/370 [00:02<00:00, 148.20it/s]\n",
      "Epoch 32/100 - Validation: 100%|██████████| 93/93 [00:00<00:00, 611.50it/s]\n"
     ]
    },
    {
     "name": "stdout",
     "output_type": "stream",
     "text": [
      "\n",
      "Epoch 32/100\n",
      "Train Loss: 0.2559 | Val Loss: 0.2500 | Val F1 (macro): 0.7175\n"
     ]
    },
    {
     "name": "stderr",
     "output_type": "stream",
     "text": [
      "Epoch 33/100 - Training: 100%|██████████| 370/370 [00:02<00:00, 152.85it/s]\n",
      "Epoch 33/100 - Validation: 100%|██████████| 93/93 [00:00<00:00, 640.43it/s]\n"
     ]
    },
    {
     "name": "stdout",
     "output_type": "stream",
     "text": [
      "\n",
      "Epoch 33/100\n",
      "Train Loss: 0.2555 | Val Loss: 0.2482 | Val F1 (macro): 0.7184\n",
      "🎉 New best model found!\n"
     ]
    },
    {
     "name": "stderr",
     "output_type": "stream",
     "text": [
      "Epoch 34/100 - Training: 100%|██████████| 370/370 [00:02<00:00, 152.57it/s]\n",
      "Epoch 34/100 - Validation: 100%|██████████| 93/93 [00:00<00:00, 647.51it/s]\n"
     ]
    },
    {
     "name": "stdout",
     "output_type": "stream",
     "text": [
      "\n",
      "Epoch 34/100\n",
      "Train Loss: 0.2534 | Val Loss: 0.2480 | Val F1 (macro): 0.7187\n",
      "🎉 New best model found!\n"
     ]
    },
    {
     "name": "stderr",
     "output_type": "stream",
     "text": [
      "Epoch 35/100 - Training: 100%|██████████| 370/370 [00:02<00:00, 150.92it/s]\n",
      "Epoch 35/100 - Validation: 100%|██████████| 93/93 [00:00<00:00, 661.46it/s]\n"
     ]
    },
    {
     "name": "stdout",
     "output_type": "stream",
     "text": [
      "\n",
      "Epoch 35/100\n",
      "Train Loss: 0.2523 | Val Loss: 0.2468 | Val F1 (macro): 0.7191\n",
      "🎉 New best model found!\n"
     ]
    },
    {
     "name": "stderr",
     "output_type": "stream",
     "text": [
      "Epoch 36/100 - Training: 100%|██████████| 370/370 [00:02<00:00, 133.37it/s]\n",
      "Epoch 36/100 - Validation: 100%|██████████| 93/93 [00:00<00:00, 415.03it/s]\n"
     ]
    },
    {
     "name": "stdout",
     "output_type": "stream",
     "text": [
      "\n",
      "Epoch 36/100\n",
      "Train Loss: 0.2521 | Val Loss: 0.2461 | Val F1 (macro): 0.7200\n",
      "🎉 New best model found!\n"
     ]
    },
    {
     "name": "stderr",
     "output_type": "stream",
     "text": [
      "Epoch 37/100 - Training: 100%|██████████| 370/370 [00:02<00:00, 149.93it/s]\n",
      "Epoch 37/100 - Validation: 100%|██████████| 93/93 [00:00<00:00, 624.58it/s]\n"
     ]
    },
    {
     "name": "stdout",
     "output_type": "stream",
     "text": [
      "\n",
      "Epoch 37/100\n",
      "Train Loss: 0.2512 | Val Loss: 0.2463 | Val F1 (macro): 0.7185\n"
     ]
    },
    {
     "name": "stderr",
     "output_type": "stream",
     "text": [
      "Epoch 38/100 - Training: 100%|██████████| 370/370 [00:02<00:00, 148.66it/s]\n",
      "Epoch 38/100 - Validation: 100%|██████████| 93/93 [00:00<00:00, 626.08it/s]\n"
     ]
    },
    {
     "name": "stdout",
     "output_type": "stream",
     "text": [
      "\n",
      "Epoch 38/100\n",
      "Train Loss: 0.2494 | Val Loss: 0.2450 | Val F1 (macro): 0.7193\n"
     ]
    },
    {
     "name": "stderr",
     "output_type": "stream",
     "text": [
      "Epoch 39/100 - Training: 100%|██████████| 370/370 [00:02<00:00, 151.08it/s]\n",
      "Epoch 39/100 - Validation: 100%|██████████| 93/93 [00:00<00:00, 598.90it/s]\n"
     ]
    },
    {
     "name": "stdout",
     "output_type": "stream",
     "text": [
      "\n",
      "Epoch 39/100\n",
      "Train Loss: 0.2488 | Val Loss: 0.2454 | Val F1 (macro): 0.7193\n"
     ]
    },
    {
     "name": "stderr",
     "output_type": "stream",
     "text": [
      "Epoch 40/100 - Training: 100%|██████████| 370/370 [00:02<00:00, 147.23it/s]\n",
      "Epoch 40/100 - Validation: 100%|██████████| 93/93 [00:00<00:00, 427.65it/s]\n"
     ]
    },
    {
     "name": "stdout",
     "output_type": "stream",
     "text": [
      "\n",
      "Epoch 40/100\n",
      "Train Loss: 0.2474 | Val Loss: 0.2435 | Val F1 (macro): 0.7200\n"
     ]
    },
    {
     "name": "stderr",
     "output_type": "stream",
     "text": [
      "Epoch 41/100 - Training: 100%|██████████| 370/370 [00:02<00:00, 132.72it/s]\n",
      "Epoch 41/100 - Validation: 100%|██████████| 93/93 [00:00<00:00, 608.97it/s]\n"
     ]
    },
    {
     "name": "stdout",
     "output_type": "stream",
     "text": [
      "\n",
      "Epoch 41/100\n",
      "Train Loss: 0.2466 | Val Loss: 0.2429 | Val F1 (macro): 0.7208\n",
      "🎉 New best model found!\n"
     ]
    },
    {
     "name": "stderr",
     "output_type": "stream",
     "text": [
      "Epoch 42/100 - Training: 100%|██████████| 370/370 [00:02<00:00, 150.42it/s]\n",
      "Epoch 42/100 - Validation: 100%|██████████| 93/93 [00:00<00:00, 610.94it/s]\n"
     ]
    },
    {
     "name": "stdout",
     "output_type": "stream",
     "text": [
      "\n",
      "Epoch 42/100\n",
      "Train Loss: 0.2459 | Val Loss: 0.2431 | Val F1 (macro): 0.7200\n"
     ]
    },
    {
     "name": "stderr",
     "output_type": "stream",
     "text": [
      "Epoch 43/100 - Training: 100%|██████████| 370/370 [00:02<00:00, 152.64it/s]\n",
      "Epoch 43/100 - Validation: 100%|██████████| 93/93 [00:00<00:00, 646.10it/s]\n"
     ]
    },
    {
     "name": "stdout",
     "output_type": "stream",
     "text": [
      "\n",
      "Epoch 43/100\n",
      "Train Loss: 0.2449 | Val Loss: 0.2428 | Val F1 (macro): 0.7207\n"
     ]
    },
    {
     "name": "stderr",
     "output_type": "stream",
     "text": [
      "Epoch 44/100 - Training: 100%|██████████| 370/370 [00:02<00:00, 153.02it/s]\n",
      "Epoch 44/100 - Validation: 100%|██████████| 93/93 [00:00<00:00, 594.57it/s]\n"
     ]
    },
    {
     "name": "stdout",
     "output_type": "stream",
     "text": [
      "\n",
      "Epoch 44/100\n",
      "Train Loss: 0.2447 | Val Loss: 0.2414 | Val F1 (macro): 0.7206\n"
     ]
    },
    {
     "name": "stderr",
     "output_type": "stream",
     "text": [
      "Epoch 45/100 - Training: 100%|██████████| 370/370 [00:02<00:00, 146.34it/s]\n",
      "Epoch 45/100 - Validation: 100%|██████████| 93/93 [00:00<00:00, 470.31it/s]\n"
     ]
    },
    {
     "name": "stdout",
     "output_type": "stream",
     "text": [
      "\n",
      "Epoch 45/100\n",
      "Train Loss: 0.2426 | Val Loss: 0.2412 | Val F1 (macro): 0.7210\n",
      "🎉 New best model found!\n"
     ]
    },
    {
     "name": "stderr",
     "output_type": "stream",
     "text": [
      "Epoch 46/100 - Training: 100%|██████████| 370/370 [00:02<00:00, 139.63it/s]\n",
      "Epoch 46/100 - Validation: 100%|██████████| 93/93 [00:00<00:00, 657.51it/s]\n"
     ]
    },
    {
     "name": "stdout",
     "output_type": "stream",
     "text": [
      "\n",
      "Epoch 46/100\n",
      "Train Loss: 0.2421 | Val Loss: 0.2407 | Val F1 (macro): 0.7213\n",
      "🎉 New best model found!\n"
     ]
    },
    {
     "name": "stderr",
     "output_type": "stream",
     "text": [
      "Epoch 47/100 - Training: 100%|██████████| 370/370 [00:02<00:00, 153.09it/s]\n",
      "Epoch 47/100 - Validation: 100%|██████████| 93/93 [00:00<00:00, 627.01it/s]\n"
     ]
    },
    {
     "name": "stdout",
     "output_type": "stream",
     "text": [
      "\n",
      "Epoch 47/100\n",
      "Train Loss: 0.2415 | Val Loss: 0.2401 | Val F1 (macro): 0.7212\n"
     ]
    },
    {
     "name": "stderr",
     "output_type": "stream",
     "text": [
      "Epoch 48/100 - Training: 100%|██████████| 370/370 [00:02<00:00, 153.24it/s]\n",
      "Epoch 48/100 - Validation: 100%|██████████| 93/93 [00:00<00:00, 653.58it/s]\n"
     ]
    },
    {
     "name": "stdout",
     "output_type": "stream",
     "text": [
      "\n",
      "Epoch 48/100\n",
      "Train Loss: 0.2412 | Val Loss: 0.2407 | Val F1 (macro): 0.7206\n"
     ]
    },
    {
     "name": "stderr",
     "output_type": "stream",
     "text": [
      "Epoch 49/100 - Training: 100%|██████████| 370/370 [00:02<00:00, 153.27it/s]\n",
      "Epoch 49/100 - Validation: 100%|██████████| 93/93 [00:00<00:00, 610.62it/s]\n"
     ]
    },
    {
     "name": "stdout",
     "output_type": "stream",
     "text": [
      "\n",
      "Epoch 49/100\n",
      "Train Loss: 0.2403 | Val Loss: 0.2395 | Val F1 (macro): 0.7207\n"
     ]
    },
    {
     "name": "stderr",
     "output_type": "stream",
     "text": [
      "Epoch 50/100 - Training: 100%|██████████| 370/370 [00:02<00:00, 143.37it/s]\n",
      "Epoch 50/100 - Validation: 100%|██████████| 93/93 [00:00<00:00, 524.01it/s]\n"
     ]
    },
    {
     "name": "stdout",
     "output_type": "stream",
     "text": [
      "\n",
      "Epoch 50/100\n",
      "Train Loss: 0.2396 | Val Loss: 0.2390 | Val F1 (macro): 0.7215\n",
      "🎉 New best model found!\n"
     ]
    },
    {
     "name": "stderr",
     "output_type": "stream",
     "text": [
      "Epoch 51/100 - Training: 100%|██████████| 370/370 [00:02<00:00, 142.86it/s]\n",
      "Epoch 51/100 - Validation: 100%|██████████| 93/93 [00:00<00:00, 640.95it/s]\n"
     ]
    },
    {
     "name": "stdout",
     "output_type": "stream",
     "text": [
      "\n",
      "Epoch 51/100\n",
      "Train Loss: 0.2383 | Val Loss: 0.2389 | Val F1 (macro): 0.7216\n",
      "🎉 New best model found!\n"
     ]
    },
    {
     "name": "stderr",
     "output_type": "stream",
     "text": [
      "Epoch 52/100 - Training: 100%|██████████| 370/370 [00:02<00:00, 151.51it/s]\n",
      "Epoch 52/100 - Validation: 100%|██████████| 93/93 [00:00<00:00, 650.89it/s]\n"
     ]
    },
    {
     "name": "stdout",
     "output_type": "stream",
     "text": [
      "\n",
      "Epoch 52/100\n",
      "Train Loss: 0.2376 | Val Loss: 0.2379 | Val F1 (macro): 0.7225\n",
      "🎉 New best model found!\n"
     ]
    },
    {
     "name": "stderr",
     "output_type": "stream",
     "text": [
      "Epoch 53/100 - Training: 100%|██████████| 370/370 [00:02<00:00, 153.06it/s]\n",
      "Epoch 53/100 - Validation: 100%|██████████| 93/93 [00:00<00:00, 656.97it/s]\n"
     ]
    },
    {
     "name": "stdout",
     "output_type": "stream",
     "text": [
      "\n",
      "Epoch 53/100\n",
      "Train Loss: 0.2369 | Val Loss: 0.2381 | Val F1 (macro): 0.7212\n"
     ]
    },
    {
     "name": "stderr",
     "output_type": "stream",
     "text": [
      "Epoch 54/100 - Training: 100%|██████████| 370/370 [00:02<00:00, 153.29it/s]\n",
      "Epoch 54/100 - Validation: 100%|██████████| 93/93 [00:00<00:00, 617.98it/s]\n"
     ]
    },
    {
     "name": "stdout",
     "output_type": "stream",
     "text": [
      "\n",
      "Epoch 54/100\n",
      "Train Loss: 0.2358 | Val Loss: 0.2371 | Val F1 (macro): 0.7222\n"
     ]
    },
    {
     "name": "stderr",
     "output_type": "stream",
     "text": [
      "Epoch 55/100 - Training: 100%|██████████| 370/370 [00:02<00:00, 141.00it/s]\n",
      "Epoch 55/100 - Validation: 100%|██████████| 93/93 [00:00<00:00, 574.79it/s]\n"
     ]
    },
    {
     "name": "stdout",
     "output_type": "stream",
     "text": [
      "\n",
      "Epoch 55/100\n",
      "Train Loss: 0.2356 | Val Loss: 0.2371 | Val F1 (macro): 0.7220\n"
     ]
    },
    {
     "name": "stderr",
     "output_type": "stream",
     "text": [
      "Epoch 56/100 - Training: 100%|██████████| 370/370 [00:02<00:00, 145.84it/s]\n",
      "Epoch 56/100 - Validation: 100%|██████████| 93/93 [00:00<00:00, 176.86it/s]\n"
     ]
    },
    {
     "name": "stdout",
     "output_type": "stream",
     "text": [
      "\n",
      "Epoch 56/100\n",
      "Train Loss: 0.2347 | Val Loss: 0.2367 | Val F1 (macro): 0.7226\n",
      "🎉 New best model found!\n"
     ]
    },
    {
     "name": "stderr",
     "output_type": "stream",
     "text": [
      "Epoch 57/100 - Training: 100%|██████████| 370/370 [00:02<00:00, 151.09it/s]\n",
      "Epoch 57/100 - Validation: 100%|██████████| 93/93 [00:00<00:00, 638.11it/s]\n"
     ]
    },
    {
     "name": "stdout",
     "output_type": "stream",
     "text": [
      "\n",
      "Epoch 57/100\n",
      "Train Loss: 0.2347 | Val Loss: 0.2368 | Val F1 (macro): 0.7226\n"
     ]
    },
    {
     "name": "stderr",
     "output_type": "stream",
     "text": [
      "Epoch 58/100 - Training: 100%|██████████| 370/370 [00:02<00:00, 152.09it/s]\n",
      "Epoch 58/100 - Validation: 100%|██████████| 93/93 [00:00<00:00, 640.50it/s]\n"
     ]
    },
    {
     "name": "stdout",
     "output_type": "stream",
     "text": [
      "\n",
      "Epoch 58/100\n",
      "Train Loss: 0.2330 | Val Loss: 0.2361 | Val F1 (macro): 0.7227\n",
      "🎉 New best model found!\n"
     ]
    },
    {
     "name": "stderr",
     "output_type": "stream",
     "text": [
      "Epoch 59/100 - Training: 100%|██████████| 370/370 [00:02<00:00, 150.74it/s]\n",
      "Epoch 59/100 - Validation: 100%|██████████| 93/93 [00:00<00:00, 536.13it/s]\n"
     ]
    },
    {
     "name": "stdout",
     "output_type": "stream",
     "text": [
      "\n",
      "Epoch 59/100\n",
      "Train Loss: 0.2322 | Val Loss: 0.2359 | Val F1 (macro): 0.7226\n"
     ]
    },
    {
     "name": "stderr",
     "output_type": "stream",
     "text": [
      "Epoch 60/100 - Training: 100%|██████████| 370/370 [00:02<00:00, 135.16it/s]\n",
      "Epoch 60/100 - Validation: 100%|██████████| 93/93 [00:00<00:00, 596.82it/s]\n"
     ]
    },
    {
     "name": "stdout",
     "output_type": "stream",
     "text": [
      "\n",
      "Epoch 60/100\n",
      "Train Loss: 0.2318 | Val Loss: 0.2351 | Val F1 (macro): 0.7228\n",
      "🎉 New best model found!\n"
     ]
    },
    {
     "name": "stderr",
     "output_type": "stream",
     "text": [
      "Epoch 61/100 - Training: 100%|██████████| 370/370 [00:02<00:00, 153.24it/s]\n",
      "Epoch 61/100 - Validation: 100%|██████████| 93/93 [00:00<00:00, 633.57it/s]\n"
     ]
    },
    {
     "name": "stdout",
     "output_type": "stream",
     "text": [
      "\n",
      "Epoch 61/100\n",
      "Train Loss: 0.2308 | Val Loss: 0.2345 | Val F1 (macro): 0.7234\n",
      "🎉 New best model found!\n"
     ]
    },
    {
     "name": "stderr",
     "output_type": "stream",
     "text": [
      "Epoch 62/100 - Training: 100%|██████████| 370/370 [00:02<00:00, 152.17it/s]\n",
      "Epoch 62/100 - Validation: 100%|██████████| 93/93 [00:00<00:00, 649.08it/s]\n"
     ]
    },
    {
     "name": "stdout",
     "output_type": "stream",
     "text": [
      "\n",
      "Epoch 62/100\n",
      "Train Loss: 0.2303 | Val Loss: 0.2346 | Val F1 (macro): 0.7238\n",
      "🎉 New best model found!\n"
     ]
    },
    {
     "name": "stderr",
     "output_type": "stream",
     "text": [
      "Epoch 63/100 - Training: 100%|██████████| 370/370 [00:02<00:00, 151.04it/s]\n",
      "Epoch 63/100 - Validation: 100%|██████████| 93/93 [00:00<00:00, 634.11it/s]\n"
     ]
    },
    {
     "name": "stdout",
     "output_type": "stream",
     "text": [
      "\n",
      "Epoch 63/100\n",
      "Train Loss: 0.2294 | Val Loss: 0.2357 | Val F1 (macro): 0.7238\n"
     ]
    },
    {
     "name": "stderr",
     "output_type": "stream",
     "text": [
      "Epoch 64/100 - Training: 100%|██████████| 370/370 [00:02<00:00, 146.43it/s]\n",
      "Epoch 64/100 - Validation: 100%|██████████| 93/93 [00:00<00:00, 481.59it/s]\n"
     ]
    },
    {
     "name": "stdout",
     "output_type": "stream",
     "text": [
      "\n",
      "Epoch 64/100\n",
      "Train Loss: 0.2290 | Val Loss: 0.2339 | Val F1 (macro): 0.7244\n",
      "🎉 New best model found!\n"
     ]
    },
    {
     "name": "stderr",
     "output_type": "stream",
     "text": [
      "Epoch 65/100 - Training: 100%|██████████| 370/370 [00:02<00:00, 138.86it/s]\n",
      "Epoch 65/100 - Validation: 100%|██████████| 93/93 [00:00<00:00, 588.80it/s]\n"
     ]
    },
    {
     "name": "stdout",
     "output_type": "stream",
     "text": [
      "\n",
      "Epoch 65/100\n",
      "Train Loss: 0.2283 | Val Loss: 0.2346 | Val F1 (macro): 0.7241\n"
     ]
    },
    {
     "name": "stderr",
     "output_type": "stream",
     "text": [
      "Epoch 66/100 - Training: 100%|██████████| 370/370 [00:02<00:00, 152.18it/s]\n",
      "Epoch 66/100 - Validation: 100%|██████████| 93/93 [00:00<00:00, 648.37it/s]\n"
     ]
    },
    {
     "name": "stdout",
     "output_type": "stream",
     "text": [
      "\n",
      "Epoch 66/100\n",
      "Train Loss: 0.2278 | Val Loss: 0.2347 | Val F1 (macro): 0.7237\n"
     ]
    },
    {
     "name": "stderr",
     "output_type": "stream",
     "text": [
      "Epoch 67/100 - Training: 100%|██████████| 370/370 [00:02<00:00, 152.36it/s]\n",
      "Epoch 67/100 - Validation: 100%|██████████| 93/93 [00:00<00:00, 629.25it/s]\n"
     ]
    },
    {
     "name": "stdout",
     "output_type": "stream",
     "text": [
      "\n",
      "Epoch 67/100\n",
      "Train Loss: 0.2268 | Val Loss: 0.2359 | Val F1 (macro): 0.7243\n"
     ]
    },
    {
     "name": "stderr",
     "output_type": "stream",
     "text": [
      "Epoch 68/100 - Training: 100%|██████████| 370/370 [00:02<00:00, 153.12it/s]\n",
      "Epoch 68/100 - Validation: 100%|██████████| 93/93 [00:00<00:00, 650.38it/s]\n"
     ]
    },
    {
     "name": "stdout",
     "output_type": "stream",
     "text": [
      "\n",
      "Epoch 68/100\n",
      "Train Loss: 0.2257 | Val Loss: 0.2354 | Val F1 (macro): 0.7244\n",
      "🎉 New best model found!\n"
     ]
    },
    {
     "name": "stderr",
     "output_type": "stream",
     "text": [
      "Epoch 69/100 - Training: 100%|██████████| 370/370 [00:02<00:00, 140.93it/s]\n",
      "Epoch 69/100 - Validation: 100%|██████████| 93/93 [00:00<00:00, 521.97it/s]\n"
     ]
    },
    {
     "name": "stdout",
     "output_type": "stream",
     "text": [
      "\n",
      "Epoch 69/100\n",
      "Train Loss: 0.2256 | Val Loss: 0.2335 | Val F1 (macro): 0.7244\n"
     ]
    },
    {
     "name": "stderr",
     "output_type": "stream",
     "text": [
      "Epoch 70/100 - Training: 100%|██████████| 370/370 [00:02<00:00, 143.17it/s]\n",
      "Epoch 70/100 - Validation: 100%|██████████| 93/93 [00:00<00:00, 589.34it/s]\n"
     ]
    },
    {
     "name": "stdout",
     "output_type": "stream",
     "text": [
      "\n",
      "Epoch 70/100\n",
      "Train Loss: 0.2251 | Val Loss: 0.2347 | Val F1 (macro): 0.7245\n",
      "🎉 New best model found!\n"
     ]
    },
    {
     "name": "stderr",
     "output_type": "stream",
     "text": [
      "Epoch 71/100 - Training: 100%|██████████| 370/370 [00:02<00:00, 152.05it/s]\n",
      "Epoch 71/100 - Validation: 100%|██████████| 93/93 [00:00<00:00, 653.75it/s]\n"
     ]
    },
    {
     "name": "stdout",
     "output_type": "stream",
     "text": [
      "\n",
      "Epoch 71/100\n",
      "Train Loss: 0.2249 | Val Loss: 0.2340 | Val F1 (macro): 0.7243\n"
     ]
    },
    {
     "name": "stderr",
     "output_type": "stream",
     "text": [
      "Epoch 72/100 - Training: 100%|██████████| 370/370 [00:02<00:00, 152.13it/s]\n",
      "Epoch 72/100 - Validation: 100%|██████████| 93/93 [00:00<00:00, 596.14it/s]\n"
     ]
    },
    {
     "name": "stdout",
     "output_type": "stream",
     "text": [
      "\n",
      "Epoch 72/100\n",
      "Train Loss: 0.2247 | Val Loss: 0.2340 | Val F1 (macro): 0.7249\n",
      "🎉 New best model found!\n"
     ]
    },
    {
     "name": "stderr",
     "output_type": "stream",
     "text": [
      "Epoch 73/100 - Training: 100%|██████████| 370/370 [00:02<00:00, 152.00it/s]\n",
      "Epoch 73/100 - Validation: 100%|██████████| 93/93 [00:00<00:00, 651.28it/s]\n"
     ]
    },
    {
     "name": "stdout",
     "output_type": "stream",
     "text": [
      "\n",
      "Epoch 73/100\n",
      "Train Loss: 0.2245 | Val Loss: 0.2337 | Val F1 (macro): 0.7252\n",
      "🎉 New best model found!\n"
     ]
    },
    {
     "name": "stderr",
     "output_type": "stream",
     "text": [
      "Epoch 74/100 - Training: 100%|██████████| 370/370 [00:02<00:00, 138.73it/s]\n",
      "Epoch 74/100 - Validation: 100%|██████████| 93/93 [00:00<00:00, 488.74it/s]\n"
     ]
    },
    {
     "name": "stdout",
     "output_type": "stream",
     "text": [
      "\n",
      "Epoch 74/100\n",
      "Train Loss: 0.2237 | Val Loss: 0.2329 | Val F1 (macro): 0.7248\n"
     ]
    },
    {
     "name": "stderr",
     "output_type": "stream",
     "text": [
      "Epoch 75/100 - Training: 100%|██████████| 370/370 [00:02<00:00, 147.49it/s]\n",
      "Epoch 75/100 - Validation: 100%|██████████| 93/93 [00:00<00:00, 591.16it/s]\n"
     ]
    },
    {
     "name": "stdout",
     "output_type": "stream",
     "text": [
      "\n",
      "Epoch 75/100\n",
      "Train Loss: 0.2234 | Val Loss: 0.2337 | Val F1 (macro): 0.7248\n"
     ]
    },
    {
     "name": "stderr",
     "output_type": "stream",
     "text": [
      "Epoch 76/100 - Training: 100%|██████████| 370/370 [00:02<00:00, 152.33it/s]\n",
      "Epoch 76/100 - Validation: 100%|██████████| 93/93 [00:00<00:00, 649.05it/s]\n"
     ]
    },
    {
     "name": "stdout",
     "output_type": "stream",
     "text": [
      "\n",
      "Epoch 76/100\n",
      "Train Loss: 0.2237 | Val Loss: 0.2341 | Val F1 (macro): 0.7253\n",
      "🎉 New best model found!\n"
     ]
    },
    {
     "name": "stderr",
     "output_type": "stream",
     "text": [
      "Epoch 77/100 - Training: 100%|██████████| 370/370 [00:02<00:00, 152.02it/s]\n",
      "Epoch 77/100 - Validation: 100%|██████████| 93/93 [00:00<00:00, 602.08it/s]\n"
     ]
    },
    {
     "name": "stdout",
     "output_type": "stream",
     "text": [
      "\n",
      "Epoch 77/100\n",
      "Train Loss: 0.2237 | Val Loss: 0.2334 | Val F1 (macro): 0.7251\n"
     ]
    },
    {
     "name": "stderr",
     "output_type": "stream",
     "text": [
      "Epoch 78/100 - Training: 100%|██████████| 370/370 [00:02<00:00, 152.00it/s]\n",
      "Epoch 78/100 - Validation: 100%|██████████| 93/93 [00:00<00:00, 655.40it/s]\n"
     ]
    },
    {
     "name": "stdout",
     "output_type": "stream",
     "text": [
      "\n",
      "Epoch 78/100\n",
      "Train Loss: 0.2227 | Val Loss: 0.2339 | Val F1 (macro): 0.7247\n"
     ]
    },
    {
     "name": "stderr",
     "output_type": "stream",
     "text": [
      "Epoch 79/100 - Training: 100%|██████████| 370/370 [00:02<00:00, 135.72it/s]\n",
      "Epoch 79/100 - Validation: 100%|██████████| 93/93 [00:00<00:00, 468.67it/s]\n"
     ]
    },
    {
     "name": "stdout",
     "output_type": "stream",
     "text": [
      "\n",
      "Epoch 79/100\n",
      "Train Loss: 0.2229 | Val Loss: 0.2335 | Val F1 (macro): 0.7250\n"
     ]
    },
    {
     "name": "stderr",
     "output_type": "stream",
     "text": [
      "Epoch 80/100 - Training: 100%|██████████| 370/370 [00:02<00:00, 151.23it/s]\n",
      "Epoch 80/100 - Validation: 100%|██████████| 93/93 [00:00<00:00, 648.45it/s]\n"
     ]
    },
    {
     "name": "stdout",
     "output_type": "stream",
     "text": [
      "\n",
      "Epoch 80/100\n",
      "Train Loss: 0.2227 | Val Loss: 0.2333 | Val F1 (macro): 0.7253\n",
      "🎉 New best model found!\n"
     ]
    },
    {
     "name": "stderr",
     "output_type": "stream",
     "text": [
      "Epoch 81/100 - Training: 100%|██████████| 370/370 [00:02<00:00, 151.01it/s]\n",
      "Epoch 81/100 - Validation: 100%|██████████| 93/93 [00:00<00:00, 642.01it/s]\n"
     ]
    },
    {
     "name": "stdout",
     "output_type": "stream",
     "text": [
      "\n",
      "Epoch 81/100\n",
      "Train Loss: 0.2224 | Val Loss: 0.2334 | Val F1 (macro): 0.7250\n"
     ]
    },
    {
     "name": "stderr",
     "output_type": "stream",
     "text": [
      "Epoch 82/100 - Training: 100%|██████████| 370/370 [00:02<00:00, 152.07it/s]\n",
      "Epoch 82/100 - Validation: 100%|██████████| 93/93 [00:00<00:00, 637.79it/s]\n"
     ]
    },
    {
     "name": "stdout",
     "output_type": "stream",
     "text": [
      "\n",
      "Epoch 82/100\n",
      "Train Loss: 0.2230 | Val Loss: 0.2340 | Val F1 (macro): 0.7253\n",
      "🎉 New best model found!\n"
     ]
    },
    {
     "name": "stderr",
     "output_type": "stream",
     "text": [
      "Epoch 83/100 - Training: 100%|██████████| 370/370 [00:02<00:00, 149.39it/s]\n",
      "Epoch 83/100 - Validation: 100%|██████████| 93/93 [00:00<00:00, 540.97it/s]\n"
     ]
    },
    {
     "name": "stdout",
     "output_type": "stream",
     "text": [
      "\n",
      "Epoch 83/100\n",
      "Train Loss: 0.2218 | Val Loss: 0.2340 | Val F1 (macro): 0.7253\n",
      "🎉 New best model found!\n"
     ]
    },
    {
     "name": "stderr",
     "output_type": "stream",
     "text": [
      "Epoch 84/100 - Training: 100%|██████████| 370/370 [00:02<00:00, 136.26it/s]\n",
      "Epoch 84/100 - Validation: 100%|██████████| 93/93 [00:00<00:00, 639.78it/s]\n"
     ]
    },
    {
     "name": "stdout",
     "output_type": "stream",
     "text": [
      "\n",
      "Epoch 84/100\n",
      "Train Loss: 0.2218 | Val Loss: 0.2342 | Val F1 (macro): 0.7248\n"
     ]
    },
    {
     "name": "stderr",
     "output_type": "stream",
     "text": [
      "Epoch 85/100 - Training: 100%|██████████| 370/370 [00:02<00:00, 151.52it/s]\n",
      "Epoch 85/100 - Validation: 100%|██████████| 93/93 [00:00<00:00, 655.12it/s]\n"
     ]
    },
    {
     "name": "stdout",
     "output_type": "stream",
     "text": [
      "\n",
      "Epoch 85/100\n",
      "Train Loss: 0.2229 | Val Loss: 0.2340 | Val F1 (macro): 0.7254\n",
      "🎉 New best model found!\n"
     ]
    },
    {
     "name": "stderr",
     "output_type": "stream",
     "text": [
      "Epoch 86/100 - Training: 100%|██████████| 370/370 [00:02<00:00, 152.47it/s]\n",
      "Epoch 86/100 - Validation: 100%|██████████| 93/93 [00:00<00:00, 642.66it/s]\n"
     ]
    },
    {
     "name": "stdout",
     "output_type": "stream",
     "text": [
      "\n",
      "Epoch 86/100\n",
      "Train Loss: 0.2227 | Val Loss: 0.2341 | Val F1 (macro): 0.7251\n"
     ]
    },
    {
     "name": "stderr",
     "output_type": "stream",
     "text": [
      "Epoch 87/100 - Training: 100%|██████████| 370/370 [00:02<00:00, 152.75it/s]\n",
      "Epoch 87/100 - Validation: 100%|██████████| 93/93 [00:00<00:00, 599.81it/s]\n"
     ]
    },
    {
     "name": "stdout",
     "output_type": "stream",
     "text": [
      "\n",
      "Epoch 87/100\n",
      "Train Loss: 0.2232 | Val Loss: 0.2335 | Val F1 (macro): 0.7252\n"
     ]
    },
    {
     "name": "stderr",
     "output_type": "stream",
     "text": [
      "Epoch 88/100 - Training: 100%|██████████| 370/370 [00:02<00:00, 144.77it/s]\n",
      "Epoch 88/100 - Validation: 100%|██████████| 93/93 [00:00<00:00, 480.25it/s]\n"
     ]
    },
    {
     "name": "stdout",
     "output_type": "stream",
     "text": [
      "\n",
      "Epoch 88/100\n",
      "Train Loss: 0.2220 | Val Loss: 0.2340 | Val F1 (macro): 0.7253\n"
     ]
    },
    {
     "name": "stderr",
     "output_type": "stream",
     "text": [
      "Epoch 89/100 - Training: 100%|██████████| 370/370 [00:02<00:00, 138.07it/s]\n",
      "Epoch 89/100 - Validation: 100%|██████████| 93/93 [00:00<00:00, 633.68it/s]\n"
     ]
    },
    {
     "name": "stdout",
     "output_type": "stream",
     "text": [
      "\n",
      "Epoch 89/100\n",
      "Train Loss: 0.2227 | Val Loss: 0.2334 | Val F1 (macro): 0.7252\n"
     ]
    },
    {
     "name": "stderr",
     "output_type": "stream",
     "text": [
      "Epoch 90/100 - Training: 100%|██████████| 370/370 [00:02<00:00, 151.21it/s]\n",
      "Epoch 90/100 - Validation: 100%|██████████| 93/93 [00:00<00:00, 644.37it/s]\n"
     ]
    },
    {
     "name": "stdout",
     "output_type": "stream",
     "text": [
      "\n",
      "Epoch 90/100\n",
      "Train Loss: 0.2216 | Val Loss: 0.2340 | Val F1 (macro): 0.7254\n",
      "🛑 Early stopping triggered.\n"
     ]
    },
    {
     "data": {
      "image/png": "[encoded data removed]",
      "text/plain": [
       "<Figure size 1200x400 with 2 Axes>"
      ]
     },
     "metadata": {},
     "output_type": "display_data"
    },
    {
     "data": {
      "text/plain": [
       "<All keys matched successfully>"
      ]
     },
     "execution_count": 27,
     "metadata": {},
     "output_type": "execute_result"
    }
   ],
   "source": [
    "import torch\n",
    "import torch.nn as nn\n",
    "import torch.optim as optim\n",
    "from torch.utils.data import Dataset, DataLoader\n",
    "from sklearn.metrics import f1_score\n",
    "import matplotlib.pyplot as plt\n",
    "import numpy as np\n",
    "from tqdm import tqdm\n",
    "import re\n",
    "from collections import Counter\n",
    "\n",
    "device = torch.device(\"cuda\" if torch.cuda.is_available() else \"cpu\")\n",
    "EPOCHS = 100\n",
    "BATCH_SIZE = 64\n",
    "PATIENCE = 5\n",
    "MODEL_PATH = \"best_cnn_model.pt\"\n",
    "WARMUP_EPOCHS = 3\n",
    "target_columns = y_train.columns.tolist()\n",
    "NUM_CLASSES = len(target_columns)\n",
    "MAX_LEN = 200\n",
    "EMBEDDING_DIM = 100\n",
    "\n",
    "def tokenize(text):\n",
    "    return re.findall(r'\\b\\w+\\b', text.lower())\n",
    "\n",
    "tokenized_train = [tokenize(text) for text in df.loc[X_train.index, 'text_cnn']]\n",
    "tokenized_val = [tokenize(text) for text in df.loc[X_val.index, 'text_cnn']]\n",
    "\n",
    "all_tokens = [token for sentence in tokenized_train for token in sentence]\n",
    "vocab = {\"<PAD>\": 0, \"<UNK>\": 1}\n",
    "for token, count in Counter(all_tokens).items():\n",
    "    if count >= 2:\n",
    "        vocab[token] = len(vocab)\n",
    "\n",
    "def encode(tokens, vocab, max_len=MAX_LEN):\n",
    "    ids = [vocab.get(token, vocab[\"<UNK>\"]) for token in tokens]\n",
    "    if len(ids) < max_len:\n",
    "        ids += [vocab[\"<PAD>\"]] * (max_len - len(ids))\n",
    "    else:\n",
    "        ids = ids[:max_len]\n",
    "    return ids\n",
    "\n",
    "X_train_encoded = [encode(tokens, vocab) for tokens in tokenized_train]\n",
    "X_val_encoded = [encode(tokens, vocab) for tokens in tokenized_val]\n",
    "\n",
    "class TextDatasetCNN(Dataset):\n",
    "    def __init__(self, X, y):\n",
    "        self.X = torch.tensor(X, dtype=torch.long)\n",
    "        self.y = torch.tensor(y.values, dtype=torch.float32)\n",
    "    def __len__(self):\n",
    "        return len(self.X)\n",
    "    def __getitem__(self, idx):\n",
    "        return self.X[idx], self.y[idx]\n",
    "\n",
    "train_dataset = TextDatasetCNN(X_train_encoded, y_train)\n",
    "val_dataset = TextDatasetCNN(X_val_encoded, y_val)\n",
    "train_loader = DataLoader(train_dataset, batch_size=BATCH_SIZE, shuffle=True)\n",
    "val_loader = DataLoader(val_dataset, batch_size=BATCH_SIZE)\n",
    "\n",
    "class CNNTextClassifierImproved(nn.Module):\n",
    "    def __init__(self, vocab_size, embedding_dim, output_dim):\n",
    "        super().__init__()\n",
    "        self.embedding = nn.Embedding(vocab_size, embedding_dim, padding_idx=0)\n",
    "\n",
    "        self.conv_block = nn.Sequential(\n",
    "            nn.Conv1d(embedding_dim, 128, kernel_size=3, padding=1),\n",
    "            nn.BatchNorm1d(128),\n",
    "            nn.ReLU(),\n",
    "            nn.Dropout(0.3),\n",
    "\n",
    "            nn.Conv1d(128, 64, kernel_size=3, padding=1),\n",
    "            nn.BatchNorm1d(64),\n",
    "            nn.ReLU(),\n",
    "            nn.Dropout(0.3),\n",
    "\n",
    "            nn.AdaptiveAvgPool1d(1)\n",
    "        )\n",
    "\n",
    "        self.classifier = nn.Sequential(\n",
    "            nn.Flatten(),\n",
    "            nn.Linear(64, 64),\n",
    "            nn.ReLU(),\n",
    "            nn.Dropout(0.5),\n",
    "            nn.Linear(64, output_dim),\n",
    "            nn.Sigmoid()\n",
    "        )\n",
    "\n",
    "    def forward(self, x):\n",
    "        x = self.embedding(x)\n",
    "        x = x.transpose(1, 2)\n",
    "        x = self.conv_block(x)\n",
    "        out = self.classifier(x)\n",
    "        return out\n",
    "\n",
    "model = CNNTextClassifierImproved(vocab_size=len(vocab), embedding_dim=EMBEDDING_DIM, output_dim=NUM_CLASSES).to(device)\n",
    "\n",
    "criterion = nn.BCELoss()\n",
    "optimizer = optim.AdamW(model.parameters(), lr=1e-4, weight_decay=1e-4)\n",
    "scheduler = optim.lr_scheduler.ReduceLROnPlateau(optimizer, mode='min', factor=0.5, patience=2, verbose=True)\n",
    "\n",
    "train_losses, val_losses, val_f1s = [], [], []\n",
    "best_f1 = 0\n",
    "epochs_no_improve = 0\n",
    "\n",
    "for epoch in range(1, EPOCHS + 1):\n",
    "    model.train()\n",
    "    running_loss = 0\n",
    "    for inputs, labels in tqdm(train_loader, desc=f\"Epoch {epoch}/{EPOCHS} - Training\"):\n",
    "        inputs, labels = inputs.to(device), labels.to(device)\n",
    "        optimizer.zero_grad()\n",
    "        outputs = model(inputs)\n",
    "        loss = criterion(outputs, labels)\n",
    "        loss.backward()\n",
    "        optimizer.step()\n",
    "        running_loss += loss.item()\n",
    "    train_loss = running_loss / len(train_loader)\n",
    "\n",
    "    model.eval()\n",
    "    val_loss = 0\n",
    "    all_preds, all_labels = [], []\n",
    "    with torch.no_grad():\n",
    "        for inputs, labels in tqdm(val_loader, desc=f\"Epoch {epoch}/{EPOCHS} - Validation\"):\n",
    "            inputs, labels = inputs.to(device), labels.to(device)\n",
    "            outputs = model(inputs)\n",
    "            loss = criterion(outputs, labels)\n",
    "            val_loss += loss.item()\n",
    "            all_preds.append(outputs.cpu().numpy())\n",
    "            all_labels.append(labels.cpu().numpy())\n",
    "\n",
    "    val_loss /= len(val_loader)\n",
    "    preds = np.vstack(all_preds) > 0.5\n",
    "    targets = np.vstack(all_labels)\n",
    "    val_f1 = f1_score(targets, preds, average='macro')\n",
    "\n",
    "    train_losses.append(train_loss)\n",
    "    val_losses.append(val_loss)\n",
    "    val_f1s.append(val_f1)\n",
    "\n",
    "    print(f\"\\nEpoch {epoch}/{EPOCHS}\")\n",
    "    print(f\"Train Loss: {train_loss:.4f} | Val Loss: {val_loss:.4f} | Val F1 (macro): {val_f1:.4f}\")\n",
    "\n",
    "    if val_f1 > best_f1:\n",
    "        best_f1 = val_f1\n",
    "        torch.save(model.state_dict(), MODEL_PATH)\n",
    "        print(\"🎉 New best model found!\")\n",
    "        epochs_no_improve = 0\n",
    "    else:\n",
    "        epochs_no_improve += 1\n",
    "        if epoch > WARMUP_EPOCHS and epochs_no_improve >= PATIENCE:\n",
    "            print(\"🛑 Early stopping triggered.\")\n",
    "            break\n",
    "\n",
    "    scheduler.step(val_loss)\n",
    "\n",
    "plt.figure(figsize=(12, 4))\n",
    "plt.subplot(1, 2, 1)\n",
    "plt.plot(train_losses, label='Train Loss')\n",
    "plt.plot(val_losses, label='Val Loss')\n",
    "plt.title('Losses')\n",
    "plt.legend()\n",
    "\n",
    "plt.subplot(1, 2, 2)\n",
    "plt.plot(val_f1s, label='Val F1 (macro)')\n",
    "plt.title('F1 Score')\n",
    "plt.legend()\n",
    "plt.show()\n",
    "\n",
    "model.load_state_dict(torch.load(MODEL_PATH))"
   ]
  },
  {
   "cell_type": "markdown",
   "metadata": {
    "id": "3IZsUs3a9e-g"
   },
   "source": [
    "эта модель обучалась стабильно, без переобучения, f1 немного улучшался, поэтому я увеличила число эпох до 100. в итоге f1 не очень высокий, поэтому далее я попробовала улучшить его"
   ]
  },
  {
   "cell_type": "markdown",
   "metadata": {
    "id": "rRfbdEr7-sU_"
   },
   "source": [
    "я попробовала позапускать модель с разными изменениями, в итоге пришла к этому:\n",
    "- вместо обычной CNN я сделала модель, которая использует сразу несколько свёрток с разными размерами kernel_sizes = [3, 4, 5]\n",
    "- после каждой свёртки я добавила AdaptiveMaxPool1d(1)\n",
    "- вместо обычного BCELoss теперь использую BCEWithLogitsLoss, потому что он сразу включает в себя сигмоиду, это стабилизирует обучение\n",
    "- для управления скоростью обучения использую OneCycleLR, он сам регулирует learning rate во время тренировки"
   ]
  },
  {
   "cell_type": "code",
   "execution_count": null,
   "metadata": {
    "colab": {
     "base_uri": "https://localhost:8080/",
     "height": 1000
    },
    "id": "qi60NxXBNNcH",
    "outputId": "b86b3d0b-c161-4831-8846-dd6d030fecd0"
   },
   "outputs": [
    {
     "name": "stderr",
     "output_type": "stream",
     "text": [
      "Epoch 1/20 - Train: 100%|██████████| 370/370 [00:36<00:00, 10.15it/s]\n",
      "Validating: 100%|██████████| 93/93 [00:00<00:00, 538.92it/s]\n"
     ]
    },
    {
     "name": "stdout",
     "output_type": "stream",
     "text": [
      "\n",
      "Epoch 1 | Train Loss: 0.6880 | Val Loss: 0.4505 | Val F1: 0.5907\n",
      "✅ New best model saved.\n"
     ]
    },
    {
     "name": "stderr",
     "output_type": "stream",
     "text": [
      "Epoch 2/20 - Train: 100%|██████████| 370/370 [00:36<00:00, 10.05it/s]\n",
      "Validating: 100%|██████████| 93/93 [00:00<00:00, 394.72it/s]\n"
     ]
    },
    {
     "name": "stdout",
     "output_type": "stream",
     "text": [
      "\n",
      "Epoch 2 | Train Loss: 0.5369 | Val Loss: 0.3922 | Val F1: 0.6382\n",
      "✅ New best model saved.\n"
     ]
    },
    {
     "name": "stderr",
     "output_type": "stream",
     "text": [
      "Epoch 3/20 - Train: 100%|██████████| 370/370 [00:37<00:00,  9.89it/s]\n",
      "Validating: 100%|██████████| 93/93 [00:00<00:00, 417.55it/s]\n"
     ]
    },
    {
     "name": "stdout",
     "output_type": "stream",
     "text": [
      "\n",
      "Epoch 3 | Train Loss: 0.4316 | Val Loss: 0.3456 | Val F1: 0.6970\n",
      "✅ New best model saved.\n"
     ]
    },
    {
     "name": "stderr",
     "output_type": "stream",
     "text": [
      "Epoch 4/20 - Train: 100%|██████████| 370/370 [00:37<00:00,  9.88it/s]\n",
      "Validating: 100%|██████████| 93/93 [00:00<00:00, 402.57it/s]\n"
     ]
    },
    {
     "name": "stdout",
     "output_type": "stream",
     "text": [
      "\n",
      "Epoch 4 | Train Loss: 0.3745 | Val Loss: 0.3212 | Val F1: 0.7145\n",
      "✅ New best model saved.\n"
     ]
    },
    {
     "name": "stderr",
     "output_type": "stream",
     "text": [
      "Epoch 5/20 - Train: 100%|██████████| 370/370 [00:37<00:00,  9.89it/s]\n",
      "Validating: 100%|██████████| 93/93 [00:00<00:00, 403.12it/s]\n"
     ]
    },
    {
     "name": "stdout",
     "output_type": "stream",
     "text": [
      "\n",
      "Epoch 5 | Train Loss: 0.3458 | Val Loss: 0.3003 | Val F1: 0.7253\n",
      "✅ New best model saved.\n"
     ]
    },
    {
     "name": "stderr",
     "output_type": "stream",
     "text": [
      "Epoch 6/20 - Train: 100%|██████████| 370/370 [00:37<00:00,  9.87it/s]\n",
      "Validating: 100%|██████████| 93/93 [00:00<00:00, 565.75it/s]\n"
     ]
    },
    {
     "name": "stdout",
     "output_type": "stream",
     "text": [
      "\n",
      "Epoch 6 | Train Loss: 0.3272 | Val Loss: 0.2846 | Val F1: 0.7353\n",
      "✅ New best model saved.\n"
     ]
    },
    {
     "name": "stderr",
     "output_type": "stream",
     "text": [
      "Epoch 7/20 - Train: 100%|██████████| 370/370 [00:37<00:00,  9.82it/s]\n",
      "Validating: 100%|██████████| 93/93 [00:00<00:00, 567.00it/s]\n"
     ]
    },
    {
     "name": "stdout",
     "output_type": "stream",
     "text": [
      "\n",
      "Epoch 7 | Train Loss: 0.3097 | Val Loss: 0.2738 | Val F1: 0.7389\n",
      "✅ New best model saved.\n"
     ]
    },
    {
     "name": "stderr",
     "output_type": "stream",
     "text": [
      "Epoch 8/20 - Train: 100%|██████████| 370/370 [00:37<00:00,  9.87it/s]\n",
      "Validating: 100%|██████████| 93/93 [00:00<00:00, 553.94it/s]\n"
     ]
    },
    {
     "name": "stdout",
     "output_type": "stream",
     "text": [
      "\n",
      "Epoch 8 | Train Loss: 0.2968 | Val Loss: 0.2639 | Val F1: 0.7436\n",
      "✅ New best model saved.\n"
     ]
    },
    {
     "name": "stderr",
     "output_type": "stream",
     "text": [
      "Epoch 9/20 - Train: 100%|██████████| 370/370 [00:37<00:00,  9.84it/s]\n",
      "Validating: 100%|██████████| 93/93 [00:00<00:00, 562.52it/s]\n"
     ]
    },
    {
     "name": "stdout",
     "output_type": "stream",
     "text": [
      "\n",
      "Epoch 9 | Train Loss: 0.2844 | Val Loss: 0.2565 | Val F1: 0.7442\n",
      "✅ New best model saved.\n"
     ]
    },
    {
     "name": "stderr",
     "output_type": "stream",
     "text": [
      "Epoch 10/20 - Train: 100%|██████████| 370/370 [00:37<00:00,  9.85it/s]\n",
      "Validating: 100%|██████████| 93/93 [00:00<00:00, 566.76it/s]\n"
     ]
    },
    {
     "name": "stdout",
     "output_type": "stream",
     "text": [
      "\n",
      "Epoch 10 | Train Loss: 0.2731 | Val Loss: 0.2504 | Val F1: 0.7511\n",
      "✅ New best model saved.\n"
     ]
    },
    {
     "name": "stderr",
     "output_type": "stream",
     "text": [
      "Epoch 11/20 - Train: 100%|██████████| 370/370 [00:37<00:00,  9.83it/s]\n",
      "Validating: 100%|██████████| 93/93 [00:00<00:00, 559.58it/s]\n"
     ]
    },
    {
     "name": "stdout",
     "output_type": "stream",
     "text": [
      "\n",
      "Epoch 11 | Train Loss: 0.2647 | Val Loss: 0.2462 | Val F1: 0.7595\n",
      "✅ New best model saved.\n"
     ]
    },
    {
     "name": "stderr",
     "output_type": "stream",
     "text": [
      "Epoch 12/20 - Train: 100%|██████████| 370/370 [00:37<00:00,  9.84it/s]\n",
      "Validating: 100%|██████████| 93/93 [00:00<00:00, 562.79it/s]\n"
     ]
    },
    {
     "name": "stdout",
     "output_type": "stream",
     "text": [
      "\n",
      "Epoch 12 | Train Loss: 0.2564 | Val Loss: 0.2425 | Val F1: 0.7493\n"
     ]
    },
    {
     "name": "stderr",
     "output_type": "stream",
     "text": [
      "Epoch 13/20 - Train: 100%|██████████| 370/370 [00:37<00:00,  9.85it/s]\n",
      "Validating: 100%|██████████| 93/93 [00:00<00:00, 554.18it/s]\n"
     ]
    },
    {
     "name": "stdout",
     "output_type": "stream",
     "text": [
      "\n",
      "Epoch 13 | Train Loss: 0.2504 | Val Loss: 0.2421 | Val F1: 0.7580\n"
     ]
    },
    {
     "name": "stderr",
     "output_type": "stream",
     "text": [
      "Epoch 14/20 - Train: 100%|██████████| 370/370 [00:37<00:00,  9.84it/s]\n",
      "Validating: 100%|██████████| 93/93 [00:00<00:00, 550.76it/s]\n"
     ]
    },
    {
     "name": "stdout",
     "output_type": "stream",
     "text": [
      "\n",
      "Epoch 14 | Train Loss: 0.2458 | Val Loss: 0.2382 | Val F1: 0.7621\n",
      "✅ New best model saved.\n"
     ]
    },
    {
     "name": "stderr",
     "output_type": "stream",
     "text": [
      "Epoch 15/20 - Train: 100%|██████████| 370/370 [00:37<00:00,  9.83it/s]\n",
      "Validating: 100%|██████████| 93/93 [00:00<00:00, 559.37it/s]\n"
     ]
    },
    {
     "name": "stdout",
     "output_type": "stream",
     "text": [
      "\n",
      "Epoch 15 | Train Loss: 0.2417 | Val Loss: 0.2359 | Val F1: 0.7632\n",
      "✅ New best model saved.\n"
     ]
    },
    {
     "name": "stderr",
     "output_type": "stream",
     "text": [
      "Epoch 16/20 - Train: 100%|██████████| 370/370 [00:37<00:00,  9.84it/s]\n",
      "Validating: 100%|██████████| 93/93 [00:00<00:00, 530.84it/s]\n"
     ]
    },
    {
     "name": "stdout",
     "output_type": "stream",
     "text": [
      "\n",
      "Epoch 16 | Train Loss: 0.2393 | Val Loss: 0.2345 | Val F1: 0.7628\n"
     ]
    },
    {
     "name": "stderr",
     "output_type": "stream",
     "text": [
      "Epoch 17/20 - Train: 100%|██████████| 370/370 [00:37<00:00,  9.83it/s]\n",
      "Validating: 100%|██████████| 93/93 [00:00<00:00, 578.66it/s]\n"
     ]
    },
    {
     "name": "stdout",
     "output_type": "stream",
     "text": [
      "\n",
      "Epoch 17 | Train Loss: 0.2365 | Val Loss: 0.2348 | Val F1: 0.7631\n"
     ]
    },
    {
     "name": "stderr",
     "output_type": "stream",
     "text": [
      "Epoch 18/20 - Train: 100%|██████████| 370/370 [00:37<00:00,  9.84it/s]\n",
      "Validating: 100%|██████████| 93/93 [00:00<00:00, 564.64it/s]\n"
     ]
    },
    {
     "name": "stdout",
     "output_type": "stream",
     "text": [
      "\n",
      "Epoch 18 | Train Loss: 0.2347 | Val Loss: 0.2335 | Val F1: 0.7649\n",
      "✅ New best model saved.\n"
     ]
    },
    {
     "name": "stderr",
     "output_type": "stream",
     "text": [
      "Epoch 19/20 - Train: 100%|██████████| 370/370 [00:37<00:00,  9.84it/s]\n",
      "Validating: 100%|██████████| 93/93 [00:00<00:00, 573.28it/s]\n"
     ]
    },
    {
     "name": "stdout",
     "output_type": "stream",
     "text": [
      "\n",
      "Epoch 19 | Train Loss: 0.2340 | Val Loss: 0.2339 | Val F1: 0.7642\n"
     ]
    },
    {
     "name": "stderr",
     "output_type": "stream",
     "text": [
      "Epoch 20/20 - Train: 100%|██████████| 370/370 [00:37<00:00,  9.84it/s]\n",
      "Validating: 100%|██████████| 93/93 [00:00<00:00, 386.26it/s]\n"
     ]
    },
    {
     "name": "stdout",
     "output_type": "stream",
     "text": [
      "\n",
      "Epoch 20 | Train Loss: 0.2344 | Val Loss: 0.2343 | Val F1: 0.7648\n"
     ]
    },
    {
     "data": {
      "image/png": "[encoded data removed]",
      "text/plain": [
       "<Figure size 1200x400 with 2 Axes>"
      ]
     },
     "metadata": {},
     "output_type": "display_data"
    },
    {
     "data": {
      "text/plain": [
       "<All keys matched successfully>"
      ]
     },
     "execution_count": 30,
     "metadata": {},
     "output_type": "execute_result"
    }
   ],
   "source": [
    "import torch\n",
    "import torch.nn as nn\n",
    "import torch.optim as optim\n",
    "from torch.utils.data import Dataset, DataLoader\n",
    "from sklearn.metrics import f1_score\n",
    "import numpy as np\n",
    "import matplotlib.pyplot as plt\n",
    "from tqdm import tqdm\n",
    "import re\n",
    "\n",
    "device = torch.device(\"cuda\" if torch.cuda.is_available() else \"cpu\")\n",
    "EPOCHS = 20\n",
    "BATCH_SIZE = 64\n",
    "PATIENCE = 5\n",
    "MODEL_PATH = \"best_cnn_model.pt\"\n",
    "MAX_LEN = 100\n",
    "EMBEDDING_DIM = 128\n",
    "LR = 1e-3\n",
    "target_columns = y_train.columns.tolist()\n",
    "NUM_CLASSES = len(target_columns)\n",
    "\n",
    "def tokenize(text):\n",
    "    return re.findall(r'\\b\\w+\\b', text.lower())\n",
    "\n",
    "tokenized_train = [tokenize(text)[:MAX_LEN] for text in X_train]\n",
    "tokenized_val = [tokenize(text)[:MAX_LEN] for text in X_val]\n",
    "\n",
    "vocab = {\"<PAD>\": 0, \"<UNK>\": 1}\n",
    "for sentence in tokenized_train:\n",
    "    for token in sentence:\n",
    "        if token not in vocab:\n",
    "            vocab[token] = len(vocab)\n",
    "\n",
    "def encode(tokens):\n",
    "    ids = [vocab.get(token, vocab[\"<UNK>\"]) for token in tokens]\n",
    "    return ids[:MAX_LEN] + [0] * (MAX_LEN - len(ids))\n",
    "\n",
    "X_train_ids = np.array([encode(tokens) for tokens in tokenized_train])\n",
    "X_val_ids = np.array([encode(tokens) for tokens in tokenized_val])\n",
    "\n",
    "class TextDataset(Dataset):\n",
    "    def __init__(self, X, y):\n",
    "        self.X = torch.tensor(X, dtype=torch.long)\n",
    "        self.y = torch.tensor(y.values, dtype=torch.float32)\n",
    "    def __len__(self):\n",
    "        return len(self.X)\n",
    "    def __getitem__(self, idx):\n",
    "        return self.X[idx], self.y[idx]\n",
    "\n",
    "train_dataset = TextDataset(X_train_ids, y_train)\n",
    "val_dataset = TextDataset(X_val_ids, y_val)\n",
    "train_loader = DataLoader(train_dataset, batch_size=BATCH_SIZE, shuffle=True)\n",
    "val_loader = DataLoader(val_dataset, batch_size=BATCH_SIZE)\n",
    "\n",
    "class CNNTextClassifier(nn.Module):\n",
    "    def __init__(self, vocab_size, embed_dim, output_dim, kernel_sizes=[3, 4, 5], num_filters=64, dropout=0.5):\n",
    "        super().__init__()\n",
    "        self.embedding = nn.Embedding(vocab_size, embed_dim, padding_idx=0)\n",
    "        self.embed_dropout = nn.Dropout(0.3)\n",
    "        self.convs = nn.ModuleList([\n",
    "            nn.Sequential(\n",
    "                nn.Conv1d(embed_dim, num_filters, ks),\n",
    "                nn.BatchNorm1d(num_filters),\n",
    "                nn.ReLU(),\n",
    "                nn.AdaptiveMaxPool1d(1)\n",
    "            ) for ks in kernel_sizes\n",
    "        ])\n",
    "        self.dropout = nn.Dropout(dropout)\n",
    "        self.fc = nn.Linear(num_filters * len(kernel_sizes), output_dim)\n",
    "\n",
    "    def forward(self, x):\n",
    "        x = self.embedding(x).transpose(1, 2)\n",
    "        x = self.embed_dropout(x)\n",
    "        x = [conv(x).squeeze(2) for conv in self.convs]\n",
    "        x = torch.cat(x, dim=1)\n",
    "        x = self.dropout(x)\n",
    "        return self.fc(x)\n",
    "\n",
    "model = CNNTextClassifier(vocab_size=len(vocab), embed_dim=EMBEDDING_DIM, output_dim=NUM_CLASSES).to(device)\n",
    "\n",
    "criterion = nn.BCEWithLogitsLoss()\n",
    "optimizer = optim.AdamW(model.parameters(), lr=LR, weight_decay=1e-4)\n",
    "scheduler = optim.lr_scheduler.OneCycleLR(optimizer, max_lr=LR, steps_per_epoch=len(train_loader), epochs=EPOCHS)\n",
    "\n",
    "train_losses, val_losses, val_f1s = [], [], []\n",
    "best_f1 = 0\n",
    "epochs_no_improve = 0\n",
    "\n",
    "for epoch in range(1, EPOCHS + 1):\n",
    "    model.train()\n",
    "    running_loss = 0\n",
    "    for inputs, labels in tqdm(train_loader, desc=f\"Epoch {epoch}/{EPOCHS} - Train\"):\n",
    "        inputs, labels = inputs.to(device), labels.to(device)\n",
    "        optimizer.zero_grad()\n",
    "        outputs = model(inputs)\n",
    "        loss = criterion(outputs, labels)\n",
    "        loss.backward()\n",
    "        torch.nn.utils.clip_grad_norm_(model.parameters(), max_norm=1.0)\n",
    "        optimizer.step()\n",
    "        scheduler.step()\n",
    "        running_loss += loss.item()\n",
    "    train_loss = running_loss / len(train_loader)\n",
    "\n",
    "    model.eval()\n",
    "    val_loss = 0\n",
    "    all_preds, all_labels = [], []\n",
    "    with torch.no_grad():\n",
    "        for inputs, labels in tqdm(val_loader, desc=\"Validating\"):\n",
    "            inputs, labels = inputs.to(device), labels.to(device)\n",
    "            outputs = model(inputs)\n",
    "            loss = criterion(outputs, labels)\n",
    "            val_loss += loss.item()\n",
    "            all_preds.append(torch.sigmoid(outputs).cpu().numpy())\n",
    "            all_labels.append(labels.cpu().numpy())\n",
    "\n",
    "    val_loss /= len(val_loader)\n",
    "    preds = np.vstack(all_preds) > 0.5\n",
    "    targets = np.vstack(all_labels)\n",
    "    val_f1 = f1_score(targets, preds, average='macro')\n",
    "\n",
    "    train_losses.append(train_loss)\n",
    "    val_losses.append(val_loss)\n",
    "    val_f1s.append(val_f1)\n",
    "\n",
    "    print(f\"\\nEpoch {epoch} | Train Loss: {train_loss:.4f} | Val Loss: {val_loss:.4f} | Val F1: {val_f1:.4f}\")\n",
    "\n",
    "    if val_f1 > best_f1:\n",
    "        best_f1 = val_f1\n",
    "        torch.save(model.state_dict(), MODEL_PATH)\n",
    "        print(\"✅ New best model saved.\")\n",
    "        epochs_no_improve = 0\n",
    "    else:\n",
    "        epochs_no_improve += 1\n",
    "        if epochs_no_improve >= PATIENCE:\n",
    "            print(\"🛑 Early stopping.\")\n",
    "            break\n",
    "\n",
    "plt.figure(figsize=(12, 4))\n",
    "plt.subplot(1, 2, 1)\n",
    "plt.plot(train_losses, label='Train Loss')\n",
    "plt.plot(val_losses, label='Val Loss')\n",
    "plt.title('Loss Curve')\n",
    "plt.legend()\n",
    "\n",
    "plt.subplot(1, 2, 2)\n",
    "plt.plot(val_f1s, label='Val F1 (macro)')\n",
    "plt.title('F1 Score Curve')\n",
    "plt.legend()\n",
    "plt.show()\n",
    "\n",
    "model.load_state_dict(torch.load(MODEL_PATH))"
   ]
  },
  {
   "cell_type": "markdown",
   "metadata": {
    "id": "Ch8theHD_ec0"
   },
   "source": [
    "результаты все еще стабильные, f1 стал выше"
   ]
  },
  {
   "cell_type": "code",
   "execution_count": null,
   "metadata": {
    "colab": {
     "base_uri": "https://localhost:8080/"
    },
    "id": "7CJrjijKiyOd",
    "outputId": "28d842ff-3edb-4d63-d656-5c8b050c060c"
   },
   "outputs": [
    {
     "name": "stdout",
     "output_type": "stream",
     "text": [
      "Collecting scikit-multilearn\n",
      "  Downloading scikit_multilearn-0.2.0-py3-none-any.whl.metadata (6.0 kB)\n",
      "Collecting iterative-stratification\n",
      "  Downloading iterative_stratification-0.1.9-py3-none-any.whl.metadata (1.3 kB)\n",
      "Requirement already satisfied: numpy in /usr/local/lib/python3.11/dist-packages (from iterative-stratification) (2.0.2)\n",
      "Requirement already satisfied: scipy in /usr/local/lib/python3.11/dist-packages (from iterative-stratification) (1.15.2)\n",
      "Requirement already satisfied: scikit-learn in /usr/local/lib/python3.11/dist-packages (from iterative-stratification) (1.6.1)\n",
      "Requirement already satisfied: joblib>=1.2.0 in /usr/local/lib/python3.11/dist-packages (from scikit-learn->iterative-stratification) (1.4.2)\n",
      "Requirement already satisfied: threadpoolctl>=3.1.0 in /usr/local/lib/python3.11/dist-packages (from scikit-learn->iterative-stratification) (3.6.0)\n",
      "Downloading scikit_multilearn-0.2.0-py3-none-any.whl (89 kB)\n",
      "\u001b[?25l   \u001b[90m━━━━━━━━━━━━━━━━━━━━━━━━━━━━━━━━━━━━━━━━\u001b[0m \u001b[32m0.0/89.4 kB\u001b[0m \u001b[31m?\u001b[0m eta \u001b[36m-:--:--\u001b[0m\r",
      "\u001b[2K   \u001b[90m━━━━━━━━━━━━━━━━━━━━━━━━━━━━━━━━━━━━━━━━\u001b[0m \u001b[32m89.4/89.4 kB\u001b[0m \u001b[31m3.5 MB/s\u001b[0m eta \u001b[36m0:00:00\u001b[0m\n",
      "\u001b[?25hDownloading iterative_stratification-0.1.9-py3-none-any.whl (8.5 kB)\n",
      "Installing collected packages: scikit-multilearn, iterative-stratification\n",
      "Successfully installed iterative-stratification-0.1.9 scikit-multilearn-0.2.0\n"
     ]
    }
   ],
   "source": [
    "pip install scikit-multilearn iterative-stratification"
   ]
  },
  {
   "cell_type": "markdown",
   "metadata": {
    "id": "_fUki8soXV5l"
   },
   "source": [
    " ### RNN\n"
   ]
  },
  {
   "cell_type": "code",
   "execution_count": null,
   "metadata": {
    "colab": {
     "base_uri": "https://localhost:8080/",
     "height": 1000
    },
    "id": "Q8CKdMGKMzJO",
    "outputId": "b8a5701b-34ae-49a5-fb51-ebdcf43d2cd4"
   },
   "outputs": [
    {
     "name": "stderr",
     "output_type": "stream",
     "text": [
      "Epoch 1/20 - Train: 100%|██████████| 370/370 [00:04<00:00, 88.39it/s] \n",
      "Validating: 100%|██████████| 93/93 [00:00<00:00, 393.44it/s]\n"
     ]
    },
    {
     "name": "stdout",
     "output_type": "stream",
     "text": [
      "\n",
      "Epoch 1 | Train Loss: 0.6077 | Val Loss: 0.4983 | Val F1: 0.5409\n",
      "✅ New best model saved.\n"
     ]
    },
    {
     "name": "stderr",
     "output_type": "stream",
     "text": [
      "Epoch 2/20 - Train: 100%|██████████| 370/370 [00:03<00:00, 118.46it/s]\n",
      "Validating: 100%|██████████| 93/93 [00:00<00:00, 323.49it/s]\n"
     ]
    },
    {
     "name": "stdout",
     "output_type": "stream",
     "text": [
      "\n",
      "Epoch 2 | Train Loss: 0.5046 | Val Loss: 0.4945 | Val F1: 0.5409\n",
      "✅ New best model saved.\n"
     ]
    },
    {
     "name": "stderr",
     "output_type": "stream",
     "text": [
      "Epoch 3/20 - Train: 100%|██████████| 370/370 [00:03<00:00, 120.92it/s]\n",
      "Validating: 100%|██████████| 93/93 [00:00<00:00, 388.69it/s]\n"
     ]
    },
    {
     "name": "stdout",
     "output_type": "stream",
     "text": [
      "\n",
      "Epoch 3 | Train Loss: 0.4684 | Val Loss: 0.3468 | Val F1: 0.6636\n",
      "✅ New best model saved.\n"
     ]
    },
    {
     "name": "stderr",
     "output_type": "stream",
     "text": [
      "Epoch 4/20 - Train: 100%|██████████| 370/370 [00:03<00:00, 121.84it/s]\n",
      "Validating: 100%|██████████| 93/93 [00:00<00:00, 383.39it/s]\n"
     ]
    },
    {
     "name": "stdout",
     "output_type": "stream",
     "text": [
      "\n",
      "Epoch 4 | Train Loss: 0.3372 | Val Loss: 0.3195 | Val F1: 0.6921\n",
      "✅ New best model saved.\n"
     ]
    },
    {
     "name": "stderr",
     "output_type": "stream",
     "text": [
      "Epoch 5/20 - Train: 100%|██████████| 370/370 [00:03<00:00, 122.04it/s]\n",
      "Validating: 100%|██████████| 93/93 [00:00<00:00, 385.28it/s]\n"
     ]
    },
    {
     "name": "stdout",
     "output_type": "stream",
     "text": [
      "\n",
      "Epoch 5 | Train Loss: 0.3234 | Val Loss: 0.3144 | Val F1: 0.6905\n"
     ]
    },
    {
     "name": "stderr",
     "output_type": "stream",
     "text": [
      "Epoch 6/20 - Train: 100%|██████████| 370/370 [00:03<00:00, 117.58it/s]\n",
      "Validating: 100%|██████████| 93/93 [00:00<00:00, 314.38it/s]\n"
     ]
    },
    {
     "name": "stdout",
     "output_type": "stream",
     "text": [
      "\n",
      "Epoch 6 | Train Loss: 0.3173 | Val Loss: 0.3112 | Val F1: 0.6926\n",
      "✅ New best model saved.\n"
     ]
    },
    {
     "name": "stderr",
     "output_type": "stream",
     "text": [
      "Epoch 7/20 - Train: 100%|██████████| 370/370 [00:03<00:00, 121.39it/s]\n",
      "Validating: 100%|██████████| 93/93 [00:00<00:00, 384.60it/s]\n"
     ]
    },
    {
     "name": "stdout",
     "output_type": "stream",
     "text": [
      "\n",
      "Epoch 7 | Train Loss: 0.3108 | Val Loss: 0.3055 | Val F1: 0.6934\n",
      "✅ New best model saved.\n"
     ]
    },
    {
     "name": "stderr",
     "output_type": "stream",
     "text": [
      "Epoch 8/20 - Train: 100%|██████████| 370/370 [00:03<00:00, 121.36it/s]\n",
      "Validating: 100%|██████████| 93/93 [00:00<00:00, 385.20it/s]\n"
     ]
    },
    {
     "name": "stdout",
     "output_type": "stream",
     "text": [
      "\n",
      "Epoch 8 | Train Loss: 0.2983 | Val Loss: 0.2908 | Val F1: 0.7024\n",
      "✅ New best model saved.\n"
     ]
    },
    {
     "name": "stderr",
     "output_type": "stream",
     "text": [
      "Epoch 9/20 - Train: 100%|██████████| 370/370 [00:03<00:00, 121.36it/s]\n",
      "Validating: 100%|██████████| 93/93 [00:00<00:00, 389.36it/s]\n"
     ]
    },
    {
     "name": "stdout",
     "output_type": "stream",
     "text": [
      "\n",
      "Epoch 9 | Train Loss: 0.2794 | Val Loss: 0.2773 | Val F1: 0.7096\n",
      "✅ New best model saved.\n"
     ]
    },
    {
     "name": "stderr",
     "output_type": "stream",
     "text": [
      "Epoch 10/20 - Train: 100%|██████████| 370/370 [00:03<00:00, 115.04it/s]\n",
      "Validating: 100%|██████████| 93/93 [00:00<00:00, 376.59it/s]\n"
     ]
    },
    {
     "name": "stdout",
     "output_type": "stream",
     "text": [
      "\n",
      "Epoch 10 | Train Loss: 0.2671 | Val Loss: 0.2648 | Val F1: 0.7307\n",
      "✅ New best model saved.\n"
     ]
    },
    {
     "name": "stderr",
     "output_type": "stream",
     "text": [
      "Epoch 11/20 - Train: 100%|██████████| 370/370 [00:03<00:00, 120.86it/s]\n",
      "Validating: 100%|██████████| 93/93 [00:00<00:00, 384.37it/s]\n"
     ]
    },
    {
     "name": "stdout",
     "output_type": "stream",
     "text": [
      "\n",
      "Epoch 11 | Train Loss: 0.2529 | Val Loss: 0.2554 | Val F1: 0.7348\n",
      "✅ New best model saved.\n"
     ]
    },
    {
     "name": "stderr",
     "output_type": "stream",
     "text": [
      "Epoch 12/20 - Train: 100%|██████████| 370/370 [00:03<00:00, 120.76it/s]\n",
      "Validating: 100%|██████████| 93/93 [00:00<00:00, 382.98it/s]\n"
     ]
    },
    {
     "name": "stdout",
     "output_type": "stream",
     "text": [
      "\n",
      "Epoch 12 | Train Loss: 0.2417 | Val Loss: 0.2508 | Val F1: 0.7451\n",
      "✅ New best model saved.\n"
     ]
    },
    {
     "name": "stderr",
     "output_type": "stream",
     "text": [
      "Epoch 13/20 - Train: 100%|██████████| 370/370 [00:03<00:00, 119.88it/s]\n",
      "Validating: 100%|██████████| 93/93 [00:00<00:00, 341.62it/s]\n"
     ]
    },
    {
     "name": "stdout",
     "output_type": "stream",
     "text": [
      "\n",
      "Epoch 13 | Train Loss: 0.2338 | Val Loss: 0.2468 | Val F1: 0.7458\n",
      "✅ New best model saved.\n"
     ]
    },
    {
     "name": "stderr",
     "output_type": "stream",
     "text": [
      "Epoch 14/20 - Train: 100%|██████████| 370/370 [00:03<00:00, 116.37it/s]\n",
      "Validating: 100%|██████████| 93/93 [00:00<00:00, 378.75it/s]\n"
     ]
    },
    {
     "name": "stdout",
     "output_type": "stream",
     "text": [
      "\n",
      "Epoch 14 | Train Loss: 0.2269 | Val Loss: 0.2453 | Val F1: 0.7475\n",
      "✅ New best model saved.\n"
     ]
    },
    {
     "name": "stderr",
     "output_type": "stream",
     "text": [
      "Epoch 15/20 - Train: 100%|██████████| 370/370 [00:03<00:00, 120.39it/s]\n",
      "Validating: 100%|██████████| 93/93 [00:00<00:00, 383.56it/s]\n"
     ]
    },
    {
     "name": "stdout",
     "output_type": "stream",
     "text": [
      "\n",
      "Epoch 15 | Train Loss: 0.2208 | Val Loss: 0.2428 | Val F1: 0.7477\n",
      "✅ New best model saved.\n"
     ]
    },
    {
     "name": "stderr",
     "output_type": "stream",
     "text": [
      "Epoch 16/20 - Train: 100%|██████████| 370/370 [00:03<00:00, 120.31it/s]\n",
      "Validating: 100%|██████████| 93/93 [00:00<00:00, 384.83it/s]\n"
     ]
    },
    {
     "name": "stdout",
     "output_type": "stream",
     "text": [
      "\n",
      "Epoch 16 | Train Loss: 0.2161 | Val Loss: 0.2431 | Val F1: 0.7491\n",
      "✅ New best model saved.\n"
     ]
    },
    {
     "name": "stderr",
     "output_type": "stream",
     "text": [
      "Epoch 17/20 - Train: 100%|██████████| 370/370 [00:03<00:00, 118.23it/s]\n",
      "Validating: 100%|██████████| 93/93 [00:00<00:00, 332.48it/s]\n"
     ]
    },
    {
     "name": "stdout",
     "output_type": "stream",
     "text": [
      "\n",
      "Epoch 17 | Train Loss: 0.2129 | Val Loss: 0.2427 | Val F1: 0.7476\n"
     ]
    },
    {
     "name": "stderr",
     "output_type": "stream",
     "text": [
      "Epoch 18/20 - Train: 100%|██████████| 370/370 [00:03<00:00, 116.39it/s]\n",
      "Validating: 100%|██████████| 93/93 [00:00<00:00, 380.07it/s]\n"
     ]
    },
    {
     "name": "stdout",
     "output_type": "stream",
     "text": [
      "\n",
      "Epoch 18 | Train Loss: 0.2100 | Val Loss: 0.2430 | Val F1: 0.7483\n"
     ]
    },
    {
     "name": "stderr",
     "output_type": "stream",
     "text": [
      "Epoch 19/20 - Train: 100%|██████████| 370/370 [00:03<00:00, 119.87it/s]\n",
      "Validating: 100%|██████████| 93/93 [00:00<00:00, 383.54it/s]\n"
     ]
    },
    {
     "name": "stdout",
     "output_type": "stream",
     "text": [
      "\n",
      "Epoch 19 | Train Loss: 0.2089 | Val Loss: 0.2425 | Val F1: 0.7486\n"
     ]
    },
    {
     "name": "stderr",
     "output_type": "stream",
     "text": [
      "Epoch 20/20 - Train: 100%|██████████| 370/370 [00:03<00:00, 119.65it/s]\n",
      "Validating: 100%|██████████| 93/93 [00:00<00:00, 380.65it/s]\n"
     ]
    },
    {
     "name": "stdout",
     "output_type": "stream",
     "text": [
      "\n",
      "Epoch 20 | Train Loss: 0.2087 | Val Loss: 0.2425 | Val F1: 0.7485\n"
     ]
    },
    {
     "data": {
      "image/png": "[encoded data removed]",
      "text/plain": [
       "<Figure size 1200x400 with 2 Axes>"
      ]
     },
     "metadata": {},
     "output_type": "display_data"
    },
    {
     "data": {
      "text/plain": [
       "<All keys matched successfully>"
      ]
     },
     "execution_count": 19,
     "metadata": {},
     "output_type": "execute_result"
    }
   ],
   "source": [
    "import torch\n",
    "import torch.nn as nn\n",
    "import torch.optim as optim\n",
    "from torch.utils.data import Dataset, DataLoader\n",
    "from sklearn.metrics import f1_score\n",
    "import matplotlib.pyplot as plt\n",
    "import numpy as np\n",
    "from tqdm import tqdm\n",
    "import re\n",
    "from collections import Counter\n",
    "\n",
    "device = torch.device(\"cuda\" if torch.cuda.is_available() else \"cpu\")\n",
    "EPOCHS = 20\n",
    "BATCH_SIZE = 64\n",
    "PATIENCE = 5\n",
    "MODEL_PATH = \"best_rnn_model.pt\"\n",
    "MAX_LEN = 200\n",
    "EMBEDDING_DIM = 100\n",
    "HIDDEN_DIM = 128\n",
    "NUM_LAYERS = 1\n",
    "DROPOUT = 0.5\n",
    "LR = 1e-3\n",
    "\n",
    "target_columns = y_train.columns.tolist()\n",
    "NUM_CLASSES = len(target_columns)\n",
    "\n",
    "def clean_text_rnn(text):\n",
    "    text = text.lower()\n",
    "    text = re.sub(r'https?://\\S+|www\\.\\S+', '', text)\n",
    "    text = re.sub(r'\\s+', ' ', text).strip()\n",
    "    return text\n",
    "\n",
    "def tokenize(text):\n",
    "    return re.findall(r'\\b\\w+\\b', text.lower())\n",
    "\n",
    "tokenized_train = [tokenize(text) for text in df.loc[X_train.index, 'text_rnn']]\n",
    "tokenized_val = [tokenize(text) for text in df.loc[X_val.index, 'text_rnn']]\n",
    "\n",
    "all_tokens = [token for sentence in tokenized_train for token in sentence]\n",
    "vocab = {\"<PAD>\": 0, \"<UNK>\": 1}\n",
    "for token, count in Counter(all_tokens).items():\n",
    "    if count >= 2:\n",
    "        vocab[token] = len(vocab)\n",
    "\n",
    "def encode(tokens, vocab, max_len=MAX_LEN):\n",
    "    ids = [vocab.get(token, vocab[\"<UNK>\"]) for token in tokens]\n",
    "    if len(ids) < max_len:\n",
    "        ids += [vocab[\"<PAD>\"]] * (max_len - len(ids))\n",
    "    else:\n",
    "        ids = ids[:max_len]\n",
    "    return ids\n",
    "\n",
    "X_train_encoded = [encode(tokens, vocab) for tokens in tokenized_train]\n",
    "X_val_encoded = [encode(tokens, vocab) for tokens in tokenized_val]\n",
    "\n",
    "class TextDatasetRNN(Dataset):\n",
    "    def __init__(self, X, y):\n",
    "        self.X = torch.tensor(X, dtype=torch.long)\n",
    "        self.y = torch.tensor(y.values, dtype=torch.float32)\n",
    "    def __len__(self):\n",
    "        return len(self.X)\n",
    "    def __getitem__(self, idx):\n",
    "        return self.X[idx], self.y[idx]\n",
    "\n",
    "train_dataset = TextDatasetRNN(X_train_encoded, y_train)\n",
    "val_dataset = TextDatasetRNN(X_val_encoded, y_val)\n",
    "train_loader = DataLoader(train_dataset, batch_size=BATCH_SIZE, shuffle=True)\n",
    "val_loader = DataLoader(val_dataset, batch_size=BATCH_SIZE)\n",
    "\n",
    "class RNNTextClassifierImproved(nn.Module):\n",
    "    def __init__(self, vocab_size, embedding_dim, hidden_dim, output_dim, num_layers=1, dropout=0.5):\n",
    "        super().__init__()\n",
    "        self.embedding = nn.Embedding(vocab_size, embedding_dim, padding_idx=0)\n",
    "        self.rnn = nn.LSTM(embedding_dim, hidden_dim, num_layers=num_layers,\n",
    "                           batch_first=True, dropout=dropout if num_layers > 1 else 0)\n",
    "        self.dropout = nn.Dropout(dropout)\n",
    "        self.fc = nn.Linear(hidden_dim, output_dim)\n",
    "\n",
    "    def forward(self, x):\n",
    "        embedded = self.embedding(x)\n",
    "        output, (hidden, _) = self.rnn(embedded)\n",
    "        out = self.dropout(hidden[-1])\n",
    "        return self.fc(out)\n",
    "\n",
    "model = RNNTextClassifierImproved(vocab_size=len(vocab),\n",
    "                                  embedding_dim=EMBEDDING_DIM,\n",
    "                                  hidden_dim=HIDDEN_DIM,\n",
    "                                  output_dim=NUM_CLASSES,\n",
    "                                  num_layers=NUM_LAYERS,\n",
    "                                  dropout=DROPOUT).to(device)\n",
    "\n",
    "criterion = nn.BCEWithLogitsLoss()\n",
    "optimizer = optim.AdamW(model.parameters(), lr=LR, weight_decay=1e-4)\n",
    "scheduler = optim.lr_scheduler.OneCycleLR(optimizer, max_lr=LR,\n",
    "                                          steps_per_epoch=len(train_loader), epochs=EPOCHS)\n",
    "\n",
    "train_losses, val_losses, val_f1s = [], [], []\n",
    "best_f1 = 0\n",
    "epochs_no_improve = 0\n",
    "\n",
    "for epoch in range(1, EPOCHS + 1):\n",
    "    model.train()\n",
    "    running_loss = 0\n",
    "    for inputs, labels in tqdm(train_loader, desc=f\"Epoch {epoch}/{EPOCHS} - Train\"):\n",
    "        inputs, labels = inputs.to(device), labels.to(device)\n",
    "        optimizer.zero_grad()\n",
    "        outputs = model(inputs)\n",
    "        loss = criterion(outputs, labels)\n",
    "        loss.backward()\n",
    "        torch.nn.utils.clip_grad_norm_(model.parameters(), max_norm=1.0)\n",
    "        optimizer.step()\n",
    "        scheduler.step()\n",
    "        running_loss += loss.item()\n",
    "    train_loss = running_loss / len(train_loader)\n",
    "\n",
    "    model.eval()\n",
    "    val_loss = 0\n",
    "    all_preds, all_labels = [], []\n",
    "    with torch.no_grad():\n",
    "        for inputs, labels in tqdm(val_loader, desc=\"Validating\"):\n",
    "            inputs, labels = inputs.to(device), labels.to(device)\n",
    "            outputs = model(inputs)\n",
    "            loss = criterion(outputs, labels)\n",
    "            val_loss += loss.item()\n",
    "            all_preds.append(torch.sigmoid(outputs).cpu().numpy())\n",
    "            all_labels.append(labels.cpu().numpy())\n",
    "\n",
    "    val_loss /= len(val_loader)\n",
    "    preds = np.vstack(all_preds) > 0.5\n",
    "    targets = np.vstack(all_labels)\n",
    "    val_f1 = f1_score(targets, preds, average='macro')\n",
    "\n",
    "    train_losses.append(train_loss)\n",
    "    val_losses.append(val_loss)\n",
    "    val_f1s.append(val_f1)\n",
    "\n",
    "    print(f\"\\nEpoch {epoch} | Train Loss: {train_loss:.4f} | Val Loss: {val_loss:.4f} | Val F1: {val_f1:.4f}\")\n",
    "\n",
    "    if val_f1 > best_f1:\n",
    "        best_f1 = val_f1\n",
    "        torch.save(model.state_dict(), MODEL_PATH)\n",
    "        print(\"✅ New best model saved.\")\n",
    "        epochs_no_improve = 0\n",
    "    else:\n",
    "        epochs_no_improve += 1\n",
    "        if epochs_no_improve >= PATIENCE:\n",
    "            print(\"🛑 Early stopping.\")\n",
    "            break\n",
    "\n",
    "plt.figure(figsize=(12, 4))\n",
    "plt.subplot(1, 2, 1)\n",
    "plt.plot(train_losses, label='Train Loss')\n",
    "plt.plot(val_losses, label='Val Loss')\n",
    "plt.title('Loss Curve')\n",
    "plt.legend()\n",
    "\n",
    "plt.subplot(1, 2, 2)\n",
    "plt.plot(val_f1s, label='Val F1 (macro)')\n",
    "plt.title('F1 Score Curve')\n",
    "plt.legend()\n",
    "plt.show()\n",
    "\n",
    "model.load_state_dict(torch.load(MODEL_PATH))"
   ]
  },
  {
   "cell_type": "markdown",
   "metadata": {
    "id": "Fh_shPBIXdXp"
   },
   "source": [
    "### BERT"
   ]
  },
  {
   "cell_type": "code",
   "execution_count": null,
   "metadata": {
    "colab": {
     "base_uri": "https://localhost:8080/"
    },
    "id": "svtepPJmacrS",
    "outputId": "5c078e55-b784-41b8-ec78-d49a49f12125"
   },
   "outputs": [
    {
     "name": "stdout",
     "output_type": "stream",
     "text": [
      "\u001b[?25l   \u001b[90m━━━━━━━━━━━━━━━━━━━━━━━━━━━━━━━━━━━━━━━━\u001b[0m \u001b[32m0.0/491.5 kB\u001b[0m \u001b[31m?\u001b[0m eta \u001b[36m-:--:--\u001b[0m\r",
      "\u001b[2K   \u001b[91m━━━━━━━━━━━━━━━━━━━━━━━━━━━━━━━━━━━━━━━\u001b[0m\u001b[91m╸\u001b[0m \u001b[32m491.5/491.5 kB\u001b[0m \u001b[31m16.1 MB/s\u001b[0m eta \u001b[36m0:00:01\u001b[0m\r",
      "\u001b[2K   \u001b[90m━━━━━━━━━━━━━━━━━━━━━━━━━━━━━━━━━━━━━━━━\u001b[0m \u001b[32m491.5/491.5 kB\u001b[0m \u001b[31m12.0 MB/s\u001b[0m eta \u001b[36m0:00:00\u001b[0m\n",
      "\u001b[?25h\u001b[?25l   \u001b[90m━━━━━━━━━━━━━━━━━━━━━━━━━━━━━━━━━━━━━━━━\u001b[0m \u001b[32m0.0/116.3 kB\u001b[0m \u001b[31m?\u001b[0m eta \u001b[36m-:--:--\u001b[0m\r",
      "\u001b[2K   \u001b[90m━━━━━━━━━━━━━━━━━━━━━━━━━━━━━━━━━━━━━━━━\u001b[0m \u001b[32m116.3/116.3 kB\u001b[0m \u001b[31m12.1 MB/s\u001b[0m eta \u001b[36m0:00:00\u001b[0m\n",
      "\u001b[?25h\u001b[?25l   \u001b[90m━━━━━━━━━━━━━━━━━━━━━━━━━━━━━━━━━━━━━━━━\u001b[0m \u001b[32m0.0/193.6 kB\u001b[0m \u001b[31m?\u001b[0m eta \u001b[36m-:--:--\u001b[0m\r",
      "\u001b[2K   \u001b[90m━━━━━━━━━━━━━━━━━━━━━━━━━━━━━━━━━━━━━━━━\u001b[0m \u001b[32m193.6/193.6 kB\u001b[0m \u001b[31m19.1 MB/s\u001b[0m eta \u001b[36m0:00:00\u001b[0m\n",
      "\u001b[?25h\u001b[?25l   \u001b[90m━━━━━━━━━━━━━━━━━━━━━━━━━━━━━━━━━━━━━━━━\u001b[0m \u001b[32m0.0/143.5 kB\u001b[0m \u001b[31m?\u001b[0m eta \u001b[36m-:--:--\u001b[0m\r",
      "\u001b[2K   \u001b[90m━━━━━━━━━━━━━━━━━━━━━━━━━━━━━━━━━━━━━━━━\u001b[0m \u001b[32m143.5/143.5 kB\u001b[0m \u001b[31m13.2 MB/s\u001b[0m eta \u001b[36m0:00:00\u001b[0m\n",
      "\u001b[?25h\u001b[?25l   \u001b[90m━━━━━━━━━━━━━━━━━━━━━━━━━━━━━━━━━━━━━━━━\u001b[0m \u001b[32m0.0/194.8 kB\u001b[0m \u001b[31m?\u001b[0m eta \u001b[36m-:--:--\u001b[0m\r",
      "\u001b[2K   \u001b[90m━━━━━━━━━━━━━━━━━━━━━━━━━━━━━━━━━━━━━━━━\u001b[0m \u001b[32m194.8/194.8 kB\u001b[0m \u001b[31m20.5 MB/s\u001b[0m eta \u001b[36m0:00:00\u001b[0m\n",
      "\u001b[?25h\u001b[31mERROR: pip's dependency resolver does not currently take into account all the packages that are installed. This behaviour is the source of the following dependency conflicts.\n",
      "torch 2.6.0+cu124 requires nvidia-cublas-cu12==12.4.5.8; platform_system == \"Linux\" and platform_machine == \"x86_64\", but you have nvidia-cublas-cu12 12.5.3.2 which is incompatible.\n",
      "torch 2.6.0+cu124 requires nvidia-cuda-cupti-cu12==12.4.127; platform_system == \"Linux\" and platform_machine == \"x86_64\", but you have nvidia-cuda-cupti-cu12 12.5.82 which is incompatible.\n",
      "torch 2.6.0+cu124 requires nvidia-cuda-nvrtc-cu12==12.4.127; platform_system == \"Linux\" and platform_machine == \"x86_64\", but you have nvidia-cuda-nvrtc-cu12 12.5.82 which is incompatible.\n",
      "torch 2.6.0+cu124 requires nvidia-cuda-runtime-cu12==12.4.127; platform_system == \"Linux\" and platform_machine == \"x86_64\", but you have nvidia-cuda-runtime-cu12 12.5.82 which is incompatible.\n",
      "torch 2.6.0+cu124 requires nvidia-cudnn-cu12==9.1.0.70; platform_system == \"Linux\" and platform_machine == \"x86_64\", but you have nvidia-cudnn-cu12 9.3.0.75 which is incompatible.\n",
      "torch 2.6.0+cu124 requires nvidia-cufft-cu12==11.2.1.3; platform_system == \"Linux\" and platform_machine == \"x86_64\", but you have nvidia-cufft-cu12 11.2.3.61 which is incompatible.\n",
      "torch 2.6.0+cu124 requires nvidia-curand-cu12==10.3.5.147; platform_system == \"Linux\" and platform_machine == \"x86_64\", but you have nvidia-curand-cu12 10.3.6.82 which is incompatible.\n",
      "torch 2.6.0+cu124 requires nvidia-cusolver-cu12==11.6.1.9; platform_system == \"Linux\" and platform_machine == \"x86_64\", but you have nvidia-cusolver-cu12 11.6.3.83 which is incompatible.\n",
      "torch 2.6.0+cu124 requires nvidia-cusparse-cu12==12.3.1.170; platform_system == \"Linux\" and platform_machine == \"x86_64\", but you have nvidia-cusparse-cu12 12.5.1.3 which is incompatible.\n",
      "torch 2.6.0+cu124 requires nvidia-nvjitlink-cu12==12.4.127; platform_system == \"Linux\" and platform_machine == \"x86_64\", but you have nvidia-nvjitlink-cu12 12.5.82 which is incompatible.\n",
      "gcsfs 2025.3.2 requires fsspec==2025.3.2, but you have fsspec 2025.3.0 which is incompatible.\u001b[0m\u001b[31m\n",
      "\u001b[0m"
     ]
    }
   ],
   "source": [
    "!pip install -q transformers datasets scikit-learn matplotlib"
   ]
  },
  {
   "cell_type": "markdown",
   "metadata": {
    "id": "bMrE5gfa95TG"
   },
   "source": [
    "Использовала модель DeepPavlov/rubert-base-cased, потому что она хорошо работает с текстами на русском языке"
   ]
  },
  {
   "cell_type": "code",
   "execution_count": null,
   "metadata": {
    "colab": {
     "base_uri": "https://localhost:8080/",
     "height": 1000
    },
    "id": "vPa6xEB3Xgh5",
    "outputId": "d8216833-1123-447f-fa17-6a75e72745c2"
   },
   "outputs": [
    {
     "name": "stderr",
     "output_type": "stream",
     "text": [
      "/usr/local/lib/python3.11/dist-packages/huggingface_hub/utils/_auth.py:94: UserWarning: \n",
      "The secret `HF_TOKEN` does not exist in your Colab secrets.\n",
      "To authenticate with the Hugging Face Hub, create a token in your settings tab (https://huggingface.co/settings/tokens), set it as secret in your Google Colab and restart your session.\n",
      "You will be able to reuse this secret in all of your notebooks.\n",
      "Please note that authentication is recommended but still optional to access public models or datasets.\n",
      "  warnings.warn(\n",
      "Some weights of the model checkpoint at DeepPavlov/rubert-base-cased were not used when initializing BertModel: ['cls.predictions.bias', 'cls.predictions.decoder.bias', 'cls.predictions.decoder.weight', 'cls.predictions.transform.LayerNorm.bias', 'cls.predictions.transform.LayerNorm.weight', 'cls.predictions.transform.dense.bias', 'cls.predictions.transform.dense.weight', 'cls.seq_relationship.bias', 'cls.seq_relationship.weight']\n",
      "- This IS expected if you are initializing BertModel from the checkpoint of a model trained on another task or with another architecture (e.g. initializing a BertForSequenceClassification model from a BertForPreTraining model).\n",
      "- This IS NOT expected if you are initializing BertModel from the checkpoint of a model that you expect to be exactly identical (initializing a BertForSequenceClassification model from a BertForSequenceClassification model).\n",
      "Epoch 1: 100%|██████████| 1479/1479 [09:06<00:00,  2.71it/s]\n"
     ]
    },
    {
     "name": "stdout",
     "output_type": "stream",
     "text": [
      "Epoch 1 | Train Loss: 0.2825 | Val Loss: 0.2153 | Val F1: 0.7680\n",
      "✅ Best model saved to:\n",
      " - best_bert_model.pt\n",
      " - /content/drive/MyDrive/best_bert_model.pt\n"
     ]
    },
    {
     "name": "stderr",
     "output_type": "stream",
     "text": [
      "Epoch 2: 100%|██████████| 1479/1479 [09:08<00:00,  2.70it/s]\n"
     ]
    },
    {
     "name": "stdout",
     "output_type": "stream",
     "text": [
      "Epoch 2 | Train Loss: 0.1890 | Val Loss: 0.1678 | Val F1: 0.7986\n",
      "✅ Best model saved to:\n",
      " - best_bert_model.pt\n",
      " - /content/drive/MyDrive/best_bert_model.pt\n"
     ]
    },
    {
     "name": "stderr",
     "output_type": "stream",
     "text": [
      "Epoch 3: 100%|██████████| 1479/1479 [09:08<00:00,  2.69it/s]\n"
     ]
    },
    {
     "name": "stdout",
     "output_type": "stream",
     "text": [
      "Epoch 3 | Train Loss: 0.1399 | Val Loss: 0.1483 | Val F1: 0.8105\n",
      "✅ Best model saved to:\n",
      " - best_bert_model.pt\n",
      " - /content/drive/MyDrive/best_bert_model.pt\n"
     ]
    },
    {
     "name": "stderr",
     "output_type": "stream",
     "text": [
      "Epoch 4: 100%|██████████| 1479/1479 [09:08<00:00,  2.70it/s]\n"
     ]
    },
    {
     "name": "stdout",
     "output_type": "stream",
     "text": [
      "Epoch 4 | Train Loss: 0.1097 | Val Loss: 0.1434 | Val F1: 0.8227\n",
      "✅ Best model saved to:\n",
      " - best_bert_model.pt\n",
      " - /content/drive/MyDrive/best_bert_model.pt\n"
     ]
    },
    {
     "name": "stderr",
     "output_type": "stream",
     "text": [
      "Epoch 5: 100%|██████████| 1479/1479 [09:08<00:00,  2.69it/s]\n"
     ]
    },
    {
     "name": "stdout",
     "output_type": "stream",
     "text": [
      "Epoch 5 | Train Loss: 0.0901 | Val Loss: 0.1367 | Val F1: 0.8274\n",
      "✅ Best model saved to:\n",
      " - best_bert_model.pt\n",
      " - /content/drive/MyDrive/best_bert_model.pt\n"
     ]
    },
    {
     "name": "stderr",
     "output_type": "stream",
     "text": [
      "Epoch 6: 100%|██████████| 1479/1479 [09:08<00:00,  2.69it/s]\n"
     ]
    },
    {
     "name": "stdout",
     "output_type": "stream",
     "text": [
      "Epoch 6 | Train Loss: 0.0781 | Val Loss: 0.1370 | Val F1: 0.8308\n",
      "✅ Best model saved to:\n",
      " - best_bert_model.pt\n",
      " - /content/drive/MyDrive/best_bert_model.pt\n"
     ]
    },
    {
     "data": {
      "image/png": "[encoded data removed]",
      "text/plain": [
       "<Figure size 1200x400 with 2 Axes>"
      ]
     },
     "metadata": {},
     "output_type": "display_data"
    },
    {
     "data": {
      "text/plain": [
       "<All keys matched successfully>"
      ]
     },
     "execution_count": 18,
     "metadata": {},
     "output_type": "execute_result"
    }
   ],
   "source": [
    "import torch\n",
    "import torch.nn as nn\n",
    "import numpy as np\n",
    "import pandas as pd\n",
    "from torch.utils.data import Dataset, DataLoader\n",
    "from transformers import AutoTokenizer, AutoModel, get_scheduler\n",
    "from sklearn.metrics import f1_score\n",
    "import matplotlib.pyplot as plt\n",
    "from tqdm import tqdm\n",
    "\n",
    "MODEL_NAME = \"DeepPavlov/rubert-base-cased\"\n",
    "MAX_LEN = 128\n",
    "BATCH_SIZE = 16\n",
    "EPOCHS = 6\n",
    "LR = 2e-5\n",
    "PATIENCE = 2\n",
    "MODEL_PATH = \"best_bert_model.pt\"\n",
    "device = torch.device(\"cuda\" if torch.cuda.is_available() else \"cpu\")\n",
    "\n",
    "X_train = list(X_train)\n",
    "X_val = list(X_val)\n",
    "y_train_np = y_train.values.astype(np.float32)\n",
    "y_val_np = y_val.values.astype(np.float32)\n",
    "NUM_CLASSES = y_train.shape[1]\n",
    "\n",
    "tokenizer = AutoTokenizer.from_pretrained(MODEL_NAME)\n",
    "\n",
    "class TextDataset(Dataset):\n",
    "    def __init__(self, texts, labels):\n",
    "        self.encodings = tokenizer(\n",
    "            texts,\n",
    "            truncation=True,\n",
    "            padding='max_length',\n",
    "            max_length=MAX_LEN,\n",
    "            return_tensors='pt'\n",
    "        )\n",
    "        self.labels = torch.tensor(labels, dtype=torch.float32)\n",
    "\n",
    "    def __len__(self):\n",
    "        return len(self.labels)\n",
    "\n",
    "    def __getitem__(self, idx):\n",
    "        item = {key: val[idx] for key, val in self.encodings.items()}\n",
    "        item['labels'] = self.labels[idx]\n",
    "        return item\n",
    "\n",
    "train_dataset = TextDataset(X_train, y_train_np)\n",
    "val_dataset = TextDataset(X_val, y_val_np)\n",
    "\n",
    "train_loader = DataLoader(train_dataset, batch_size=BATCH_SIZE, shuffle=True)\n",
    "val_loader = DataLoader(val_dataset, batch_size=BATCH_SIZE)\n",
    "\n",
    "class BERTClassifier(nn.Module):\n",
    "    def __init__(self, model_name, num_labels):\n",
    "        super().__init__()\n",
    "        self.bert = AutoModel.from_pretrained(model_name)\n",
    "        self.dropout = nn.Dropout(0.3)\n",
    "        self.classifier = nn.Linear(self.bert.config.hidden_size, num_labels)\n",
    "\n",
    "    def forward(self, input_ids, attention_mask):\n",
    "        outputs = self.bert(input_ids=input_ids, attention_mask=attention_mask)\n",
    "        pooled_output = outputs.pooler_output\n",
    "        x = self.dropout(pooled_output)\n",
    "        return self.classifier(x)\n",
    "\n",
    "model = BERTClassifier(MODEL_NAME, NUM_CLASSES).to(device)\n",
    "\n",
    "criterion = nn.BCEWithLogitsLoss()\n",
    "optimizer = torch.optim.AdamW(model.parameters(), lr=LR)\n",
    "lr_scheduler = get_scheduler(\n",
    "    \"linear\", optimizer=optimizer,\n",
    "    num_warmup_steps=0,\n",
    "    num_training_steps=EPOCHS * len(train_loader)\n",
    ")\n",
    "\n",
    "train_losses, val_losses, val_f1s = [], [], []\n",
    "best_f1 = 0\n",
    "epochs_no_improve = 0\n",
    "\n",
    "for epoch in range(EPOCHS):\n",
    "    model.train()\n",
    "    running_loss = 0\n",
    "    for batch in tqdm(train_loader, desc=f\"Epoch {epoch + 1}\"):\n",
    "        input_ids = batch[\"input_ids\"].to(device)\n",
    "        attention_mask = batch[\"attention_mask\"].to(device)\n",
    "        labels = batch[\"labels\"].to(device)\n",
    "\n",
    "        optimizer.zero_grad()\n",
    "        outputs = model(input_ids=input_ids, attention_mask=attention_mask)\n",
    "        loss = criterion(outputs, labels)\n",
    "        loss.backward()\n",
    "        optimizer.step()\n",
    "        lr_scheduler.step()\n",
    "        running_loss += loss.item()\n",
    "\n",
    "    train_loss = running_loss / len(train_loader)\n",
    "    train_losses.append(train_loss)\n",
    "\n",
    "    model.eval()\n",
    "    val_loss = 0\n",
    "    all_preds, all_labels = [], []\n",
    "    with torch.no_grad():\n",
    "        for batch in val_loader:\n",
    "            input_ids = batch[\"input_ids\"].to(device)\n",
    "            attention_mask = batch[\"attention_mask\"].to(device)\n",
    "            labels = batch[\"labels\"].to(device)\n",
    "\n",
    "            outputs = model(input_ids=input_ids, attention_mask=attention_mask)\n",
    "            loss = criterion(outputs, labels)\n",
    "            val_loss += loss.item()\n",
    "            all_preds.append(torch.sigmoid(outputs).cpu().numpy())\n",
    "            all_labels.append(labels.cpu().numpy())\n",
    "\n",
    "    val_loss /= len(val_loader)\n",
    "    val_losses.append(val_loss)\n",
    "    preds = np.vstack(all_preds) > 0.5\n",
    "    targets = np.vstack(all_labels)\n",
    "    val_f1 = f1_score(targets, preds, average='macro')\n",
    "    val_f1s.append(val_f1)\n",
    "\n",
    "    print(f\"Epoch {epoch+1} | Train Loss: {train_loss:.4f} | Val Loss: {val_loss:.4f} | Val F1: {val_f1:.4f}\")\n",
    "\n",
    "    if val_f1 > best_f1:\n",
    "      best_f1 = val_f1\n",
    "      torch.save(model.state_dict(), MODEL_PATH)\n",
    "      drive_path = \"/content/drive/MyDrive/best_bert_model.pt\"\n",
    "      torch.save(model.state_dict(), drive_path)\n",
    "      print(f\"✅ Best model saved to:\\n - {MODEL_PATH}\\n - {drive_path}\")\n",
    "      epochs_no_improve = 0\n",
    "    else:\n",
    "        epochs_no_improve += 1\n",
    "        if epochs_no_improve >= PATIENCE:\n",
    "            print(\"🛑 Early stopping.\")\n",
    "            break\n",
    "\n",
    "plt.figure(figsize=(12, 4))\n",
    "plt.subplot(1, 2, 1)\n",
    "plt.plot(train_losses, label=\"Train Loss\")\n",
    "plt.plot(val_losses, label=\"Val Loss\")\n",
    "plt.legend()\n",
    "plt.title(\"Loss Curve\")\n",
    "\n",
    "plt.subplot(1, 2, 2)\n",
    "plt.plot(val_f1s, label=\"Val F1\")\n",
    "plt.legend()\n",
    "plt.title(\"F1 Score Curve\")\n",
    "plt.show()\n",
    "\n",
    "model.load_state_dict(torch.load(MODEL_PATH))"
   ]
  },
  {
   "cell_type": "markdown",
   "metadata": {
    "id": "nTmyjpmVBcNo"
   },
   "source": [
    "Я попробовала позапускать разные вариации этой модели, эта показала самые стабильные и высокие результаты, поэтому остановилась на ней. на кагле она показала результат 82%"
   ]
  },
  {
   "cell_type": "code",
   "execution_count": null,
   "metadata": {
    "colab": {
     "base_uri": "https://localhost:8080/"
    },
    "id": "0RNNmUWolO8V",
    "outputId": "8e801304-e491-4d01-9400-a2913e982fd3"
   },
   "outputs": [
    {
     "name": "stderr",
     "output_type": "stream",
     "text": [
      "Predicting: 100%|██████████| 462/462 [00:53<00:00,  8.62it/s]"
     ]
    },
    {
     "name": "stdout",
     "output_type": "stream",
     "text": [
      "✅ submission.csv сохранён корректно и готов к отправке.\n"
     ]
    },
    {
     "name": "stderr",
     "output_type": "stream",
     "text": [
      "\n"
     ]
    }
   ],
   "source": [
    "test_df = pd.read_csv(\"/content/data/test.csv\")\n",
    "submission_df = pd.read_csv(\"/content/data/sample_submission.csv\")\n",
    "\n",
    "test_df[\"id\"] = test_df[\"id\"].astype(int)\n",
    "submission_df[\"id\"] = submission_df[\"id\"].astype(int)\n",
    "\n",
    "model.eval()\n",
    "test_texts = test_df[\"text\"].tolist()\n",
    "\n",
    "test_dataset = TextDataset(test_texts, np.zeros((len(test_texts), NUM_CLASSES)))  # пустые метки\n",
    "test_loader = DataLoader(test_dataset, batch_size=BATCH_SIZE)\n",
    "\n",
    "all_preds = []\n",
    "with torch.no_grad():\n",
    "    for batch in tqdm(test_loader, desc=\"Predicting\"):\n",
    "        input_ids = batch[\"input_ids\"].to(device)\n",
    "        attention_mask = batch[\"attention_mask\"].to(device)\n",
    "\n",
    "        logits = model(input_ids=input_ids, attention_mask=attention_mask)\n",
    "        probs = torch.sigmoid(logits).cpu().numpy()\n",
    "        preds = (probs > 0.4).astype(int)\n",
    "        all_preds.extend(preds)\n",
    "\n",
    "pred_labels = [\" \".join(map(str, row)) for row in all_preds]\n",
    "\n",
    "final_df = pd.DataFrame({\n",
    "    \"id\": test_df[\"id\"],\n",
    "    \"labels\": pred_labels\n",
    "})\n",
    "\n",
    "submission = submission_df.drop(columns=[\"labels\"]).merge(final_df, on=\"id\", how=\"left\")\n",
    "\n",
    "submission.to_csv(\"submission.csv\", index=False)\n",
    "print(\"✅ submission.csv сохранён корректно и готов к отправке.\")"
   ]
  },
  {
   "cell_type": "markdown",
   "metadata": {
    "id": "fR6eNGVlClzG"
   },
   "source": [
    "Затем для этой модели я написала подбор трешхолдов, потому что это может улучшить результат"
   ]
  },
  {
   "cell_type": "code",
   "execution_count": null,
   "metadata": {
    "colab": {
     "base_uri": "https://localhost:8080/",
     "height": 1000
    },
    "id": "68iujF5seTLr",
    "outputId": "7d60af15-50ae-4810-ec0e-4a3561ff40e5"
   },
   "outputs": [
    {
     "metadata": {
      "tags": null
     },
     "name": "stderr",
     "output_type": "stream",
     "text": [
      "Some weights of the model checkpoint at DeepPavlov/rubert-base-cased were not used when initializing BertModel: ['cls.predictions.bias', 'cls.predictions.decoder.bias', 'cls.predictions.decoder.weight', 'cls.predictions.transform.LayerNorm.bias', 'cls.predictions.transform.LayerNorm.weight', 'cls.predictions.transform.dense.bias', 'cls.predictions.transform.dense.weight', 'cls.seq_relationship.bias', 'cls.seq_relationship.weight']\n",
      "- This IS expected if you are initializing BertModel from the checkpoint of a model trained on another task or with another architecture (e.g. initializing a BertForSequenceClassification model from a BertForPreTraining model).\n",
      "- This IS NOT expected if you are initializing BertModel from the checkpoint of a model that you expect to be exactly identical (initializing a BertForSequenceClassification model from a BertForSequenceClassification model).\n",
      "Epoch 1: 100%|██████████| 1479/1479 [09:08<00:00,  2.70it/s]\n"
     ]
    },
    {
     "metadata": {
      "tags": null
     },
     "name": "stdout",
     "output_type": "stream",
     "text": [
      "Epoch 1 | Train Loss: 0.2780 | Val Loss: 0.2237 | Val F1: 0.7662\n",
      "✅ Best model saved to:\n",
      " - best_bert_model_tr.pt\n",
      " - /content/drive/MyDrive/best_bert_model.pt\n"
     ]
    },
    {
     "metadata": {
      "tags": null
     },
     "name": "stderr",
     "output_type": "stream",
     "text": [
      "Epoch 2: 100%|██████████| 1479/1479 [09:09<00:00,  2.69it/s]\n"
     ]
    },
    {
     "metadata": {
      "tags": null
     },
     "name": "stdout",
     "output_type": "stream",
     "text": [
      "Epoch 2 | Train Loss: 0.1883 | Val Loss: 0.1709 | Val F1: 0.7955\n",
      "✅ Best model saved to:\n",
      " - best_bert_model_tr.pt\n",
      " - /content/drive/MyDrive/best_bert_model.pt\n"
     ]
    },
    {
     "metadata": {
      "tags": null
     },
     "name": "stderr",
     "output_type": "stream",
     "text": [
      "Epoch 3: 100%|██████████| 1479/1479 [09:09<00:00,  2.69it/s]\n"
     ]
    },
    {
     "metadata": {
      "tags": null
     },
     "name": "stdout",
     "output_type": "stream",
     "text": [
      "Epoch 3 | Train Loss: 0.1385 | Val Loss: 0.1492 | Val F1: 0.8191\n",
      "✅ Best model saved to:\n",
      " - best_bert_model_tr.pt\n",
      " - /content/drive/MyDrive/best_bert_model.pt\n"
     ]
    },
    {
     "metadata": {
      "tags": null
     },
     "name": "stderr",
     "output_type": "stream",
     "text": [
      "Epoch 4: 100%|██████████| 1479/1479 [09:09<00:00,  2.69it/s]\n"
     ]
    },
    {
     "metadata": {
      "tags": null
     },
     "name": "stdout",
     "output_type": "stream",
     "text": [
      "Epoch 4 | Train Loss: 0.1075 | Val Loss: 0.1395 | Val F1: 0.8341\n",
      "✅ Best model saved to:\n",
      " - best_bert_model_tr.pt\n",
      " - /content/drive/MyDrive/best_bert_model.pt\n"
     ]
    },
    {
     "metadata": {
      "tags": null
     },
     "name": "stderr",
     "output_type": "stream",
     "text": [
      "Epoch 5: 100%|██████████| 1479/1479 [09:09<00:00,  2.69it/s]\n"
     ]
    },
    {
     "metadata": {
      "tags": null
     },
     "name": "stdout",
     "output_type": "stream",
     "text": [
      "Epoch 5 | Train Loss: 0.0859 | Val Loss: 0.1357 | Val F1: 0.8299\n",
      "✅ Best model saved to:\n",
      " - best_bert_model_tr.pt\n",
      " - /content/drive/MyDrive/best_bert_model.pt\n"
     ]
    },
    {
     "metadata": {
      "tags": null
     },
     "name": "stderr",
     "output_type": "stream",
     "text": [
      "Epoch 6: 100%|██████████| 1479/1479 [09:09<00:00,  2.69it/s]\n"
     ]
    },
    {
     "metadata": {
      "tags": null
     },
     "name": "stdout",
     "output_type": "stream",
     "text": [
      "Epoch 6 | Train Loss: 0.0710 | Val Loss: 0.1362 | Val F1: 0.8352\n",
      "✅ Best model saved to:\n",
      " - best_bert_model_tr.pt\n",
      " - /content/drive/MyDrive/best_bert_model.pt\n"
     ]
    },
    {
     "name": "stderr",
     "output_type": "stream",
     "text": [
      "Epoch 7: 100%|██████████| 1479/1479 [09:09<00:00,  2.69it/s]\n"
     ]
    },
    {
     "name": "stdout",
     "output_type": "stream",
     "text": [
      "Epoch 7 | Train Loss: 0.0618 | Val Loss: 0.1361 | Val F1: 0.8358\n"
     ]
    },
    {
     "data": {
      "image/png": "[encoded data removed]",
      "text/plain": [
       "<Figure size 1200x400 with 2 Axes>"
      ]
     },
     "metadata": {},
     "output_type": "display_data"
    },
    {
     "ename": "UnpicklingError",
     "evalue": "Weights only load failed. This file can still be loaded, to do so you have two options, \u001b[1mdo those steps only if you trust the source of the checkpoint\u001b[0m. \n\t(1) In PyTorch 2.6, we changed the default value of the `weights_only` argument in `torch.load` from `False` to `True`. Re-running `torch.load` with `weights_only` set to `False` will likely succeed, but it can result in arbitrary code execution. Do it only if you got the file from a trusted source.\n\t(2) Alternatively, to load with `weights_only=True` please check the recommended steps in the following error message.\n\tWeightsUnpickler error: Unsupported global: GLOBAL numpy._core.multiarray.scalar was not an allowed global by default. Please use `torch.serialization.add_safe_globals([scalar])` or the `torch.serialization.safe_globals([scalar])` context manager to allowlist this global if you trust this class/function.\n\nCheck the documentation of torch.load to learn more about types accepted by default with weights_only https://pytorch.org/docs/stable/generated/torch.load.html.",
     "output_type": "error",
     "traceback": [
      "\u001b[0;31m---------------------------------------------------------------------------\u001b[0m",
      "\u001b[0;31mUnpicklingError\u001b[0m                           Traceback (most recent call last)",
      "\u001b[0;32m<ipython-input-20-72b36c2f417f>\u001b[0m in \u001b[0;36m<cell line: 0>\u001b[0;34m()\u001b[0m\n\u001b[1;32m    182\u001b[0m \u001b[0;34m\u001b[0m\u001b[0m\n\u001b[1;32m    183\u001b[0m \u001b[0;31m# Загрузка лучшей модели\u001b[0m\u001b[0;34m\u001b[0m\u001b[0;34m\u001b[0m\u001b[0m\n\u001b[0;32m--> 184\u001b[0;31m \u001b[0mmodel\u001b[0m\u001b[0;34m.\u001b[0m\u001b[0mload_state_dict\u001b[0m\u001b[0;34m(\u001b[0m\u001b[0mtorch\u001b[0m\u001b[0;34m.\u001b[0m\u001b[0mload\u001b[0m\u001b[0;34m(\u001b[0m\u001b[0mMODEL_PATH\u001b[0m\u001b[0;34m)\u001b[0m\u001b[0;34m)\u001b[0m\u001b[0;34m\u001b[0m\u001b[0;34m\u001b[0m\u001b[0m\n\u001b[0m",
      "\u001b[0;32m/usr/local/lib/python3.11/dist-packages/torch/serialization.py\u001b[0m in \u001b[0;36mload\u001b[0;34m(f, map_location, pickle_module, weights_only, mmap, **pickle_load_args)\u001b[0m\n\u001b[1;32m   1468\u001b[0m                         )\n\u001b[1;32m   1469\u001b[0m                     \u001b[0;32mexcept\u001b[0m \u001b[0mpickle\u001b[0m\u001b[0;34m.\u001b[0m\u001b[0mUnpicklingError\u001b[0m \u001b[0;32mas\u001b[0m \u001b[0me\u001b[0m\u001b[0;34m:\u001b[0m\u001b[0;34m\u001b[0m\u001b[0;34m\u001b[0m\u001b[0m\n\u001b[0;32m-> 1470\u001b[0;31m                         \u001b[0;32mraise\u001b[0m \u001b[0mpickle\u001b[0m\u001b[0;34m.\u001b[0m\u001b[0mUnpicklingError\u001b[0m\u001b[0;34m(\u001b[0m\u001b[0m_get_wo_message\u001b[0m\u001b[0;34m(\u001b[0m\u001b[0mstr\u001b[0m\u001b[0;34m(\u001b[0m\u001b[0me\u001b[0m\u001b[0;34m)\u001b[0m\u001b[0;34m)\u001b[0m\u001b[0;34m)\u001b[0m \u001b[0;32mfrom\u001b[0m \u001b[0;32mNone\u001b[0m\u001b[0;34m\u001b[0m\u001b[0;34m\u001b[0m\u001b[0m\n\u001b[0m\u001b[1;32m   1471\u001b[0m                 return _load(\n\u001b[1;32m   1472\u001b[0m                     \u001b[0mopened_zipfile\u001b[0m\u001b[0;34m,\u001b[0m\u001b[0;34m\u001b[0m\u001b[0;34m\u001b[0m\u001b[0m\n",
      "\u001b[0;31mUnpicklingError\u001b[0m: Weights only load failed. This file can still be loaded, to do so you have two options, \u001b[1mdo those steps only if you trust the source of the checkpoint\u001b[0m. \n\t(1) In PyTorch 2.6, we changed the default value of the `weights_only` argument in `torch.load` from `False` to `True`. Re-running `torch.load` with `weights_only` set to `False` will likely succeed, but it can result in arbitrary code execution. Do it only if you got the file from a trusted source.\n\t(2) Alternatively, to load with `weights_only=True` please check the recommended steps in the following error message.\n\tWeightsUnpickler error: Unsupported global: GLOBAL numpy._core.multiarray.scalar was not an allowed global by default. Please use `torch.serialization.add_safe_globals([scalar])` or the `torch.serialization.safe_globals([scalar])` context manager to allowlist this global if you trust this class/function.\n\nCheck the documentation of torch.load to learn more about types accepted by default with weights_only https://pytorch.org/docs/stable/generated/torch.load.html."
     ]
    }
   ],
   "source": [
    "import torch\n",
    "import torch.nn as nn\n",
    "import numpy as np\n",
    "import pandas as pd\n",
    "from torch.utils.data import Dataset, DataLoader\n",
    "from transformers import AutoTokenizer, AutoModel, get_scheduler\n",
    "from sklearn.metrics import f1_score\n",
    "import matplotlib.pyplot as plt\n",
    "from tqdm import tqdm\n",
    "\n",
    "MODEL_NAME = \"DeepPavlov/rubert-base-cased\"\n",
    "MAX_LEN = 128\n",
    "BATCH_SIZE = 16\n",
    "EPOCHS = 7\n",
    "LR = 2e-5\n",
    "PATIENCE = 2\n",
    "MODEL_PATH = \"best_bert_model_tr.pt\"\n",
    "device = torch.device(\"cuda\" if torch.cuda.is_available() else \"cpu\")\n",
    "\n",
    "X_train = list(X_train)\n",
    "X_val = list(X_val)\n",
    "y_train_np = y_train.values.astype(np.float32)\n",
    "y_val_np = y_val.values.astype(np.float32)\n",
    "NUM_CLASSES = y_train.shape[1]\n",
    "\n",
    "tokenizer = AutoTokenizer.from_pretrained(MODEL_NAME)\n",
    "\n",
    "class TextDataset(Dataset):\n",
    "    def __init__(self, texts, labels):\n",
    "        self.encodings = tokenizer(\n",
    "            texts,\n",
    "            truncation=True,\n",
    "            padding='max_length',\n",
    "            max_length=MAX_LEN,\n",
    "            return_tensors='pt'\n",
    "        )\n",
    "        self.labels = torch.tensor(labels, dtype=torch.float32)\n",
    "\n",
    "    def __len__(self):\n",
    "        return len(self.labels)\n",
    "\n",
    "    def __getitem__(self, idx):\n",
    "        item = {key: val[idx] for key, val in self.encodings.items()}\n",
    "        item['labels'] = self.labels[idx]\n",
    "        return item\n",
    "\n",
    "train_dataset = TextDataset(X_train, y_train_np)\n",
    "val_dataset = TextDataset(X_val, y_val_np)\n",
    "\n",
    "train_loader = DataLoader(train_dataset, batch_size=BATCH_SIZE, shuffle=True)\n",
    "val_loader = DataLoader(val_dataset, batch_size=BATCH_SIZE)\n",
    "\n",
    "class BERTClassifier(nn.Module):\n",
    "    def __init__(self, model_name, num_labels):\n",
    "        super().__init__()\n",
    "        self.bert = AutoModel.from_pretrained(model_name)\n",
    "        self.dropout = nn.Dropout(0.3)\n",
    "        self.classifier = nn.Linear(self.bert.config.hidden_size, num_labels)\n",
    "\n",
    "    def forward(self, input_ids, attention_mask):\n",
    "        outputs = self.bert(input_ids=input_ids, attention_mask=attention_mask)\n",
    "        pooled_output = outputs.pooler_output\n",
    "        x = self.dropout(pooled_output)\n",
    "        return self.classifier(x)\n",
    "\n",
    "model = BERTClassifier(MODEL_NAME, NUM_CLASSES).to(device)\n",
    "\n",
    "criterion = nn.BCEWithLogitsLoss()\n",
    "optimizer = torch.optim.AdamW(model.parameters(), lr=LR)\n",
    "lr_scheduler = get_scheduler(\n",
    "    \"linear\", optimizer=optimizer,\n",
    "    num_warmup_steps=0,\n",
    "    num_training_steps=EPOCHS * len(train_loader)\n",
    ")\n",
    "\n",
    "train_losses, val_losses, val_f1s = [], [], []\n",
    "best_f1 = 0\n",
    "epochs_no_improve = 0\n",
    "\n",
    "for epoch in range(EPOCHS):\n",
    "    model.train()\n",
    "    running_loss = 0\n",
    "    for batch in tqdm(train_loader, desc=f\"Epoch {epoch + 1}\"):\n",
    "        input_ids = batch[\"input_ids\"].to(device)\n",
    "        attention_mask = batch[\"attention_mask\"].to(device)\n",
    "        labels = batch[\"labels\"].to(device)\n",
    "\n",
    "        optimizer.zero_grad()\n",
    "        outputs = model(input_ids=input_ids, attention_mask=attention_mask)\n",
    "        loss = criterion(outputs, labels)\n",
    "        loss.backward()\n",
    "        optimizer.step()\n",
    "        lr_scheduler.step()\n",
    "        running_loss += loss.item()\n",
    "\n",
    "    train_loss = running_loss / len(train_loader)\n",
    "    train_losses.append(train_loss)\n",
    "\n",
    "    model.eval()\n",
    "    val_loss = 0\n",
    "    all_preds, all_labels = [], []\n",
    "    with torch.no_grad():\n",
    "        for batch in val_loader:\n",
    "            input_ids = batch[\"input_ids\"].to(device)\n",
    "            attention_mask = batch[\"attention_mask\"].to(device)\n",
    "            labels = batch[\"labels\"].to(device)\n",
    "\n",
    "            outputs = model(input_ids=input_ids, attention_mask=attention_mask)\n",
    "            loss = criterion(outputs, labels)\n",
    "            val_loss += loss.item()\n",
    "            all_preds.append(torch.sigmoid(outputs).cpu().numpy())\n",
    "            all_labels.append(labels.cpu().numpy())\n",
    "\n",
    "    val_loss /= len(val_loader)\n",
    "    val_losses.append(val_loss)\n",
    "    preds = np.vstack(all_preds) > 0.5\n",
    "    targets = np.vstack(all_labels)\n",
    "    val_f1 = f1_score(targets, preds, average='macro')\n",
    "    val_f1s.append(val_f1)\n",
    "\n",
    "    print(f\"Epoch {epoch+1} | Train Loss: {train_loss:.4f} | Val Loss: {val_loss:.4f} | Val F1: {val_f1:.4f}\")\n",
    "    best_thresholds = []\n",
    "    for class_idx in range(NUM_CLASSES):\n",
    "        best_thresh = 0.5\n",
    "        best_class_f1 = 0\n",
    "        for t in np.linspace(0.1, 0.9, 17):\n",
    "            pred_class = (np.vstack(all_preds)[:, class_idx] > t).astype(int)\n",
    "            true_class = np.vstack(all_labels)[:, class_idx]\n",
    "            score = f1_score(true_class, pred_class, zero_division=0)\n",
    "            if score > best_class_f1:\n",
    "                best_class_f1 = score\n",
    "                best_thresh = t\n",
    "        best_thresholds.append(best_thresh)\n",
    "\n",
    "    adjusted_preds = (np.vstack(all_preds) > best_thresholds).astype(int)\n",
    "    val_f1 = f1_score(np.vstack(all_labels), adjusted_preds, average='macro')\n",
    "    if val_f1 > best_f1:\n",
    "      best_f1 = val_f1\n",
    "      torch.save({\n",
    "        'model_state_dict': model.state_dict(),\n",
    "        'best_thresholds': best_thresholds\n",
    "      }, MODEL_PATH)\n",
    "      drive_path = \"/content/drive/MyDrive/best_bert_model_tr.pt\"\n",
    "      torch.save(model.state_dict(), drive_path)\n",
    "      print(f\"✅ Best model saved to:\\n - {MODEL_PATH}\\n - {drive_path}\")\n",
    "      epochs_no_improve = 0\n",
    "    else:\n",
    "        epochs_no_improve += 1\n",
    "        if epochs_no_improve >= PATIENCE:\n",
    "            print(\"🛑 Early stopping.\")\n",
    "            break\n",
    "\n",
    "plt.figure(figsize=(12, 4))\n",
    "plt.subplot(1, 2, 1)\n",
    "plt.plot(train_losses, label=\"Train Loss\")\n",
    "plt.plot(val_losses, label=\"Val Loss\")\n",
    "plt.legend()\n",
    "plt.title(\"Loss Curve\")\n",
    "\n",
    "plt.subplot(1, 2, 2)\n",
    "plt.plot(val_f1s, label=\"Val F1\")\n",
    "plt.legend()\n",
    "plt.title(\"F1 Score Curve\")\n",
    "plt.show()\n",
    "\n",
    "model.load_state_dict(torch.load(MODEL_PATH))"
   ]
  },
  {
   "cell_type": "code",
   "execution_count": null,
   "metadata": {
    "colab": {
     "base_uri": "https://localhost:8080/"
    },
    "id": "hlJr91cc0oO0",
    "outputId": "fa63ea7c-81da-47cf-fba4-a1e4d03c29de"
   },
   "outputs": [
    {
     "data": {
      "text/plain": [
       "[np.float64(0.25),\n",
       " np.float64(0.45000000000000007),\n",
       " np.float64(0.30000000000000004),\n",
       " np.float64(0.30000000000000004),\n",
       " np.float64(0.4),\n",
       " np.float64(0.15000000000000002),\n",
       " np.float64(0.15000000000000002),\n",
       " np.float64(0.4),\n",
       " np.float64(0.35),\n",
       " np.float64(0.6),\n",
       " np.float64(0.5),\n",
       " np.float64(0.5),\n",
       " np.float64(0.5),\n",
       " np.float64(0.55),\n",
       " np.float64(0.5),\n",
       " np.float64(0.35),\n",
       " np.float64(0.4),\n",
       " np.float64(0.45000000000000007),\n",
       " np.float64(0.65),\n",
       " np.float64(0.5)]"
      ]
     },
     "execution_count": 22,
     "metadata": {},
     "output_type": "execute_result"
    }
   ],
   "source": [
    "best_thresholds # посмотрим на реультаты"
   ]
  },
  {
   "cell_type": "code",
   "execution_count": null,
   "metadata": {
    "colab": {
     "base_uri": "https://localhost:8080/"
    },
    "id": "gsj5RSIveTJu",
    "outputId": "0acb55af-7a53-4788-d0bd-b8c7f6b7c3fe"
   },
   "outputs": [
    {
     "name": "stderr",
     "output_type": "stream",
     "text": [
      "Predicting: 100%|██████████| 462/462 [00:54<00:00,  8.48it/s]\n"
     ]
    },
    {
     "name": "stdout",
     "output_type": "stream",
     "text": [
      "✅ submission.csv сохранён корректно и готов к отправке.\n"
     ]
    }
   ],
   "source": [
    "test_df = pd.read_csv(\"/content/data/test.csv\")\n",
    "submission_df = pd.read_csv(\"/content/data/sample_submission.csv\")\n",
    "\n",
    "test_df[\"id\"] = test_df[\"id\"].astype(int)\n",
    "submission_df[\"id\"] = submission_df[\"id\"].astype(int)\n",
    "\n",
    "\n",
    "model.eval()\n",
    "test_texts = test_df[\"text\"].tolist()\n",
    "\n",
    "test_dataset = TextDataset(test_texts, np.zeros((len(test_texts), NUM_CLASSES)))  # пустые метки\n",
    "test_loader = DataLoader(test_dataset, batch_size=BATCH_SIZE)\n",
    "\n",
    "all_preds = []\n",
    "with torch.no_grad():\n",
    "    for batch in tqdm(test_loader, desc=\"Predicting\"):\n",
    "        input_ids = batch[\"input_ids\"].to(device)\n",
    "        attention_mask = batch[\"attention_mask\"].to(device)\n",
    "\n",
    "        logits = model(input_ids=input_ids, attention_mask=attention_mask)\n",
    "        probs = torch.sigmoid(logits).cpu().numpy()\n",
    "\n",
    "        preds = (probs > best_thresholds).astype(int)\n",
    "\n",
    "        all_preds.extend(preds)\n",
    "\n",
    "pred_labels = [\" \".join(map(str, row)) for row in all_preds]\n",
    "\n",
    "final_df = pd.DataFrame({\n",
    "    \"id\": test_df[\"id\"],\n",
    "    \"labels\": pred_labels\n",
    "})\n",
    "\n",
    "submission = submission_df.drop(columns=[\"labels\"]).merge(final_df, on=\"id\", how=\"left\")\n",
    "\n",
    "submission.to_csv(\"submission.csv\", index=False)\n",
    "print(\"✅ submission.csv сохранён корректно и готов к отправке.\")"
   ]
  },
  {
   "cell_type": "markdown",
   "metadata": {
    "id": "F4wgOFwpYJlE"
   },
   "source": [
    "# Блок 4. Генерация текстов"
   ]
  },
  {
   "cell_type": "code",
   "execution_count": null,
   "metadata": {
    "id": "NK4U_jNraNz2"
   },
   "outputs": [],
   "source": [
    "import random\n",
    "from collections import Counter\n",
    "\n",
    "y_counts = y_train.astype(int).sum(axis=0).to_dict()\n",
    "total = sum(y_counts.values())\n",
    "\n",
    "label_distribution = {label: count / total for label, count in y_counts.items()}\n",
    "\n",
    "def generate_label_mask(distribution, num_labels):\n",
    "    mask = np.zeros(num_labels)\n",
    "    for i in range(num_labels):\n",
    "        if random.random() < distribution[y_train.columns[i]]:\n",
    "            mask[i] = 1\n",
    "    if not mask.any():\n",
    "        mask[random.randint(0, num_labels - 1)] = 1\n",
    "    return mask"
   ]
  },
  {
   "cell_type": "code",
   "execution_count": null,
   "metadata": {
    "colab": {
     "base_uri": "https://localhost:8080/",
     "height": 354,
     "referenced_widgets": [
      "02da9c1470044582b1363766fcd0b7cc",
      "1d05f814a4104250a37bfc759ae6c9bd",
      "ecdd5cf3f135478eacce13a44b5d384e",
      "16c3f94382e0450bb2aa55b33746e4fd",
      "97c23960354e4f308e0840ffd259f1e6",
      "5bad6e0decf64fed836dc1d7dc273d95",
      "83dbfeb3a8414406a96314949b40195c",
      "5bacc9980d9946e1b7f30faeaac52cd4",
      "42c2324e87924b44873c77efe958febe",
      "a1816035ffda4317ad8d211acb94e281",
      "fd316221a3bd4be5bc8553ba352ea4fa",
      "f332d00585ed4006a18bf42bc9636c03",
      "39d5380a00fe4160b2e9db362e8d5452",
      "bbf68240b7904864970164d1f85409b8",
      "1c7a7fe8acf34ab4abcca9b1738e48c0",
      "e8cde78741ea44a7ac1c80597b3c8437",
      "170b521c8e0f425e9b2cb109947fe286",
      "00cd28ecf90f43cd9245be6858a0efd9",
      "505e2500db2a48668c7ce6676a98cd9f",
      "ff70f8dbaaa14b038b6cc7a9454d1d07",
      "af21515796ef4c749805c59036d20550",
      "864c1c8779054f11a452b5bf1cea6063",
      "878d442d35284ac895922ae00179ea8d",
      "ea103951cb314a20ba3b5c9aeb2d54a2",
      "8e2b70a293e6400389b3259658cdb880",
      "b5d6da89ac814c46bed69c9e9caf8ffc",
      "923481f7219a451a9dc58eeaa26c15b5",
      "9c3eb8e3b53b451ebfca8558d38f8806",
      "562389f658864effb05e1285f158f6ad",
      "c4aa1e9b30734b3e9f5b1a00f6cd8a79",
      "8c81f70fa44b40c59211c8a7f101d76f",
      "f23bf43f585b4738903891def99ec056",
      "3e34840adf9b4890b71afda599eb169a",
      "a166118fa4e149bdb10a60a176f4274b",
      "b7b54a06e00e47efb3288ef11b6ef4f7",
      "989478a0cdc44b9db7f42d59026f64a7",
      "1a61ecc953a845e5989430a721ea61a2",
      "40ac2ee8e5a348da9fddba2e70c828c1",
      "fa8b6804cfa447eea9f5c969ca91f639",
      "db340de0332149e5904466cc66a445d2",
      "e81f28d938264a02a9c3f352e98e1a80",
      "b26de59a5ac04c7ab2a4aecc307d602c",
      "407f45f9e166437f8837811a27efec42",
      "1c6d16ba4512497ab684d5fb85fd6152",
      "611e5dd892814a9299c40d5bba28eb4b",
      "f65566866daf43c2997b1bd34ea1e3e2",
      "10b9f886837741ee8259f0f121bfc3e9",
      "31651a45757c4437b94e8bf422304fcf",
      "c601bc5ef3154a94922c12ed39cfa916",
      "b73391583a3047e49dd70f4508480144",
      "03cdd2c28bc749eba72d869f4cf01843",
      "69532e52d8fb4037a306f7248229a985",
      "003d9ba47cfa43628cdd6411a28ffc85",
      "e7b9da8d56564b0bb74765ca21926968",
      "7de63b24d61f453589a82784ca99a02a",
      "ce2d711ffac6442b8dab686d5e4437df",
      "06db8b3f1840439d8e7c42f2fdede696",
      "e3f9cf155b5d469eb03ad1a6c5e88fc2",
      "edfafce386e24ed5884df155ec893191",
      "691bcca089e24a519cac6785d343ed66",
      "52d46dfbdae34785a3eda2966983c488",
      "3c4d23f32dc74965ac608f37393a9821",
      "6b8e8d4ca9f44658897fefc45b2878ab",
      "00ba40a5a66e4c3fbbeda9dea1acb558",
      "6d8c9461c7a749238692c35f8fe03ec1",
      "56b0705d88364f06b36696cd6acb8fd9"
     ]
    },
    "id": "a6sicpsHE8zh",
    "outputId": "1f8f8b91-7e70-4e78-b19c-8ab574f5d21d"
   },
   "outputs": [
    {
     "name": "stderr",
     "output_type": "stream",
     "text": [
      "/usr/local/lib/python3.11/dist-packages/huggingface_hub/utils/_auth.py:94: UserWarning: \n",
      "The secret `HF_TOKEN` does not exist in your Colab secrets.\n",
      "To authenticate with the Hugging Face Hub, create a token in your settings tab (https://huggingface.co/settings/tokens), set it as secret in your Google Colab and restart your session.\n",
      "You will be able to reuse this secret in all of your notebooks.\n",
      "Please note that authentication is recommended but still optional to access public models or datasets.\n",
      "  warnings.warn(\n"
     ]
    },
    {
     "data": {
      "application/vnd.jupyter.widget-view+json": {
       "model_id": "02da9c1470044582b1363766fcd0b7cc",
       "version_major": 2,
       "version_minor": 0
      },
      "text/plain": [
       "config.json:   0%|          | 0.00/622 [00:00<?, ?B/s]"
      ]
     },
     "metadata": {},
     "output_type": "display_data"
    },
    {
     "data": {
      "application/vnd.jupyter.widget-view+json": {
       "model_id": "f332d00585ed4006a18bf42bc9636c03",
       "version_major": 2,
       "version_minor": 0
      },
      "text/plain": [
       "pytorch_model.bin:   0%|          | 0.00/3.14G [00:00<?, ?B/s]"
      ]
     },
     "metadata": {},
     "output_type": "display_data"
    },
    {
     "data": {
      "application/vnd.jupyter.widget-view+json": {
       "model_id": "878d442d35284ac895922ae00179ea8d",
       "version_major": 2,
       "version_minor": 0
      },
      "text/plain": [
       "tokenizer_config.json:   0%|          | 0.00/1.25k [00:00<?, ?B/s]"
      ]
     },
     "metadata": {},
     "output_type": "display_data"
    },
    {
     "data": {
      "application/vnd.jupyter.widget-view+json": {
       "model_id": "a166118fa4e149bdb10a60a176f4274b",
       "version_major": 2,
       "version_minor": 0
      },
      "text/plain": [
       "vocab.json:   0%|          | 0.00/1.71M [00:00<?, ?B/s]"
      ]
     },
     "metadata": {},
     "output_type": "display_data"
    },
    {
     "data": {
      "application/vnd.jupyter.widget-view+json": {
       "model_id": "611e5dd892814a9299c40d5bba28eb4b",
       "version_major": 2,
       "version_minor": 0
      },
      "text/plain": [
       "merges.txt:   0%|          | 0.00/1.27M [00:00<?, ?B/s]"
      ]
     },
     "metadata": {},
     "output_type": "display_data"
    },
    {
     "data": {
      "application/vnd.jupyter.widget-view+json": {
       "model_id": "ce2d711ffac6442b8dab686d5e4437df",
       "version_major": 2,
       "version_minor": 0
      },
      "text/plain": [
       "special_tokens_map.json:   0%|          | 0.00/574 [00:00<?, ?B/s]"
      ]
     },
     "metadata": {},
     "output_type": "display_data"
    },
    {
     "name": "stderr",
     "output_type": "stream",
     "text": [
      "Device set to use cuda:0\n"
     ]
    }
   ],
   "source": [
    "from transformers import pipeline\n",
    "\n",
    "generator = pipeline(\"text-generation\", model=\"sberbank-ai/rugpt3large_based_on_gpt2\", device=0)\n",
    "\n",
    "def generate_text(label_mask, max_length=128):\n",
    "    active_labels = [name for i, name in enumerate(y_train.columns) if label_mask[i] == 1]\n",
    "    prompt = f\"Придумай короткий текст, который соответствует следующим темам: {', '.join(active_labels)}.\\nТекст:\"\n",
    "    output = generator(prompt, max_new_tokens=max_length, do_sample=True, top_k=50, temperature=0.95)\n",
    "    return output[0][\"generated_text\"].split(\"Текст:\")[-1].strip()\n"
   ]
  },
  {
   "cell_type": "code",
   "execution_count": null,
   "metadata": {
    "colab": {
     "base_uri": "https://localhost:8080/"
    },
    "id": "chVr81aIZtBZ",
    "outputId": "0d3e4d2b-f4c1-4c6f-d06e-23cd1bccd789"
   },
   "outputs": [
    {
     "name": "stderr",
     "output_type": "stream",
     "text": [
      "Device set to use cuda:0\n"
     ]
    }
   ],
   "source": [
    "from transformers import pipeline\n",
    "\n",
    "generator = pipeline(\"text-generation\", model=\"sberbank-ai/rugpt3large_based_on_gpt2\", device=0)\n",
    "\n",
    "def generate_text(label_mask, max_length=128):\n",
    "    active_labels = [name for i, name in enumerate(y_train.columns) if label_mask[i] == 1]\n",
    "    if not active_labels:\n",
    "        active_labels = [\"общая тема\"]\n",
    "    prompt = f\"Придумай короткий текст, который соответствует следующим темам: {', '.join(active_labels)}.\\nТекст:\"\n",
    "    output = generator(prompt, max_new_tokens=max_length, do_sample=True, top_k=50, temperature=0.95)\n",
    "    return output[0][\"generated_text\"].split(\"Текст:\")[-1].strip()"
   ]
  },
  {
   "cell_type": "code",
   "execution_count": null,
   "metadata": {
    "colab": {
     "base_uri": "https://localhost:8080/",
     "height": 420
    },
    "id": "qxjrIN0Baf8m",
    "outputId": "390374c6-dfba-48f0-cb8b-03d3ffef357e"
   },
   "outputs": [
    {
     "name": "stderr",
     "output_type": "stream",
     "text": [
      "  1%|          | 10/1000 [00:26<42:48,  2.59s/it]You seem to be using the pipelines sequentially on GPU. In order to maximize efficiency please use a dataset\n",
      "  8%|▊         | 78/1000 [03:27<40:53,  2.66s/it]\n"
     ]
    },
    {
     "ename": "KeyboardInterrupt",
     "evalue": "",
     "output_type": "error",
     "traceback": [
      "\u001b[0;31m---------------------------------------------------------------------------\u001b[0m",
      "\u001b[0;31mKeyboardInterrupt\u001b[0m                         Traceback (most recent call last)",
      "\u001b[0;32m<ipython-input-20-c1481d908021>\u001b[0m in \u001b[0;36m<cell line: 0>\u001b[0;34m()\u001b[0m\n\u001b[1;32m     12\u001b[0m     \u001b[0;31m# Случайная маска из обучающего набора\u001b[0m\u001b[0;34m\u001b[0m\u001b[0;34m\u001b[0m\u001b[0m\n\u001b[1;32m     13\u001b[0m     \u001b[0mmask\u001b[0m \u001b[0;34m=\u001b[0m \u001b[0mrandom\u001b[0m\u001b[0;34m.\u001b[0m\u001b[0mchoice\u001b[0m\u001b[0;34m(\u001b[0m\u001b[0mlabel_masks\u001b[0m\u001b[0;34m)\u001b[0m\u001b[0;34m\u001b[0m\u001b[0;34m\u001b[0m\u001b[0m\n\u001b[0;32m---> 14\u001b[0;31m     \u001b[0mtext\u001b[0m \u001b[0;34m=\u001b[0m \u001b[0mgenerate_text\u001b[0m\u001b[0;34m(\u001b[0m\u001b[0mmask\u001b[0m\u001b[0;34m)\u001b[0m\u001b[0;34m\u001b[0m\u001b[0;34m\u001b[0m\u001b[0m\n\u001b[0m\u001b[1;32m     15\u001b[0m     \u001b[0mgenerated_texts\u001b[0m\u001b[0;34m.\u001b[0m\u001b[0mappend\u001b[0m\u001b[0;34m(\u001b[0m\u001b[0mtext\u001b[0m\u001b[0;34m)\u001b[0m\u001b[0;34m\u001b[0m\u001b[0;34m\u001b[0m\u001b[0m\n\u001b[1;32m     16\u001b[0m     \u001b[0mgenerated_labels\u001b[0m\u001b[0;34m.\u001b[0m\u001b[0mappend\u001b[0m\u001b[0;34m(\u001b[0m\u001b[0mmask\u001b[0m\u001b[0;34m)\u001b[0m\u001b[0;34m\u001b[0m\u001b[0;34m\u001b[0m\u001b[0m\n",
      "\u001b[0;32m<ipython-input-19-d398c29f4422>\u001b[0m in \u001b[0;36mgenerate_text\u001b[0;34m(label_mask, max_length)\u001b[0m\n\u001b[1;32m     10\u001b[0m         \u001b[0mactive_labels\u001b[0m \u001b[0;34m=\u001b[0m \u001b[0;34m[\u001b[0m\u001b[0;34m\"общая тема\"\u001b[0m\u001b[0;34m]\u001b[0m\u001b[0;34m\u001b[0m\u001b[0;34m\u001b[0m\u001b[0m\n\u001b[1;32m     11\u001b[0m     \u001b[0mprompt\u001b[0m \u001b[0;34m=\u001b[0m \u001b[0;34mf\"Придумай короткий текст, который соответствует следующим темам: {', '.join(active_labels)}.\\nТекст:\"\u001b[0m\u001b[0;34m\u001b[0m\u001b[0;34m\u001b[0m\u001b[0m\n\u001b[0;32m---> 12\u001b[0;31m     \u001b[0moutput\u001b[0m \u001b[0;34m=\u001b[0m \u001b[0mgenerator\u001b[0m\u001b[0;34m(\u001b[0m\u001b[0mprompt\u001b[0m\u001b[0;34m,\u001b[0m \u001b[0mmax_new_tokens\u001b[0m\u001b[0;34m=\u001b[0m\u001b[0mmax_length\u001b[0m\u001b[0;34m,\u001b[0m \u001b[0mdo_sample\u001b[0m\u001b[0;34m=\u001b[0m\u001b[0;32mTrue\u001b[0m\u001b[0;34m,\u001b[0m \u001b[0mtop_k\u001b[0m\u001b[0;34m=\u001b[0m\u001b[0;36m50\u001b[0m\u001b[0;34m,\u001b[0m \u001b[0mtemperature\u001b[0m\u001b[0;34m=\u001b[0m\u001b[0;36m0.95\u001b[0m\u001b[0;34m)\u001b[0m\u001b[0;34m\u001b[0m\u001b[0;34m\u001b[0m\u001b[0m\n\u001b[0m\u001b[1;32m     13\u001b[0m     \u001b[0;32mreturn\u001b[0m \u001b[0moutput\u001b[0m\u001b[0;34m[\u001b[0m\u001b[0;36m0\u001b[0m\u001b[0;34m]\u001b[0m\u001b[0;34m[\u001b[0m\u001b[0;34m\"generated_text\"\u001b[0m\u001b[0;34m]\u001b[0m\u001b[0;34m.\u001b[0m\u001b[0msplit\u001b[0m\u001b[0;34m(\u001b[0m\u001b[0;34m\"Текст:\"\u001b[0m\u001b[0;34m)\u001b[0m\u001b[0;34m[\u001b[0m\u001b[0;34m-\u001b[0m\u001b[0;36m1\u001b[0m\u001b[0;34m]\u001b[0m\u001b[0;34m.\u001b[0m\u001b[0mstrip\u001b[0m\u001b[0;34m(\u001b[0m\u001b[0;34m)\u001b[0m\u001b[0;34m\u001b[0m\u001b[0;34m\u001b[0m\u001b[0m\n",
      "\u001b[0;32m/usr/local/lib/python3.11/dist-packages/transformers/pipelines/text_generation.py\u001b[0m in \u001b[0;36m__call__\u001b[0;34m(self, text_inputs, **kwargs)\u001b[0m\n\u001b[1;32m    285\u001b[0m                     \u001b[0;32melse\u001b[0m\u001b[0;34m:\u001b[0m\u001b[0;34m\u001b[0m\u001b[0;34m\u001b[0m\u001b[0m\n\u001b[1;32m    286\u001b[0m                         \u001b[0;32mreturn\u001b[0m \u001b[0msuper\u001b[0m\u001b[0;34m(\u001b[0m\u001b[0;34m)\u001b[0m\u001b[0;34m.\u001b[0m\u001b[0m__call__\u001b[0m\u001b[0;34m(\u001b[0m\u001b[0mlist\u001b[0m\u001b[0;34m(\u001b[0m\u001b[0mchats\u001b[0m\u001b[0;34m)\u001b[0m\u001b[0;34m,\u001b[0m \u001b[0;34m**\u001b[0m\u001b[0mkwargs\u001b[0m\u001b[0;34m)\u001b[0m\u001b[0;34m\u001b[0m\u001b[0;34m\u001b[0m\u001b[0m\n\u001b[0;32m--> 287\u001b[0;31m         \u001b[0;32mreturn\u001b[0m \u001b[0msuper\u001b[0m\u001b[0;34m(\u001b[0m\u001b[0;34m)\u001b[0m\u001b[0;34m.\u001b[0m\u001b[0m__call__\u001b[0m\u001b[0;34m(\u001b[0m\u001b[0mtext_inputs\u001b[0m\u001b[0;34m,\u001b[0m \u001b[0;34m**\u001b[0m\u001b[0mkwargs\u001b[0m\u001b[0;34m)\u001b[0m\u001b[0;34m\u001b[0m\u001b[0;34m\u001b[0m\u001b[0m\n\u001b[0m\u001b[1;32m    288\u001b[0m \u001b[0;34m\u001b[0m\u001b[0m\n\u001b[1;32m    289\u001b[0m     def preprocess(\n",
      "\u001b[0;32m/usr/local/lib/python3.11/dist-packages/transformers/pipelines/base.py\u001b[0m in \u001b[0;36m__call__\u001b[0;34m(self, inputs, num_workers, batch_size, *args, **kwargs)\u001b[0m\n\u001b[1;32m   1377\u001b[0m             )\n\u001b[1;32m   1378\u001b[0m         \u001b[0;32melse\u001b[0m\u001b[0;34m:\u001b[0m\u001b[0;34m\u001b[0m\u001b[0;34m\u001b[0m\u001b[0m\n\u001b[0;32m-> 1379\u001b[0;31m             \u001b[0;32mreturn\u001b[0m \u001b[0mself\u001b[0m\u001b[0;34m.\u001b[0m\u001b[0mrun_single\u001b[0m\u001b[0;34m(\u001b[0m\u001b[0minputs\u001b[0m\u001b[0;34m,\u001b[0m \u001b[0mpreprocess_params\u001b[0m\u001b[0;34m,\u001b[0m \u001b[0mforward_params\u001b[0m\u001b[0;34m,\u001b[0m \u001b[0mpostprocess_params\u001b[0m\u001b[0;34m)\u001b[0m\u001b[0;34m\u001b[0m\u001b[0;34m\u001b[0m\u001b[0m\n\u001b[0m\u001b[1;32m   1380\u001b[0m \u001b[0;34m\u001b[0m\u001b[0m\n\u001b[1;32m   1381\u001b[0m     \u001b[0;32mdef\u001b[0m \u001b[0mrun_multi\u001b[0m\u001b[0;34m(\u001b[0m\u001b[0mself\u001b[0m\u001b[0;34m,\u001b[0m \u001b[0minputs\u001b[0m\u001b[0;34m,\u001b[0m \u001b[0mpreprocess_params\u001b[0m\u001b[0;34m,\u001b[0m \u001b[0mforward_params\u001b[0m\u001b[0;34m,\u001b[0m \u001b[0mpostprocess_params\u001b[0m\u001b[0;34m)\u001b[0m\u001b[0;34m:\u001b[0m\u001b[0;34m\u001b[0m\u001b[0;34m\u001b[0m\u001b[0m\n",
      "\u001b[0;32m/usr/local/lib/python3.11/dist-packages/transformers/pipelines/base.py\u001b[0m in \u001b[0;36mrun_single\u001b[0;34m(self, inputs, preprocess_params, forward_params, postprocess_params)\u001b[0m\n\u001b[1;32m   1384\u001b[0m     \u001b[0;32mdef\u001b[0m \u001b[0mrun_single\u001b[0m\u001b[0;34m(\u001b[0m\u001b[0mself\u001b[0m\u001b[0;34m,\u001b[0m \u001b[0minputs\u001b[0m\u001b[0;34m,\u001b[0m \u001b[0mpreprocess_params\u001b[0m\u001b[0;34m,\u001b[0m \u001b[0mforward_params\u001b[0m\u001b[0;34m,\u001b[0m \u001b[0mpostprocess_params\u001b[0m\u001b[0;34m)\u001b[0m\u001b[0;34m:\u001b[0m\u001b[0;34m\u001b[0m\u001b[0;34m\u001b[0m\u001b[0m\n\u001b[1;32m   1385\u001b[0m         \u001b[0mmodel_inputs\u001b[0m \u001b[0;34m=\u001b[0m \u001b[0mself\u001b[0m\u001b[0;34m.\u001b[0m\u001b[0mpreprocess\u001b[0m\u001b[0;34m(\u001b[0m\u001b[0minputs\u001b[0m\u001b[0;34m,\u001b[0m \u001b[0;34m**\u001b[0m\u001b[0mpreprocess_params\u001b[0m\u001b[0;34m)\u001b[0m\u001b[0;34m\u001b[0m\u001b[0;34m\u001b[0m\u001b[0m\n\u001b[0;32m-> 1386\u001b[0;31m         \u001b[0mmodel_outputs\u001b[0m \u001b[0;34m=\u001b[0m \u001b[0mself\u001b[0m\u001b[0;34m.\u001b[0m\u001b[0mforward\u001b[0m\u001b[0;34m(\u001b[0m\u001b[0mmodel_inputs\u001b[0m\u001b[0;34m,\u001b[0m \u001b[0;34m**\u001b[0m\u001b[0mforward_params\u001b[0m\u001b[0;34m)\u001b[0m\u001b[0;34m\u001b[0m\u001b[0;34m\u001b[0m\u001b[0m\n\u001b[0m\u001b[1;32m   1387\u001b[0m         \u001b[0moutputs\u001b[0m \u001b[0;34m=\u001b[0m \u001b[0mself\u001b[0m\u001b[0;34m.\u001b[0m\u001b[0mpostprocess\u001b[0m\u001b[0;34m(\u001b[0m\u001b[0mmodel_outputs\u001b[0m\u001b[0;34m,\u001b[0m \u001b[0;34m**\u001b[0m\u001b[0mpostprocess_params\u001b[0m\u001b[0;34m)\u001b[0m\u001b[0;34m\u001b[0m\u001b[0;34m\u001b[0m\u001b[0m\n\u001b[1;32m   1388\u001b[0m         \u001b[0;32mreturn\u001b[0m \u001b[0moutputs\u001b[0m\u001b[0;34m\u001b[0m\u001b[0;34m\u001b[0m\u001b[0m\n",
      "\u001b[0;32m/usr/local/lib/python3.11/dist-packages/transformers/pipelines/base.py\u001b[0m in \u001b[0;36mforward\u001b[0;34m(self, model_inputs, **forward_params)\u001b[0m\n\u001b[1;32m   1284\u001b[0m                 \u001b[0;32mwith\u001b[0m \u001b[0minference_context\u001b[0m\u001b[0;34m(\u001b[0m\u001b[0;34m)\u001b[0m\u001b[0;34m:\u001b[0m\u001b[0;34m\u001b[0m\u001b[0;34m\u001b[0m\u001b[0m\n\u001b[1;32m   1285\u001b[0m                     \u001b[0mmodel_inputs\u001b[0m \u001b[0;34m=\u001b[0m \u001b[0mself\u001b[0m\u001b[0;34m.\u001b[0m\u001b[0m_ensure_tensor_on_device\u001b[0m\u001b[0;34m(\u001b[0m\u001b[0mmodel_inputs\u001b[0m\u001b[0;34m,\u001b[0m \u001b[0mdevice\u001b[0m\u001b[0;34m=\u001b[0m\u001b[0mself\u001b[0m\u001b[0;34m.\u001b[0m\u001b[0mdevice\u001b[0m\u001b[0;34m)\u001b[0m\u001b[0;34m\u001b[0m\u001b[0;34m\u001b[0m\u001b[0m\n\u001b[0;32m-> 1286\u001b[0;31m                     \u001b[0mmodel_outputs\u001b[0m \u001b[0;34m=\u001b[0m \u001b[0mself\u001b[0m\u001b[0;34m.\u001b[0m\u001b[0m_forward\u001b[0m\u001b[0;34m(\u001b[0m\u001b[0mmodel_inputs\u001b[0m\u001b[0;34m,\u001b[0m \u001b[0;34m**\u001b[0m\u001b[0mforward_params\u001b[0m\u001b[0;34m)\u001b[0m\u001b[0;34m\u001b[0m\u001b[0;34m\u001b[0m\u001b[0m\n\u001b[0m\u001b[1;32m   1287\u001b[0m                     \u001b[0mmodel_outputs\u001b[0m \u001b[0;34m=\u001b[0m \u001b[0mself\u001b[0m\u001b[0;34m.\u001b[0m\u001b[0m_ensure_tensor_on_device\u001b[0m\u001b[0;34m(\u001b[0m\u001b[0mmodel_outputs\u001b[0m\u001b[0;34m,\u001b[0m \u001b[0mdevice\u001b[0m\u001b[0;34m=\u001b[0m\u001b[0mtorch\u001b[0m\u001b[0;34m.\u001b[0m\u001b[0mdevice\u001b[0m\u001b[0;34m(\u001b[0m\u001b[0;34m\"cpu\"\u001b[0m\u001b[0;34m)\u001b[0m\u001b[0;34m)\u001b[0m\u001b[0;34m\u001b[0m\u001b[0;34m\u001b[0m\u001b[0m\n\u001b[1;32m   1288\u001b[0m             \u001b[0;32melse\u001b[0m\u001b[0;34m:\u001b[0m\u001b[0;34m\u001b[0m\u001b[0;34m\u001b[0m\u001b[0m\n",
      "\u001b[0;32m/usr/local/lib/python3.11/dist-packages/transformers/pipelines/text_generation.py\u001b[0m in \u001b[0;36m_forward\u001b[0;34m(self, model_inputs, **generate_kwargs)\u001b[0m\n\u001b[1;32m    383\u001b[0m             \u001b[0mgenerate_kwargs\u001b[0m\u001b[0;34m[\u001b[0m\u001b[0;34m\"generation_config\"\u001b[0m\u001b[0;34m]\u001b[0m \u001b[0;34m=\u001b[0m \u001b[0mself\u001b[0m\u001b[0;34m.\u001b[0m\u001b[0mgeneration_config\u001b[0m\u001b[0;34m\u001b[0m\u001b[0;34m\u001b[0m\u001b[0m\n\u001b[1;32m    384\u001b[0m \u001b[0;34m\u001b[0m\u001b[0m\n\u001b[0;32m--> 385\u001b[0;31m         \u001b[0moutput\u001b[0m \u001b[0;34m=\u001b[0m \u001b[0mself\u001b[0m\u001b[0;34m.\u001b[0m\u001b[0mmodel\u001b[0m\u001b[0;34m.\u001b[0m\u001b[0mgenerate\u001b[0m\u001b[0;34m(\u001b[0m\u001b[0minput_ids\u001b[0m\u001b[0;34m=\u001b[0m\u001b[0minput_ids\u001b[0m\u001b[0;34m,\u001b[0m \u001b[0mattention_mask\u001b[0m\u001b[0;34m=\u001b[0m\u001b[0mattention_mask\u001b[0m\u001b[0;34m,\u001b[0m \u001b[0;34m**\u001b[0m\u001b[0mgenerate_kwargs\u001b[0m\u001b[0;34m)\u001b[0m\u001b[0;34m\u001b[0m\u001b[0;34m\u001b[0m\u001b[0m\n\u001b[0m\u001b[1;32m    386\u001b[0m \u001b[0;34m\u001b[0m\u001b[0m\n\u001b[1;32m    387\u001b[0m         \u001b[0;32mif\u001b[0m \u001b[0misinstance\u001b[0m\u001b[0;34m(\u001b[0m\u001b[0moutput\u001b[0m\u001b[0;34m,\u001b[0m \u001b[0mModelOutput\u001b[0m\u001b[0;34m)\u001b[0m\u001b[0;34m:\u001b[0m\u001b[0;34m\u001b[0m\u001b[0;34m\u001b[0m\u001b[0m\n",
      "\u001b[0;32m/usr/local/lib/python3.11/dist-packages/torch/utils/_contextlib.py\u001b[0m in \u001b[0;36mdecorate_context\u001b[0;34m(*args, **kwargs)\u001b[0m\n\u001b[1;32m    114\u001b[0m     \u001b[0;32mdef\u001b[0m \u001b[0mdecorate_context\u001b[0m\u001b[0;34m(\u001b[0m\u001b[0;34m*\u001b[0m\u001b[0margs\u001b[0m\u001b[0;34m,\u001b[0m \u001b[0;34m**\u001b[0m\u001b[0mkwargs\u001b[0m\u001b[0;34m)\u001b[0m\u001b[0;34m:\u001b[0m\u001b[0;34m\u001b[0m\u001b[0;34m\u001b[0m\u001b[0m\n\u001b[1;32m    115\u001b[0m         \u001b[0;32mwith\u001b[0m \u001b[0mctx_factory\u001b[0m\u001b[0;34m(\u001b[0m\u001b[0;34m)\u001b[0m\u001b[0;34m:\u001b[0m\u001b[0;34m\u001b[0m\u001b[0;34m\u001b[0m\u001b[0m\n\u001b[0;32m--> 116\u001b[0;31m             \u001b[0;32mreturn\u001b[0m \u001b[0mfunc\u001b[0m\u001b[0;34m(\u001b[0m\u001b[0;34m*\u001b[0m\u001b[0margs\u001b[0m\u001b[0;34m,\u001b[0m \u001b[0;34m**\u001b[0m\u001b[0mkwargs\u001b[0m\u001b[0;34m)\u001b[0m\u001b[0;34m\u001b[0m\u001b[0;34m\u001b[0m\u001b[0m\n\u001b[0m\u001b[1;32m    117\u001b[0m \u001b[0;34m\u001b[0m\u001b[0m\n\u001b[1;32m    118\u001b[0m     \u001b[0;32mreturn\u001b[0m \u001b[0mdecorate_context\u001b[0m\u001b[0;34m\u001b[0m\u001b[0;34m\u001b[0m\u001b[0m\n",
      "\u001b[0;32m/usr/local/lib/python3.11/dist-packages/transformers/generation/utils.py\u001b[0m in \u001b[0;36mgenerate\u001b[0;34m(self, inputs, generation_config, logits_processor, stopping_criteria, prefix_allowed_tokens_fn, synced_gpus, assistant_model, streamer, negative_prompt_ids, negative_prompt_attention_mask, use_model_defaults, **kwargs)\u001b[0m\n\u001b[1;32m   2463\u001b[0m \u001b[0;34m\u001b[0m\u001b[0m\n\u001b[1;32m   2464\u001b[0m             \u001b[0;31m# 12. run sample (it degenerates to greedy search when `generation_config.do_sample=False`)\u001b[0m\u001b[0;34m\u001b[0m\u001b[0;34m\u001b[0m\u001b[0m\n\u001b[0;32m-> 2465\u001b[0;31m             result = self._sample(\n\u001b[0m\u001b[1;32m   2466\u001b[0m                 \u001b[0minput_ids\u001b[0m\u001b[0;34m,\u001b[0m\u001b[0;34m\u001b[0m\u001b[0;34m\u001b[0m\u001b[0m\n\u001b[1;32m   2467\u001b[0m                 \u001b[0mlogits_processor\u001b[0m\u001b[0;34m=\u001b[0m\u001b[0mprepared_logits_processor\u001b[0m\u001b[0;34m,\u001b[0m\u001b[0;34m\u001b[0m\u001b[0;34m\u001b[0m\u001b[0m\n",
      "\u001b[0;32m/usr/local/lib/python3.11/dist-packages/transformers/generation/utils.py\u001b[0m in \u001b[0;36m_sample\u001b[0;34m(self, input_ids, logits_processor, stopping_criteria, generation_config, synced_gpus, streamer, **model_kwargs)\u001b[0m\n\u001b[1;32m   3480\u001b[0m             \u001b[0;31m# finished sentences should have their next token be a padding token\u001b[0m\u001b[0;34m\u001b[0m\u001b[0;34m\u001b[0m\u001b[0m\n\u001b[1;32m   3481\u001b[0m             \u001b[0;32mif\u001b[0m \u001b[0mhas_eos_stopping_criteria\u001b[0m\u001b[0;34m:\u001b[0m\u001b[0;34m\u001b[0m\u001b[0;34m\u001b[0m\u001b[0m\n\u001b[0;32m-> 3482\u001b[0;31m                 \u001b[0mnext_tokens\u001b[0m \u001b[0;34m=\u001b[0m \u001b[0mnext_tokens\u001b[0m \u001b[0;34m*\u001b[0m \u001b[0munfinished_sequences\u001b[0m \u001b[0;34m+\u001b[0m \u001b[0mpad_token_id\u001b[0m \u001b[0;34m*\u001b[0m \u001b[0;34m(\u001b[0m\u001b[0;36m1\u001b[0m \u001b[0;34m-\u001b[0m \u001b[0munfinished_sequences\u001b[0m\u001b[0;34m)\u001b[0m\u001b[0;34m\u001b[0m\u001b[0;34m\u001b[0m\u001b[0m\n\u001b[0m\u001b[1;32m   3483\u001b[0m \u001b[0;34m\u001b[0m\u001b[0m\n\u001b[1;32m   3484\u001b[0m             \u001b[0;31m# update generated ids, model inputs, and length for next step\u001b[0m\u001b[0;34m\u001b[0m\u001b[0;34m\u001b[0m\u001b[0m\n",
      "\u001b[0;32m/usr/local/lib/python3.11/dist-packages/torch/_tensor.py\u001b[0m in \u001b[0;36mwrapped\u001b[0;34m(*args, **kwargs)\u001b[0m\n\u001b[1;32m     37\u001b[0m             \u001b[0;32mif\u001b[0m \u001b[0mhas_torch_function\u001b[0m\u001b[0;34m(\u001b[0m\u001b[0margs\u001b[0m\u001b[0;34m)\u001b[0m\u001b[0;34m:\u001b[0m\u001b[0;34m\u001b[0m\u001b[0;34m\u001b[0m\u001b[0m\n\u001b[1;32m     38\u001b[0m                 \u001b[0;32mreturn\u001b[0m \u001b[0mhandle_torch_function\u001b[0m\u001b[0;34m(\u001b[0m\u001b[0mwrapped\u001b[0m\u001b[0;34m,\u001b[0m \u001b[0margs\u001b[0m\u001b[0;34m,\u001b[0m \u001b[0;34m*\u001b[0m\u001b[0margs\u001b[0m\u001b[0;34m,\u001b[0m \u001b[0;34m**\u001b[0m\u001b[0mkwargs\u001b[0m\u001b[0;34m)\u001b[0m\u001b[0;34m\u001b[0m\u001b[0;34m\u001b[0m\u001b[0m\n\u001b[0;32m---> 39\u001b[0;31m             \u001b[0;32mreturn\u001b[0m \u001b[0mf\u001b[0m\u001b[0;34m(\u001b[0m\u001b[0;34m*\u001b[0m\u001b[0margs\u001b[0m\u001b[0;34m,\u001b[0m \u001b[0;34m**\u001b[0m\u001b[0mkwargs\u001b[0m\u001b[0;34m)\u001b[0m\u001b[0;34m\u001b[0m\u001b[0;34m\u001b[0m\u001b[0m\n\u001b[0m\u001b[1;32m     40\u001b[0m         \u001b[0;32mexcept\u001b[0m \u001b[0mTypeError\u001b[0m\u001b[0;34m:\u001b[0m\u001b[0;34m\u001b[0m\u001b[0;34m\u001b[0m\u001b[0m\n\u001b[1;32m     41\u001b[0m             \u001b[0;32mreturn\u001b[0m \u001b[0mNotImplemented\u001b[0m\u001b[0;34m\u001b[0m\u001b[0;34m\u001b[0m\u001b[0m\n",
      "\u001b[0;32m/usr/local/lib/python3.11/dist-packages/torch/_tensor.py\u001b[0m in \u001b[0;36m__rsub__\u001b[0;34m(self, other)\u001b[0m\n\u001b[1;32m   1071\u001b[0m     \u001b[0;34m@\u001b[0m\u001b[0m_handle_torch_function_and_wrap_type_error_to_not_implemented\u001b[0m\u001b[0;34m\u001b[0m\u001b[0;34m\u001b[0m\u001b[0m\n\u001b[1;32m   1072\u001b[0m     \u001b[0;32mdef\u001b[0m \u001b[0m__rsub__\u001b[0m\u001b[0;34m(\u001b[0m\u001b[0mself\u001b[0m\u001b[0;34m,\u001b[0m \u001b[0mother\u001b[0m\u001b[0;34m)\u001b[0m\u001b[0;34m:\u001b[0m\u001b[0;34m\u001b[0m\u001b[0;34m\u001b[0m\u001b[0m\n\u001b[0;32m-> 1073\u001b[0;31m         \u001b[0;32mreturn\u001b[0m \u001b[0m_C\u001b[0m\u001b[0;34m.\u001b[0m\u001b[0m_VariableFunctions\u001b[0m\u001b[0;34m.\u001b[0m\u001b[0mrsub\u001b[0m\u001b[0;34m(\u001b[0m\u001b[0mself\u001b[0m\u001b[0;34m,\u001b[0m \u001b[0mother\u001b[0m\u001b[0;34m)\u001b[0m\u001b[0;34m\u001b[0m\u001b[0;34m\u001b[0m\u001b[0m\n\u001b[0m\u001b[1;32m   1074\u001b[0m \u001b[0;34m\u001b[0m\u001b[0m\n\u001b[1;32m   1075\u001b[0m     \u001b[0;34m@\u001b[0m\u001b[0m_handle_torch_function_and_wrap_type_error_to_not_implemented\u001b[0m\u001b[0;34m\u001b[0m\u001b[0;34m\u001b[0m\u001b[0m\n",
      "\u001b[0;31mKeyboardInterrupt\u001b[0m: "
     ]
    }
   ],
   "source": [
    "import random\n",
    "from tqdm import tqdm\n",
    "\n",
    "label_masks = y_train.values\n",
    "num_to_generate = 1000\n",
    "\n",
    "generated_texts = []\n",
    "generated_labels = []\n",
    "\n",
    "for _ in tqdm(range(num_to_generate)):\n",
    "    mask = random.choice(label_masks)\n",
    "    text = generate_text(mask)\n",
    "    generated_texts.append(text)\n",
    "    generated_labels.append(mask)\n",
    "\n",
    "generated_labels_np = np.array(generated_labels, dtype=np.float32)"
   ]
  },
  {
   "cell_type": "code",
   "execution_count": null,
   "metadata": {
    "colab": {
     "base_uri": "https://localhost:8080/"
    },
    "id": "V-xqO5B7qFYZ",
    "outputId": "dc05cf9a-e7f2-4d25-9ced-1fc7801ab655"
   },
   "outputs": [
    {
     "name": "stderr",
     "output_type": "stream",
     "text": [
      "Device set to use cuda:0\n",
      "100%|██████████| 1000/1000 [45:03<00:00,  2.70s/it]\n"
     ]
    }
   ],
   "source": [
    "import random\n",
    "import numpy as np\n",
    "from tqdm import tqdm\n",
    "from transformers import pipeline\n",
    "\n",
    "generator = pipeline(\"text-generation\", model=\"sberbank-ai/rugpt3large_based_on_gpt2\", device=0)\n",
    "\n",
    "FEW_SHOT_EXAMPLES = 3\n",
    "examples = list(zip(X_train, y_train.values))\n",
    "num_to_generate = 1000\n",
    "generated_texts = []\n",
    "generated_labels = []\n",
    "\n",
    "for _ in tqdm(range(num_to_generate)):\n",
    "    shots = random.sample(examples, FEW_SHOT_EXAMPLES)\n",
    "\n",
    "    prompt_parts = []\n",
    "    for text, labels in shots:\n",
    "        label_list = [f\"label_{i}\" for i, val in enumerate(labels) if val == 1]\n",
    "        label_str = \", \".join(label_list)\n",
    "        prompt_parts.append(f\"Метки: {label_str}\\nТекст: {text.strip()}\")\n",
    "\n",
    "    mask = random.choice(y_train.values)\n",
    "    mask_label_list = [f\"label_{i}\" for i, val in enumerate(mask) if val == 1]\n",
    "    target_label_str = \", \".join(mask_label_list)\n",
    "\n",
    "    prompt = \"\\n\\n\".join(prompt_parts) + f\"\\n\\nМетки: {target_label_str}\\nТекст:\"\n",
    "\n",
    "    result = generator(prompt, max_new_tokens=100, do_sample=True, top_k=50, top_p=0.95)[0][\"generated_text\"]\n",
    "\n",
    "    gen_text = result.split(\"Текст:\")[-1].strip()\n",
    "\n",
    "    if len(gen_text) > 20:\n",
    "        generated_texts.append(gen_text)\n",
    "        generated_labels.append(mask)\n",
    "\n",
    "generated_labels_np = np.array(generated_labels, dtype=np.float32)"
   ]
  },
  {
   "cell_type": "code",
   "execution_count": null,
   "metadata": {
    "colab": {
     "base_uri": "https://localhost:8080/",
     "height": 89
    },
    "id": "0q3vdsX1qFWY",
    "outputId": "e5f1c423-2cc9-4950-daf5-25abb3d62a72"
   },
   "outputs": [
    {
     "data": {
      "application/vnd.google.colaboratory.intrinsic+json": {
       "type": "string"
      },
      "text/plain": [
       "'На Поклонной горе будут праздновать День народного единства.\\nПодписание унии о передаче православных приходов и монастырей под контроль РПЦ.\\nВ Кремле состоялось подписание унии, которая позволит РПЦ контролировать приходы и монастыри в других городах, передает «Интерфакс».\\n☝\\n👗\\nА вот что пишет РБК:\\n\\n☝\\n\"Сейчас в России действуют только семь десятков религиозных объединений. Это значит, что с точки зрения государственного регулирования эта сфера должна быть либо'"
      ]
     },
     "execution_count": 30,
     "metadata": {},
     "output_type": "execute_result"
    }
   ],
   "source": [
    "generated_texts[0]"
   ]
  },
  {
   "cell_type": "markdown",
   "metadata": {
    "id": "dqyg6YiaIrbO"
   },
   "source": [
    "при первых попытках у меня получались совсем неподходящие тексты, этот уже более менее нормальный, поэтому я оставила только этот блок с генерацией"
   ]
  },
  {
   "cell_type": "code",
   "execution_count": null,
   "metadata": {
    "colab": {
     "base_uri": "https://localhost:8080/"
    },
    "id": "8kGCWCyRaq0J",
    "outputId": "4a8f42c5-bc94-459d-d274-a7844bb62c09"
   },
   "outputs": [
    {
     "name": "stdout",
     "output_type": "stream",
     "text": [
      "Новый размер трейна: 24604 текстов\n"
     ]
    }
   ],
   "source": [
    "X_train_augmented = list(X_train) + generated_texts\n",
    "y_train_augmented = np.vstack([y_train, generated_labels_np])\n",
    "print(f\"Новый размер трейна: {len(X_train_augmented)} текстов\")"
   ]
  },
  {
   "cell_type": "markdown",
   "metadata": {
    "id": "dsRi67ziE-yE"
   },
   "source": [
    "посмотрим результаты на ранее выбранной лучшей модели (bert)"
   ]
  },
  {
   "cell_type": "code",
   "execution_count": null,
   "metadata": {
    "colab": {
     "base_uri": "https://localhost:8080/",
     "height": 942,
     "referenced_widgets": [
      "71b3b871e29b43c2a590d1283a82a625",
      "f415db4d330b47e38497599fd160eacc",
      "9f9fb42a6a664e51976b66fe535a181a",
      "cf5912fc85f84a40a507f42210faa4e6",
      "e07aac4fee6646cfb252b2aff8cec5b8",
      "e9ed2e5e9fdf4e62850b913e9bb01375",
      "ef473bcb199e42ea91bb9c6b6f0e5109",
      "1887dd7130ed4b6bbd707a036281bb4a",
      "3b907937f8254bf49ab5e95fe5d5928b",
      "80fda34b2f084c86b6a7b29057e73000",
      "afda288f2a084f4b98c5ea4d91f4ad92",
      "c6c534abcbe244fea792a940abbcd9d4",
      "01a187f2cf3f46188a3a8bb59f2e4670",
      "42794eb5cd1a4dbcb30caf3622fb80fd",
      "f2245ffaad4a4303b0fe8e9637330a35",
      "af3082e7b39b4cd38da6e0166c55ba2d",
      "429956e173a74db2bd455a50a1b655fd",
      "df02ebf72619434db65f7b48c3baefee",
      "12033df2d9314ad7938ac58561f7f3d9",
      "f25cd7316b074270a179f7eecc508008",
      "5bafbd1ed8794b61a59ecd3160af418f",
      "63d008aa90394d06bf1b4d8a54ec2927",
      "908542766e9d41a998607a22a228d717",
      "a094db9df3084e80a208809ef46c02a7",
      "6f7d04d1e7844f4c8794c34466f9d815",
      "0605e3520c7d434c8e7e6b1b76aab9a6",
      "37bdb25f64bb4ae48671037a43828ef2",
      "e8b4cac19cdf455cb898ca859d5fb97e",
      "de229a890f8d49ebaa3d70077e5200bb",
      "1577d4d0fdfd42eaa165375c6ba3b2f3",
      "cf0b66833db74f3c8d731e194251c03e",
      "ad17a07f6cde463e87924d4eceba1ad3",
      "539299cc82344cb982889c4d2783a592",
      "6cf2bfb9cdf94afa9080f32f0053f8f0",
      "f644ca9aa5f74f6a888015f95a589932",
      "886e1259d49d41fb9586bed321e2e05c",
      "db556a1fe31d46e58b5c994540098d0b",
      "3c4a033807f0441ca9549d4a9944e57f",
      "6be7a3ae4c524f81b6dd42959230a940",
      "cefc0a1769b047e5895df1b7c1eccc7d",
      "a263795fcebb465696b70dbe46e85f38",
      "d77c1085645e4dda887e74c856650e6b",
      "d92f8f1cb640474eb7ae4d5191975a49",
      "bb3887279b8e4d73a3b6016781a60028",
      "743577ae8907424ca85f50ec48c5292f",
      "fe773fdf13004cbb9c25cf61f97ded5a",
      "7c339f00e70e4dc098e6b64865bb7dab",
      "3f95cd0e13ac4114bdcae5e3a84947bc",
      "631a13bb4ff14630a6ef36a0eadde3d4",
      "0f28f5591cc14441b708453c77521b4f",
      "fc381ea8a0f946c9973182d5ef14d134",
      "1ec358cea757440bad6fcdb18aa1c5d6",
      "0e78f22eb93247e6a58179ea68ce07e4",
      "5aa7d08783bd49fca1b6b36f8564816c",
      "736a2ce5072f434c948548da4f454b85",
      "7dd141d2446c413cb56e5ad77f71c87a",
      "4d66ed2730b44d4e89e653a5b2d48ec5",
      "175406eb706b4a41843b604ea7231156",
      "5d4894def2be4070b5ac269b1b780c87",
      "f1837fb98727406e80e40fd8bf1c3b20",
      "ce91864b337a47e5b06af24ea1413a76",
      "2522df2a0e414b4aa46ba014c7d82b49",
      "9567274d7c34453e81e5ec71a55fe2a4",
      "c9d8200f5dd6447bb5446a321540335d",
      "c4302c605330400d9c35dd8b3bc23244",
      "0ed34a3fef0f4502a202c3d27f1b0518"
     ]
    },
    "id": "XwQYjrZQa5kX",
    "outputId": "14ffb82f-e409-42a8-fcf5-b0cb5a1fdf48"
   },
   "outputs": [
    {
     "data": {
      "application/vnd.jupyter.widget-view+json": {
       "model_id": "71b3b871e29b43c2a590d1283a82a625",
       "version_major": 2,
       "version_minor": 0
      },
      "text/plain": [
       "tokenizer_config.json:   0%|          | 0.00/24.0 [00:00<?, ?B/s]"
      ]
     },
     "metadata": {},
     "output_type": "display_data"
    },
    {
     "data": {
      "application/vnd.jupyter.widget-view+json": {
       "model_id": "c6c534abcbe244fea792a940abbcd9d4",
       "version_major": 2,
       "version_minor": 0
      },
      "text/plain": [
       "config.json:   0%|          | 0.00/642 [00:00<?, ?B/s]"
      ]
     },
     "metadata": {},
     "output_type": "display_data"
    },
    {
     "data": {
      "application/vnd.jupyter.widget-view+json": {
       "model_id": "908542766e9d41a998607a22a228d717",
       "version_major": 2,
       "version_minor": 0
      },
      "text/plain": [
       "vocab.txt:   0%|          | 0.00/1.65M [00:00<?, ?B/s]"
      ]
     },
     "metadata": {},
     "output_type": "display_data"
    },
    {
     "data": {
      "application/vnd.jupyter.widget-view+json": {
       "model_id": "6cf2bfb9cdf94afa9080f32f0053f8f0",
       "version_major": 2,
       "version_minor": 0
      },
      "text/plain": [
       "special_tokens_map.json:   0%|          | 0.00/112 [00:00<?, ?B/s]"
      ]
     },
     "metadata": {},
     "output_type": "display_data"
    },
    {
     "data": {
      "application/vnd.jupyter.widget-view+json": {
       "model_id": "743577ae8907424ca85f50ec48c5292f",
       "version_major": 2,
       "version_minor": 0
      },
      "text/plain": [
       "pytorch_model.bin:   0%|          | 0.00/714M [00:00<?, ?B/s]"
      ]
     },
     "metadata": {},
     "output_type": "display_data"
    },
    {
     "data": {
      "application/vnd.jupyter.widget-view+json": {
       "model_id": "7dd141d2446c413cb56e5ad77f71c87a",
       "version_major": 2,
       "version_minor": 0
      },
      "text/plain": [
       "model.safetensors:   0%|          | 0.00/714M [00:00<?, ?B/s]"
      ]
     },
     "metadata": {},
     "output_type": "display_data"
    },
    {
     "name": "stderr",
     "output_type": "stream",
     "text": [
      "Some weights of the model checkpoint at DeepPavlov/rubert-base-cased were not used when initializing BertModel: ['cls.predictions.bias', 'cls.predictions.decoder.bias', 'cls.predictions.decoder.weight', 'cls.predictions.transform.LayerNorm.bias', 'cls.predictions.transform.LayerNorm.weight', 'cls.predictions.transform.dense.bias', 'cls.predictions.transform.dense.weight', 'cls.seq_relationship.bias', 'cls.seq_relationship.weight']\n",
      "- This IS expected if you are initializing BertModel from the checkpoint of a model trained on another task or with another architecture (e.g. initializing a BertForSequenceClassification model from a BertForPreTraining model).\n",
      "- This IS NOT expected if you are initializing BertModel from the checkpoint of a model that you expect to be exactly identical (initializing a BertForSequenceClassification model from a BertForSequenceClassification model).\n",
      "Epoch 1: 100%|██████████| 1538/1538 [09:51<00:00,  2.60it/s]\n"
     ]
    },
    {
     "name": "stdout",
     "output_type": "stream",
     "text": [
      "Epoch 1 | Train Loss: 0.2992 | Val Loss: 0.2283 | Val F1: 0.7647\n",
      "✅ Best model saved to best_bert_model_augmented.pt\n"
     ]
    },
    {
     "name": "stderr",
     "output_type": "stream",
     "text": [
      "Epoch 2: 100%|██████████| 1538/1538 [09:50<00:00,  2.61it/s]\n"
     ]
    },
    {
     "name": "stdout",
     "output_type": "stream",
     "text": [
      "Epoch 2 | Train Loss: 0.2128 | Val Loss: 0.1814 | Val F1: 0.7935\n",
      "✅ Best model saved to best_bert_model_augmented.pt\n"
     ]
    },
    {
     "name": "stderr",
     "output_type": "stream",
     "text": [
      "Epoch 3: 100%|██████████| 1538/1538 [09:50<00:00,  2.60it/s]\n"
     ]
    },
    {
     "name": "stdout",
     "output_type": "stream",
     "text": [
      "Epoch 3 | Train Loss: 0.1647 | Val Loss: 0.1596 | Val F1: 0.8029\n",
      "✅ Best model saved to best_bert_model_augmented.pt\n"
     ]
    },
    {
     "name": "stderr",
     "output_type": "stream",
     "text": [
      "Epoch 4: 100%|██████████| 1538/1538 [09:50<00:00,  2.60it/s]\n"
     ]
    },
    {
     "name": "stdout",
     "output_type": "stream",
     "text": [
      "Epoch 4 | Train Loss: 0.1345 | Val Loss: 0.1491 | Val F1: 0.8216\n",
      "✅ Best model saved to best_bert_model_augmented.pt\n"
     ]
    },
    {
     "name": "stderr",
     "output_type": "stream",
     "text": [
      "Epoch 5: 100%|██████████| 1538/1538 [09:50<00:00,  2.60it/s]\n"
     ]
    },
    {
     "name": "stdout",
     "output_type": "stream",
     "text": [
      "Epoch 5 | Train Loss: 0.1168 | Val Loss: 0.1457 | Val F1: 0.8221\n",
      "✅ Best model saved to best_bert_model_augmented.pt\n"
     ]
    },
    {
     "data": {
      "image/png": "[encoded data removed]",
      "text/plain": [
       "<Figure size 1200x400 with 2 Axes>"
      ]
     },
     "metadata": {},
     "output_type": "display_data"
    },
    {
     "data": {
      "text/plain": [
       "<All keys matched successfully>"
      ]
     },
     "execution_count": 35,
     "metadata": {},
     "output_type": "execute_result"
    }
   ],
   "source": [
    "import torch\n",
    "import torch.nn as nn\n",
    "import numpy as np\n",
    "import pandas as pd\n",
    "from torch.utils.data import Dataset, DataLoader\n",
    "from transformers import AutoTokenizer, AutoModel, get_scheduler\n",
    "from sklearn.metrics import f1_score\n",
    "import matplotlib.pyplot as plt\n",
    "from tqdm import tqdm\n",
    "\n",
    "MODEL_NAME = \"DeepPavlov/rubert-base-cased\"\n",
    "MAX_LEN = 128\n",
    "BATCH_SIZE = 16\n",
    "EPOCHS = 5\n",
    "LR = 2e-5\n",
    "PATIENCE = 2\n",
    "MODEL_PATH = \"best_bert_model_augmented.pt\"\n",
    "device = torch.device(\"cuda\" if torch.cuda.is_available() else \"cpu\")\n",
    "\n",
    "X_train_augmented = list(X_train_augmented)\n",
    "X_val = list(X_val)\n",
    "y_train_augmented = y_train_augmented.astype(np.float32)\n",
    "y_val_np = y_val.astype(np.float32).values\n",
    "NUM_CLASSES = y_train_augmented.shape[1]\n",
    "\n",
    "tokenizer = AutoTokenizer.from_pretrained(MODEL_NAME)\n",
    "\n",
    "class TextDataset(Dataset):\n",
    "    def __init__(self, texts, labels):\n",
    "        self.encodings = tokenizer(\n",
    "            texts,\n",
    "            truncation=True,\n",
    "            padding='max_length',\n",
    "            max_length=MAX_LEN,\n",
    "            return_tensors='pt'\n",
    "        )\n",
    "        self.labels = torch.tensor(labels, dtype=torch.float32)\n",
    "\n",
    "    def __len__(self):\n",
    "        return len(self.labels)\n",
    "\n",
    "    def __getitem__(self, idx):\n",
    "        item = {key: val[idx] for key, val in self.encodings.items()}\n",
    "        item['labels'] = self.labels[idx]\n",
    "        return item\n",
    "\n",
    "train_dataset_aug = TextDataset(X_train_augmented, y_train_augmented)\n",
    "val_dataset = TextDataset(X_val, y_val_np)\n",
    "\n",
    "train_loader_aug = DataLoader(train_dataset_aug, batch_size=BATCH_SIZE, shuffle=True)\n",
    "val_loader = DataLoader(val_dataset, batch_size=BATCH_SIZE)\n",
    "\n",
    "class BERTClassifier(nn.Module):\n",
    "    def __init__(self, model_name, num_labels):\n",
    "        super().__init__()\n",
    "        self.bert = AutoModel.from_pretrained(model_name)\n",
    "        self.dropout = nn.Dropout(0.3)\n",
    "        self.classifier = nn.Linear(self.bert.config.hidden_size, num_labels)\n",
    "\n",
    "    def forward(self, input_ids, attention_mask):\n",
    "        outputs = self.bert(input_ids=input_ids, attention_mask=attention_mask)\n",
    "        pooled_output = outputs.pooler_output\n",
    "        x = self.dropout(pooled_output)\n",
    "        return self.classifier(x)\n",
    "\n",
    "model = BERTClassifier(MODEL_NAME, NUM_CLASSES).to(device)\n",
    "\n",
    "criterion = nn.BCEWithLogitsLoss()\n",
    "optimizer = torch.optim.AdamW(model.parameters(), lr=LR)\n",
    "lr_scheduler = get_scheduler(\n",
    "    \"linear\",\n",
    "    optimizer=optimizer,\n",
    "    num_warmup_steps=0,\n",
    "    num_training_steps=EPOCHS * len(train_loader_aug)\n",
    ")\n",
    "\n",
    "train_losses, val_losses, val_f1s = [], [], []\n",
    "best_f1 = 0\n",
    "epochs_no_improve = 0\n",
    "\n",
    "for epoch in range(EPOCHS):\n",
    "    model.train()\n",
    "    running_loss = 0\n",
    "    for batch in tqdm(train_loader_aug, desc=f\"Epoch {epoch + 1}\"):\n",
    "        input_ids = batch[\"input_ids\"].to(device)\n",
    "        attention_mask = batch[\"attention_mask\"].to(device)\n",
    "        labels = batch[\"labels\"].to(device)\n",
    "\n",
    "        optimizer.zero_grad()\n",
    "        outputs = model(input_ids=input_ids, attention_mask=attention_mask)\n",
    "        loss = criterion(outputs, labels)\n",
    "        loss.backward()\n",
    "        optimizer.step()\n",
    "        lr_scheduler.step()\n",
    "        running_loss += loss.item()\n",
    "\n",
    "    train_loss = running_loss / len(train_loader_aug)\n",
    "    train_losses.append(train_loss)\n",
    "\n",
    "    model.eval()\n",
    "    val_loss = 0\n",
    "    all_preds, all_labels = [], []\n",
    "    with torch.no_grad():\n",
    "        for batch in val_loader:\n",
    "            input_ids = batch[\"input_ids\"].to(device)\n",
    "            attention_mask = batch[\"attention_mask\"].to(device)\n",
    "            labels = batch[\"labels\"].to(device)\n",
    "\n",
    "            outputs = model(input_ids=input_ids, attention_mask=attention_mask)\n",
    "            loss = criterion(outputs, labels)\n",
    "            val_loss += loss.item()\n",
    "            all_preds.append(torch.sigmoid(outputs).cpu().numpy())\n",
    "            all_labels.append(labels.cpu().numpy())\n",
    "\n",
    "    val_loss /= len(val_loader)\n",
    "    val_losses.append(val_loss)\n",
    "    preds = np.vstack(all_preds) > 0.5\n",
    "    targets = np.vstack(all_labels)\n",
    "    val_f1 = f1_score(targets, preds, average='macro')\n",
    "    val_f1s.append(val_f1)\n",
    "\n",
    "    print(f\"Epoch {epoch+1} | Train Loss: {train_loss:.4f} | Val Loss: {val_loss:.4f} | Val F1: {val_f1:.4f}\")\n",
    "\n",
    "    if val_f1 > best_f1:\n",
    "        best_f1 = val_f1\n",
    "        torch.save(model.state_dict(), MODEL_PATH)\n",
    "        print(f\"✅ Best model saved to {MODEL_PATH}\")\n",
    "        epochs_no_improve = 0\n",
    "    else:\n",
    "        epochs_no_improve += 1\n",
    "        if epochs_no_improve >= PATIENCE:\n",
    "            print(\"🛑 Early stopping.\")\n",
    "            break\n",
    "\n",
    "plt.figure(figsize=(12, 4))\n",
    "plt.subplot(1, 2, 1)\n",
    "plt.plot(train_losses, label=\"Train Loss\")\n",
    "plt.plot(val_losses, label=\"Val Loss\")\n",
    "plt.legend()\n",
    "plt.title(\"Loss Curve\")\n",
    "\n",
    "plt.subplot(1, 2, 2)\n",
    "plt.plot(val_f1s, label=\"Val F1\")\n",
    "plt.legend()\n",
    "plt.title(\"F1 Score Curve\")\n",
    "plt.show()\n",
    "\n",
    "model.load_state_dict(torch.load(MODEL_PATH))"
   ]
  },
  {
   "cell_type": "markdown",
   "metadata": {
    "id": "DMaG2xI0IRJQ"
   },
   "source": [
    "результаты с добавлением сгенерированных текстов стали чуть хуже (разница менее 1%). Это может быть связано с тем, что сгенерированные данные были менее разнообразны, чем реальные, и ухудшили обобщающую способность модели. Возможным объяснением также может быть изменение распределения признаков и меток, потому что изначально классы были сильно несбалансированными (очень мало представителей 5 и 6)"
   ]
  },
  {
   "cell_type": "markdown",
   "metadata": {
    "id": "kbxORIoYJxac"
   },
   "source": [
    "# Модель для загрузки на кагл"
   ]
  },
  {
   "cell_type": "markdown",
   "metadata": {
    "id": "ocepUrOyJ2vN"
   },
   "source": [
    "Лучше всего себя показала bert модель с подбором трешхолдов. Далее продублирован весь код, который нужен для обучения и загрузки результатов"
   ]
  },
  {
   "cell_type": "code",
   "execution_count": null,
   "metadata": {
    "id": "pGvnPQmgJ16D"
   },
   "outputs": [],
   "source": [
    "from google.colab import drive\n",
    "drive.mount('/content/drive')"
   ]
  },
  {
   "cell_type": "code",
   "execution_count": null,
   "metadata": {
    "id": "27fd2quDKH5k"
   },
   "outputs": [],
   "source": [
    "import zipfile\n",
    "import os\n",
    "\n",
    "zip_path = '/content/drive/MyDrive/dl-2025-study-competition-2.zip'\n",
    "extract_path = '/content/data'\n",
    "\n",
    "with zipfile.ZipFile(zip_path, 'r') as zip_ref:\n",
    "    zip_ref.extractall(extract_path)\n",
    "\n",
    "os.listdir(extract_path)"
   ]
  },
  {
   "cell_type": "code",
   "execution_count": null,
   "metadata": {
    "id": "pbABZcAkKH3e"
   },
   "outputs": [],
   "source": [
    "import pandas as pd\n",
    "import numpy as np\n",
    "import torch\n",
    "import torch.nn as nn\n",
    "from torch.utils.data import Dataset, DataLoader\n",
    "from sklearn.model_selection import train_test_split\n",
    "from sklearn.feature_extraction.text import TfidfVectorizer\n",
    "from sklearn.metrics import f1_score\n",
    "import matplotlib.pyplot as plt\n",
    "import copy\n",
    "import re\n",
    "import nltk\n",
    "from nltk.corpus import stopwords\n",
    "from nltk.stem import SnowballStemme\n",
    "import pandas as pd\n",
    "\n",
    "df = pd.read_csv('/content/data/train.csv')\n",
    "df['label_vector'] = df['labels'].apply(lambda x: list(map(int, x.strip().split())))\n",
    "label_matrix = np.array(df['label_vector'].tolist())\n",
    "class_counts = label_matrix.sum(axis=0)\n",
    "text_column = 'text'\n",
    "target_columns = [col for col in df.columns if col != text_column]\n"
   ]
  },
  {
   "cell_type": "code",
   "execution_count": null,
   "metadata": {
    "id": "nQOnRpVyKH1p"
   },
   "outputs": [],
   "source": [
    "import torch\n",
    "import torch.nn as nn\n",
    "import numpy as np\n",
    "import pandas as pd\n",
    "from torch.utils.data import Dataset, DataLoader\n",
    "from transformers import AutoTokenizer, AutoModel, get_scheduler\n",
    "from sklearn.metrics import f1_score\n",
    "import matplotlib.pyplot as plt\n",
    "from tqdm import tqdm\n",
    "\n",
    "MODEL_NAME = \"DeepPavlov/rubert-base-cased\"\n",
    "MAX_LEN = 128\n",
    "BATCH_SIZE = 16\n",
    "EPOCHS = 7\n",
    "LR = 2e-5\n",
    "PATIENCE = 2\n",
    "MODEL_PATH = \"best_bert_model_tr.pt\"\n",
    "device = torch.device(\"cuda\" if torch.cuda.is_available() else \"cpu\")\n",
    "\n",
    "X_train = list(X_train)\n",
    "X_val = list(X_val)\n",
    "y_train_np = y_train.values.astype(np.float32)\n",
    "y_val_np = y_val.values.astype(np.float32)\n",
    "NUM_CLASSES = y_train.shape[1]\n",
    "\n",
    "tokenizer = AutoTokenizer.from_pretrained(MODEL_NAME)\n",
    "\n",
    "class TextDataset(Dataset):\n",
    "    def __init__(self, texts, labels):\n",
    "        self.encodings = tokenizer(\n",
    "            texts,\n",
    "            truncation=True,\n",
    "            padding='max_length',\n",
    "            max_length=MAX_LEN,\n",
    "            return_tensors='pt'\n",
    "        )\n",
    "        self.labels = torch.tensor(labels, dtype=torch.float32)\n",
    "\n",
    "    def __len__(self):\n",
    "        return len(self.labels)\n",
    "\n",
    "    def __getitem__(self, idx):\n",
    "        item = {key: val[idx] for key, val in self.encodings.items()}\n",
    "        item['labels'] = self.labels[idx]\n",
    "        return item\n",
    "\n",
    "train_dataset = TextDataset(X_train, y_train_np)\n",
    "val_dataset = TextDataset(X_val, y_val_np)\n",
    "\n",
    "train_loader = DataLoader(train_dataset, batch_size=BATCH_SIZE, shuffle=True)\n",
    "val_loader = DataLoader(val_dataset, batch_size=BATCH_SIZE)\n",
    "\n",
    "class BERTClassifier(nn.Module):\n",
    "    def __init__(self, model_name, num_labels):\n",
    "        super().__init__()\n",
    "        self.bert = AutoModel.from_pretrained(model_name)\n",
    "        self.dropout = nn.Dropout(0.3)\n",
    "        self.classifier = nn.Linear(self.bert.config.hidden_size, num_labels)\n",
    "\n",
    "    def forward(self, input_ids, attention_mask):\n",
    "        outputs = self.bert(input_ids=input_ids, attention_mask=attention_mask)\n",
    "        pooled_output = outputs.pooler_output\n",
    "        x = self.dropout(pooled_output)\n",
    "        return self.classifier(x)\n",
    "\n",
    "model = BERTClassifier(MODEL_NAME, NUM_CLASSES).to(device)\n",
    "\n",
    "criterion = nn.BCEWithLogitsLoss()\n",
    "optimizer = torch.optim.AdamW(model.parameters(), lr=LR)\n",
    "lr_scheduler = get_scheduler(\n",
    "    \"linear\", optimizer=optimizer,\n",
    "    num_warmup_steps=0,\n",
    "    num_training_steps=EPOCHS * len(train_loader)\n",
    ")\n",
    "\n",
    "train_losses, val_losses, val_f1s = [], [], []\n",
    "best_f1 = 0\n",
    "epochs_no_improve = 0\n",
    "\n",
    "for epoch in range(EPOCHS):\n",
    "    model.train()\n",
    "    running_loss = 0\n",
    "    for batch in tqdm(train_loader, desc=f\"Epoch {epoch + 1}\"):\n",
    "        input_ids = batch[\"input_ids\"].to(device)\n",
    "        attention_mask = batch[\"attention_mask\"].to(device)\n",
    "        labels = batch[\"labels\"].to(device)\n",
    "\n",
    "        optimizer.zero_grad()\n",
    "        outputs = model(input_ids=input_ids, attention_mask=attention_mask)\n",
    "        loss = criterion(outputs, labels)\n",
    "        loss.backward()\n",
    "        optimizer.step()\n",
    "        lr_scheduler.step()\n",
    "        running_loss += loss.item()\n",
    "\n",
    "    train_loss = running_loss / len(train_loader)\n",
    "    train_losses.append(train_loss)\n",
    "\n",
    "    model.eval()\n",
    "    val_loss = 0\n",
    "    all_preds, all_labels = [], []\n",
    "    with torch.no_grad():\n",
    "        for batch in val_loader:\n",
    "            input_ids = batch[\"input_ids\"].to(device)\n",
    "            attention_mask = batch[\"attention_mask\"].to(device)\n",
    "            labels = batch[\"labels\"].to(device)\n",
    "\n",
    "            outputs = model(input_ids=input_ids, attention_mask=attention_mask)\n",
    "            loss = criterion(outputs, labels)\n",
    "            val_loss += loss.item()\n",
    "            all_preds.append(torch.sigmoid(outputs).cpu().numpy())\n",
    "            all_labels.append(labels.cpu().numpy())\n",
    "\n",
    "    val_loss /= len(val_loader)\n",
    "    val_losses.append(val_loss)\n",
    "    preds = np.vstack(all_preds) > 0.5\n",
    "    targets = np.vstack(all_labels)\n",
    "    val_f1 = f1_score(targets, preds, average='macro')\n",
    "    val_f1s.append(val_f1)\n",
    "\n",
    "    print(f\"Epoch {epoch+1} | Train Loss: {train_loss:.4f} | Val Loss: {val_loss:.4f} | Val F1: {val_f1:.4f}\")\n",
    "    best_thresholds = []\n",
    "    for class_idx in range(NUM_CLASSES):\n",
    "        best_thresh = 0.5\n",
    "        best_class_f1 = 0\n",
    "        for t in np.linspace(0.1, 0.9, 17):\n",
    "            pred_class = (np.vstack(all_preds)[:, class_idx] > t).astype(int)\n",
    "            true_class = np.vstack(all_labels)[:, class_idx]\n",
    "            score = f1_score(true_class, pred_class, zero_division=0)\n",
    "            if score > best_class_f1:\n",
    "                best_class_f1 = score\n",
    "                best_thresh = t\n",
    "        best_thresholds.append(best_thresh)\n",
    "\n",
    "    adjusted_preds = (np.vstack(all_preds) > best_thresholds).astype(int)\n",
    "    val_f1 = f1_score(np.vstack(all_labels), adjusted_preds, average='macro')\n",
    "    if val_f1 > best_f1:\n",
    "      best_f1 = val_f1\n",
    "      torch.save({\n",
    "        'model_state_dict': model.state_dict(),\n",
    "        'best_thresholds': best_thresholds\n",
    "      }, MODEL_PATH)\n",
    "      drive_path = \"/content/drive/MyDrive/best_bert_model_tr.pt\"\n",
    "      torch.save(model.state_dict(), drive_path)\n",
    "      print(f\"✅ Best model saved to:\\n - {MODEL_PATH}\\n - {drive_path}\")\n",
    "      epochs_no_improve = 0\n",
    "    else:\n",
    "        epochs_no_improve += 1\n",
    "        if epochs_no_improve >= PATIENCE:\n",
    "            print(\"🛑 Early stopping.\")\n",
    "            break\n",
    "\n",
    "plt.figure(figsize=(12, 4))\n",
    "plt.subplot(1, 2, 1)\n",
    "plt.plot(train_losses, label=\"Train Loss\")\n",
    "plt.plot(val_losses, label=\"Val Loss\")\n",
    "plt.legend()\n",
    "plt.title(\"Loss Curve\")\n",
    "\n",
    "plt.subplot(1, 2, 2)\n",
    "plt.plot(val_f1s, label=\"Val F1\")\n",
    "plt.legend()\n",
    "plt.title(\"F1 Score Curve\")\n",
    "plt.show()\n",
    "\n",
    "model.load_state_dict(torch.load(MODEL_PATH))"
   ]
  },
  {
   "cell_type": "code",
   "execution_count": null,
   "metadata": {
    "id": "qRYLmDX-KHzy"
   },
   "outputs": [],
   "source": [
    "test_df = pd.read_csv(\"/content/data/test.csv\")\n",
    "submission_df = pd.read_csv(\"/content/data/sample_submission.csv\")\n",
    "\n",
    "test_df[\"id\"] = test_df[\"id\"].astype(int)\n",
    "submission_df[\"id\"] = submission_df[\"id\"].astype(int)\n",
    "\n",
    "\n",
    "model.eval()\n",
    "test_texts = test_df[\"text\"].tolist()\n",
    "\n",
    "test_dataset = TextDataset(test_texts, np.zeros((len(test_texts), NUM_CLASSES)))  # пустые метки\n",
    "test_loader = DataLoader(test_dataset, batch_size=BATCH_SIZE)\n",
    "\n",
    "all_preds = []\n",
    "with torch.no_grad():\n",
    "    for batch in tqdm(test_loader, desc=\"Predicting\"):\n",
    "        input_ids = batch[\"input_ids\"].to(device)\n",
    "        attention_mask = batch[\"attention_mask\"].to(device)\n",
    "\n",
    "        logits = model(input_ids=input_ids, attention_mask=attention_mask)\n",
    "        probs = torch.sigmoid(logits).cpu().numpy()\n",
    "\n",
    "        preds = (probs > best_thresholds).astype(int)\n",
    "\n",
    "        all_preds.extend(preds)\n",
    "\n",
    "pred_labels = [\" \".join(map(str, row)) for row in all_preds]\n",
    "\n",
    "final_df = pd.DataFrame({\n",
    "    \"id\": test_df[\"id\"],\n",
    "    \"labels\": pred_labels\n",
    "})\n",
    "\n",
    "submission = submission_df.drop(columns=[\"labels\"]).merge(final_df, on=\"id\", how=\"left\")\n",
    "\n",
    "submission.to_csv(\"submission.csv\", index=False)\n",
    "print(\"✅ submission.csv сохранён корректно и готов к отправке.\")"
   ]
  },
  {
   "cell_type": "code",
   "execution_count": null,
   "metadata": {
    "id": "9a9LTw1xKHrq"
   },
   "outputs": [],
   "source": []
  }
 ],
 "metadata": {
  "accelerator": "GPU",
  "colab": {
   "gpuType": "T4",
   "provenance": [],
   "toc_visible": true
  },
  "kernelspec": {
   "display_name": "Python 3",
   "name": "python3"
  },
  "language_info": {
   "name": "python"
  }
 },
 "nbformat": 4,
 "nbformat_minor": 0
}
